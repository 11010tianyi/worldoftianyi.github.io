{
 "cells": [
  {
   "cell_type": "markdown",
   "metadata": {},
   "source": [
    "## 入门pandas【解读pandas官方文档】 \n",
    "\n",
    "前言\n",
    "\n",
    "其实，学习Python很好的方法是去看官方文档。\n",
    "\n",
    "有人会说，我零基础，看不懂啊！\n",
    "\n",
    "也有人会说，我英语差，看不懂啊！！\n",
    "\n",
    "还有人会说，我想学实战案例，不想看的这么详细！！！\n",
    "\n",
    "\n",
    "是的，官方文档说的面面俱到，像是查字典似的，对于初学者是很不友善的\n",
    "\n",
    "所以大部分人选择了:拒绝！\n",
    "\n",
    "其实，我以前也是不看官方文档的，但有些问题百度不到，看的书里没讲到，那我就被迫去看官方文档了\n",
    "\n",
    "此举给我打开了学习Python的一扇窗\n",
    "\n",
    "我发现，官方文档其实有很多例子和入门学习内容，比如我们今天要说的\n",
    "\n",
    "## # 十分钟入门Pandas\n",
    "\n",
    "更多用法可以看它的cookbook：http://pandas.pydata.org/pandas-docs/stable/cookbook.html#cookbook\n",
    "\n",
    "手册速查：https://zhuanlan.zhihu.com/p/25630700"
   ]
  },
  {
   "cell_type": "code",
   "execution_count": 1,
   "metadata": {
    "collapsed": true
   },
   "outputs": [],
   "source": [
    "# 导入模块\n",
    "import pandas as pd\n",
    "import numpy as np\n",
    "import matplotlib.pyplot as plt\n",
    "#这分别导入了pandas、numpy包 和 matplotlib 包中的 pyplot 模块 "
   ]
  },
  {
   "cell_type": "markdown",
   "metadata": {},
   "source": [
    "### 创建对象\n",
    "\n",
    "请参见“数据结构简介”部分：http://pandas.pydata.org/pandas-docs/version/0.20/dsintro.html#dsintro"
   ]
  },
  {
   "cell_type": "code",
   "execution_count": 2,
   "metadata": {
    "collapsed": false
   },
   "outputs": [
    {
     "data": {
      "text/plain": [
       "0    1.0\n",
       "1    3.0\n",
       "2    5.0\n",
       "3    NaN\n",
       "4    6.0\n",
       "5    8.0\n",
       "dtype: float64"
      ]
     },
     "execution_count": 2,
     "metadata": {},
     "output_type": "execute_result"
    }
   ],
   "source": [
    "#通过一个列表的值创建一个系列，让pandas创建一个默认的整数索引：\n",
    "s = pd.Series([1,3,5,np.nan,6,8])\n",
    "s  #注意：np.nan表示不存在"
   ]
  },
  {
   "cell_type": "code",
   "execution_count": 3,
   "metadata": {
    "collapsed": false
   },
   "outputs": [
    {
     "data": {
      "text/plain": [
       "DatetimeIndex(['2013-01-01', '2013-01-02', '2013-01-03', '2013-01-04',\n",
       "               '2013-01-05', '2013-01-06'],\n",
       "              dtype='datetime64[ns]', freq='D')"
      ]
     },
     "execution_count": 3,
     "metadata": {},
     "output_type": "execute_result"
    }
   ],
   "source": [
    "#通过numpy创建的数组，可以创建一个pandas中特有的dataframe，使用datetime作为索引和标记列名。\n",
    "dates = pd.date_range('20130101', periods=6)\n",
    "dates\n",
    "#这里的date_range()是pandas下的一个方法，可以在jupyter notebook下使用如下方法查看使用说明：\n",
    "#?pd.date_range()\n",
    "#我们可以看到这个方法的使用说明和各个参数的作用\n",
    "#看到这个方法是返回固定频率日期时间索引，返回连续的六个日期信息"
   ]
  },
  {
   "cell_type": "code",
   "execution_count": 4,
   "metadata": {
    "collapsed": false
   },
   "outputs": [
    {
     "data": {
      "text/html": [
       "<div>\n",
       "<table border=\"1\" class=\"dataframe\">\n",
       "  <thead>\n",
       "    <tr style=\"text-align: right;\">\n",
       "      <th></th>\n",
       "      <th>A</th>\n",
       "      <th>B</th>\n",
       "      <th>C</th>\n",
       "      <th>D</th>\n",
       "    </tr>\n",
       "  </thead>\n",
       "  <tbody>\n",
       "    <tr>\n",
       "      <th>2013-01-01</th>\n",
       "      <td>-1.703983</td>\n",
       "      <td>0.557363</td>\n",
       "      <td>-0.081021</td>\n",
       "      <td>1.114630</td>\n",
       "    </tr>\n",
       "    <tr>\n",
       "      <th>2013-01-02</th>\n",
       "      <td>-1.012761</td>\n",
       "      <td>0.012988</td>\n",
       "      <td>-0.345846</td>\n",
       "      <td>-0.537505</td>\n",
       "    </tr>\n",
       "    <tr>\n",
       "      <th>2013-01-03</th>\n",
       "      <td>-1.892182</td>\n",
       "      <td>1.848365</td>\n",
       "      <td>1.182733</td>\n",
       "      <td>0.051671</td>\n",
       "    </tr>\n",
       "    <tr>\n",
       "      <th>2013-01-04</th>\n",
       "      <td>1.980916</td>\n",
       "      <td>-1.072174</td>\n",
       "      <td>-0.410039</td>\n",
       "      <td>-0.112108</td>\n",
       "    </tr>\n",
       "    <tr>\n",
       "      <th>2013-01-05</th>\n",
       "      <td>-0.163472</td>\n",
       "      <td>0.682573</td>\n",
       "      <td>0.669757</td>\n",
       "      <td>1.318063</td>\n",
       "    </tr>\n",
       "    <tr>\n",
       "      <th>2013-01-06</th>\n",
       "      <td>1.403645</td>\n",
       "      <td>-0.238608</td>\n",
       "      <td>-1.397091</td>\n",
       "      <td>-2.045036</td>\n",
       "    </tr>\n",
       "  </tbody>\n",
       "</table>\n",
       "</div>"
      ],
      "text/plain": [
       "                   A         B         C         D\n",
       "2013-01-01 -1.703983  0.557363 -0.081021  1.114630\n",
       "2013-01-02 -1.012761  0.012988 -0.345846 -0.537505\n",
       "2013-01-03 -1.892182  1.848365  1.182733  0.051671\n",
       "2013-01-04  1.980916 -1.072174 -0.410039 -0.112108\n",
       "2013-01-05 -0.163472  0.682573  0.669757  1.318063\n",
       "2013-01-06  1.403645 -0.238608 -1.397091 -2.045036"
      ]
     },
     "execution_count": 4,
     "metadata": {},
     "output_type": "execute_result"
    }
   ],
   "source": [
    "df = pd.DataFrame(np.random.randn(6,4), index=dates, columns=list('ABCD'))\n",
    "df\n",
    "#?np.random.randn()\n",
    "\n",
    "#np.random.randn(6,4)是生成6行4列的标准正态分布数据\n",
    "#注：这里使用ABCD为列标签，之前生成的日期序列为行标签，6行4列标准正态分布数据为内容的dataframe"
   ]
  },
  {
   "cell_type": "code",
   "execution_count": 5,
   "metadata": {
    "collapsed": false
   },
   "outputs": [
    {
     "data": {
      "text/html": [
       "<div>\n",
       "<table border=\"1\" class=\"dataframe\">\n",
       "  <thead>\n",
       "    <tr style=\"text-align: right;\">\n",
       "      <th></th>\n",
       "      <th>A</th>\n",
       "      <th>B</th>\n",
       "      <th>C</th>\n",
       "      <th>D</th>\n",
       "      <th>E</th>\n",
       "      <th>F</th>\n",
       "    </tr>\n",
       "  </thead>\n",
       "  <tbody>\n",
       "    <tr>\n",
       "      <th>0</th>\n",
       "      <td>1.0</td>\n",
       "      <td>2013-01-02</td>\n",
       "      <td>1.0</td>\n",
       "      <td>3</td>\n",
       "      <td>test</td>\n",
       "      <td>foo</td>\n",
       "    </tr>\n",
       "    <tr>\n",
       "      <th>1</th>\n",
       "      <td>1.0</td>\n",
       "      <td>2013-01-02</td>\n",
       "      <td>1.0</td>\n",
       "      <td>3</td>\n",
       "      <td>train</td>\n",
       "      <td>foo</td>\n",
       "    </tr>\n",
       "    <tr>\n",
       "      <th>2</th>\n",
       "      <td>1.0</td>\n",
       "      <td>2013-01-02</td>\n",
       "      <td>1.0</td>\n",
       "      <td>3</td>\n",
       "      <td>test</td>\n",
       "      <td>foo</td>\n",
       "    </tr>\n",
       "    <tr>\n",
       "      <th>3</th>\n",
       "      <td>1.0</td>\n",
       "      <td>2013-01-02</td>\n",
       "      <td>1.0</td>\n",
       "      <td>3</td>\n",
       "      <td>train</td>\n",
       "      <td>foo</td>\n",
       "    </tr>\n",
       "  </tbody>\n",
       "</table>\n",
       "</div>"
      ],
      "text/plain": [
       "     A          B    C  D      E    F\n",
       "0  1.0 2013-01-02  1.0  3   test  foo\n",
       "1  1.0 2013-01-02  1.0  3  train  foo\n",
       "2  1.0 2013-01-02  1.0  3   test  foo\n",
       "3  1.0 2013-01-02  1.0  3  train  foo"
      ]
     },
     "execution_count": 5,
     "metadata": {},
     "output_type": "execute_result"
    }
   ],
   "source": [
    "#使用字典来创建dataframe\n",
    "df2 = pd.DataFrame({ 'A' : 1.,\n",
    "                     'B' : pd.Timestamp('20130102'),\n",
    "                     'C' : pd.Series(1,index=list(range(4)),dtype='float32'),\n",
    "                     'D' : np.array([3] * 4,dtype='int32'),\n",
    "                     'E' : pd.Categorical([\"test\",\"train\",\"test\",\"train\"]),\n",
    "                     'F' : 'foo' })\n",
    "df2"
   ]
  },
  {
   "cell_type": "code",
   "execution_count": 10,
   "metadata": {
    "collapsed": false
   },
   "outputs": [
    {
     "data": {
      "text/plain": [
       "A           float64\n",
       "B    datetime64[ns]\n",
       "C           float32\n",
       "D             int32\n",
       "E          category\n",
       "F            object\n",
       "dtype: object"
      ]
     },
     "execution_count": 10,
     "metadata": {},
     "output_type": "execute_result"
    }
   ],
   "source": [
    "#查看dataframe的类型信息\n",
    "df2.dtypes"
   ]
  },
  {
   "cell_type": "markdown",
   "metadata": {},
   "source": [
    "### 查看数据\n",
    "\n",
    "更多内容请参阅基础部分：http://pandas.pydata.org/pandas-docs/version/0.20/basics.html#basics\n",
    "\n",
    "查看dataframe顶部和底部的行（默认五行）"
   ]
  },
  {
   "cell_type": "code",
   "execution_count": 11,
   "metadata": {
    "collapsed": false
   },
   "outputs": [
    {
     "data": {
      "text/html": [
       "<div>\n",
       "<table border=\"1\" class=\"dataframe\">\n",
       "  <thead>\n",
       "    <tr style=\"text-align: right;\">\n",
       "      <th></th>\n",
       "      <th>A</th>\n",
       "      <th>B</th>\n",
       "      <th>C</th>\n",
       "      <th>D</th>\n",
       "    </tr>\n",
       "  </thead>\n",
       "  <tbody>\n",
       "    <tr>\n",
       "      <th>2013-01-01</th>\n",
       "      <td>-0.041022</td>\n",
       "      <td>0.215674</td>\n",
       "      <td>-0.363168</td>\n",
       "      <td>-0.503140</td>\n",
       "    </tr>\n",
       "    <tr>\n",
       "      <th>2013-01-02</th>\n",
       "      <td>0.784612</td>\n",
       "      <td>-1.128158</td>\n",
       "      <td>-1.399327</td>\n",
       "      <td>-0.118351</td>\n",
       "    </tr>\n",
       "    <tr>\n",
       "      <th>2013-01-03</th>\n",
       "      <td>-0.321624</td>\n",
       "      <td>0.230828</td>\n",
       "      <td>-0.579380</td>\n",
       "      <td>-0.299381</td>\n",
       "    </tr>\n",
       "    <tr>\n",
       "      <th>2013-01-04</th>\n",
       "      <td>0.978000</td>\n",
       "      <td>0.336666</td>\n",
       "      <td>-0.174605</td>\n",
       "      <td>-1.100408</td>\n",
       "    </tr>\n",
       "    <tr>\n",
       "      <th>2013-01-05</th>\n",
       "      <td>-0.903347</td>\n",
       "      <td>0.581018</td>\n",
       "      <td>0.768395</td>\n",
       "      <td>-0.297108</td>\n",
       "    </tr>\n",
       "  </tbody>\n",
       "</table>\n",
       "</div>"
      ],
      "text/plain": [
       "                   A         B         C         D\n",
       "2013-01-01 -0.041022  0.215674 -0.363168 -0.503140\n",
       "2013-01-02  0.784612 -1.128158 -1.399327 -0.118351\n",
       "2013-01-03 -0.321624  0.230828 -0.579380 -0.299381\n",
       "2013-01-04  0.978000  0.336666 -0.174605 -1.100408\n",
       "2013-01-05 -0.903347  0.581018  0.768395 -0.297108"
      ]
     },
     "execution_count": 11,
     "metadata": {},
     "output_type": "execute_result"
    }
   ],
   "source": [
    "df.head()#查看默认前五行"
   ]
  },
  {
   "cell_type": "code",
   "execution_count": 12,
   "metadata": {
    "collapsed": false
   },
   "outputs": [
    {
     "data": {
      "text/html": [
       "<div>\n",
       "<table border=\"1\" class=\"dataframe\">\n",
       "  <thead>\n",
       "    <tr style=\"text-align: right;\">\n",
       "      <th></th>\n",
       "      <th>A</th>\n",
       "      <th>B</th>\n",
       "      <th>C</th>\n",
       "      <th>D</th>\n",
       "    </tr>\n",
       "  </thead>\n",
       "  <tbody>\n",
       "    <tr>\n",
       "      <th>2013-01-02</th>\n",
       "      <td>0.784612</td>\n",
       "      <td>-1.128158</td>\n",
       "      <td>-1.399327</td>\n",
       "      <td>-0.118351</td>\n",
       "    </tr>\n",
       "    <tr>\n",
       "      <th>2013-01-03</th>\n",
       "      <td>-0.321624</td>\n",
       "      <td>0.230828</td>\n",
       "      <td>-0.579380</td>\n",
       "      <td>-0.299381</td>\n",
       "    </tr>\n",
       "    <tr>\n",
       "      <th>2013-01-04</th>\n",
       "      <td>0.978000</td>\n",
       "      <td>0.336666</td>\n",
       "      <td>-0.174605</td>\n",
       "      <td>-1.100408</td>\n",
       "    </tr>\n",
       "    <tr>\n",
       "      <th>2013-01-05</th>\n",
       "      <td>-0.903347</td>\n",
       "      <td>0.581018</td>\n",
       "      <td>0.768395</td>\n",
       "      <td>-0.297108</td>\n",
       "    </tr>\n",
       "    <tr>\n",
       "      <th>2013-01-06</th>\n",
       "      <td>0.875284</td>\n",
       "      <td>0.829356</td>\n",
       "      <td>0.653218</td>\n",
       "      <td>-0.199830</td>\n",
       "    </tr>\n",
       "  </tbody>\n",
       "</table>\n",
       "</div>"
      ],
      "text/plain": [
       "                   A         B         C         D\n",
       "2013-01-02  0.784612 -1.128158 -1.399327 -0.118351\n",
       "2013-01-03 -0.321624  0.230828 -0.579380 -0.299381\n",
       "2013-01-04  0.978000  0.336666 -0.174605 -1.100408\n",
       "2013-01-05 -0.903347  0.581018  0.768395 -0.297108\n",
       "2013-01-06  0.875284  0.829356  0.653218 -0.199830"
      ]
     },
     "execution_count": 12,
     "metadata": {},
     "output_type": "execute_result"
    }
   ],
   "source": [
    "df.tail()#查看默认后五行"
   ]
  },
  {
   "cell_type": "code",
   "execution_count": 13,
   "metadata": {
    "collapsed": false
   },
   "outputs": [
    {
     "data": {
      "text/html": [
       "<div>\n",
       "<table border=\"1\" class=\"dataframe\">\n",
       "  <thead>\n",
       "    <tr style=\"text-align: right;\">\n",
       "      <th></th>\n",
       "      <th>A</th>\n",
       "      <th>B</th>\n",
       "      <th>C</th>\n",
       "      <th>D</th>\n",
       "    </tr>\n",
       "  </thead>\n",
       "  <tbody>\n",
       "    <tr>\n",
       "      <th>2013-01-01</th>\n",
       "      <td>-0.041022</td>\n",
       "      <td>0.215674</td>\n",
       "      <td>-0.363168</td>\n",
       "      <td>-0.503140</td>\n",
       "    </tr>\n",
       "    <tr>\n",
       "      <th>2013-01-02</th>\n",
       "      <td>0.784612</td>\n",
       "      <td>-1.128158</td>\n",
       "      <td>-1.399327</td>\n",
       "      <td>-0.118351</td>\n",
       "    </tr>\n",
       "    <tr>\n",
       "      <th>2013-01-03</th>\n",
       "      <td>-0.321624</td>\n",
       "      <td>0.230828</td>\n",
       "      <td>-0.579380</td>\n",
       "      <td>-0.299381</td>\n",
       "    </tr>\n",
       "  </tbody>\n",
       "</table>\n",
       "</div>"
      ],
      "text/plain": [
       "                   A         B         C         D\n",
       "2013-01-01 -0.041022  0.215674 -0.363168 -0.503140\n",
       "2013-01-02  0.784612 -1.128158 -1.399327 -0.118351\n",
       "2013-01-03 -0.321624  0.230828 -0.579380 -0.299381"
      ]
     },
     "execution_count": 13,
     "metadata": {},
     "output_type": "execute_result"
    }
   ],
   "source": [
    "df.head(3)#查看前三行"
   ]
  },
  {
   "cell_type": "markdown",
   "metadata": {},
   "source": [
    "显示索引，列和底层numpy数据"
   ]
  },
  {
   "cell_type": "code",
   "execution_count": 15,
   "metadata": {
    "collapsed": false
   },
   "outputs": [
    {
     "data": {
      "text/plain": [
       "DatetimeIndex(['2013-01-01', '2013-01-02', '2013-01-03', '2013-01-04',\n",
       "               '2013-01-05', '2013-01-06'],\n",
       "              dtype='datetime64[ns]', freq='D')"
      ]
     },
     "execution_count": 15,
     "metadata": {},
     "output_type": "execute_result"
    }
   ],
   "source": [
    "df.index#显示索引"
   ]
  },
  {
   "cell_type": "code",
   "execution_count": 16,
   "metadata": {
    "collapsed": false
   },
   "outputs": [
    {
     "data": {
      "text/plain": [
       "Index(['A', 'B', 'C', 'D'], dtype='object')"
      ]
     },
     "execution_count": 16,
     "metadata": {},
     "output_type": "execute_result"
    }
   ],
   "source": [
    "df.columns  #显示列名："
   ]
  },
  {
   "cell_type": "code",
   "execution_count": 17,
   "metadata": {
    "collapsed": false
   },
   "outputs": [
    {
     "data": {
      "text/plain": [
       "array([[-0.04102232,  0.21567386, -0.36316783, -0.50314044],\n",
       "       [ 0.78461247, -1.12815818, -1.39932687, -0.11835074],\n",
       "       [-0.32162353,  0.23082773, -0.57937979, -0.29938117],\n",
       "       [ 0.97800007,  0.33666585, -0.17460492, -1.10040764],\n",
       "       [-0.90334671,  0.58101788,  0.76839529, -0.29710814],\n",
       "       [ 0.87528359,  0.82935638,  0.65321785, -0.19983027]])"
      ]
     },
     "execution_count": 17,
     "metadata": {},
     "output_type": "execute_result"
    }
   ],
   "source": [
    "df.values  #查看底层numpy数据："
   ]
  },
  {
   "cell_type": "code",
   "execution_count": 18,
   "metadata": {
    "collapsed": false
   },
   "outputs": [
    {
     "data": {
      "text/html": [
       "<div>\n",
       "<table border=\"1\" class=\"dataframe\">\n",
       "  <thead>\n",
       "    <tr style=\"text-align: right;\">\n",
       "      <th></th>\n",
       "      <th>A</th>\n",
       "      <th>B</th>\n",
       "      <th>C</th>\n",
       "      <th>D</th>\n",
       "    </tr>\n",
       "  </thead>\n",
       "  <tbody>\n",
       "    <tr>\n",
       "      <th>count</th>\n",
       "      <td>6.000000</td>\n",
       "      <td>6.000000</td>\n",
       "      <td>6.000000</td>\n",
       "      <td>6.000000</td>\n",
       "    </tr>\n",
       "    <tr>\n",
       "      <th>mean</th>\n",
       "      <td>0.228651</td>\n",
       "      <td>0.177564</td>\n",
       "      <td>-0.182478</td>\n",
       "      <td>-0.419703</td>\n",
       "    </tr>\n",
       "    <tr>\n",
       "      <th>std</th>\n",
       "      <td>0.767554</td>\n",
       "      <td>0.681487</td>\n",
       "      <td>0.809137</td>\n",
       "      <td>0.357487</td>\n",
       "    </tr>\n",
       "    <tr>\n",
       "      <th>min</th>\n",
       "      <td>-0.903347</td>\n",
       "      <td>-1.128158</td>\n",
       "      <td>-1.399327</td>\n",
       "      <td>-1.100408</td>\n",
       "    </tr>\n",
       "    <tr>\n",
       "      <th>25%</th>\n",
       "      <td>-0.251473</td>\n",
       "      <td>0.219462</td>\n",
       "      <td>-0.525327</td>\n",
       "      <td>-0.452201</td>\n",
       "    </tr>\n",
       "    <tr>\n",
       "      <th>50%</th>\n",
       "      <td>0.371795</td>\n",
       "      <td>0.283747</td>\n",
       "      <td>-0.268886</td>\n",
       "      <td>-0.298245</td>\n",
       "    </tr>\n",
       "    <tr>\n",
       "      <th>75%</th>\n",
       "      <td>0.852616</td>\n",
       "      <td>0.519930</td>\n",
       "      <td>0.446262</td>\n",
       "      <td>-0.224150</td>\n",
       "    </tr>\n",
       "    <tr>\n",
       "      <th>max</th>\n",
       "      <td>0.978000</td>\n",
       "      <td>0.829356</td>\n",
       "      <td>0.768395</td>\n",
       "      <td>-0.118351</td>\n",
       "    </tr>\n",
       "  </tbody>\n",
       "</table>\n",
       "</div>"
      ],
      "text/plain": [
       "              A         B         C         D\n",
       "count  6.000000  6.000000  6.000000  6.000000\n",
       "mean   0.228651  0.177564 -0.182478 -0.419703\n",
       "std    0.767554  0.681487  0.809137  0.357487\n",
       "min   -0.903347 -1.128158 -1.399327 -1.100408\n",
       "25%   -0.251473  0.219462 -0.525327 -0.452201\n",
       "50%    0.371795  0.283747 -0.268886 -0.298245\n",
       "75%    0.852616  0.519930  0.446262 -0.224150\n",
       "max    0.978000  0.829356  0.768395 -0.118351"
      ]
     },
     "execution_count": 18,
     "metadata": {},
     "output_type": "execute_result"
    }
   ],
   "source": [
    "df.describe() #对数据的描述性统计信息\n",
    "#注意：数据需要是数字类型（float，int等)"
   ]
  },
  {
   "cell_type": "code",
   "execution_count": 20,
   "metadata": {
    "collapsed": false
   },
   "outputs": [
    {
     "data": {
      "text/html": [
       "<div>\n",
       "<table border=\"1\" class=\"dataframe\">\n",
       "  <thead>\n",
       "    <tr style=\"text-align: right;\">\n",
       "      <th></th>\n",
       "      <th>2013-01-01 00:00:00</th>\n",
       "      <th>2013-01-02 00:00:00</th>\n",
       "      <th>2013-01-03 00:00:00</th>\n",
       "      <th>2013-01-04 00:00:00</th>\n",
       "      <th>2013-01-05 00:00:00</th>\n",
       "      <th>2013-01-06 00:00:00</th>\n",
       "    </tr>\n",
       "  </thead>\n",
       "  <tbody>\n",
       "    <tr>\n",
       "      <th>A</th>\n",
       "      <td>-0.041022</td>\n",
       "      <td>0.784612</td>\n",
       "      <td>-0.321624</td>\n",
       "      <td>0.978000</td>\n",
       "      <td>-0.903347</td>\n",
       "      <td>0.875284</td>\n",
       "    </tr>\n",
       "    <tr>\n",
       "      <th>B</th>\n",
       "      <td>0.215674</td>\n",
       "      <td>-1.128158</td>\n",
       "      <td>0.230828</td>\n",
       "      <td>0.336666</td>\n",
       "      <td>0.581018</td>\n",
       "      <td>0.829356</td>\n",
       "    </tr>\n",
       "    <tr>\n",
       "      <th>C</th>\n",
       "      <td>-0.363168</td>\n",
       "      <td>-1.399327</td>\n",
       "      <td>-0.579380</td>\n",
       "      <td>-0.174605</td>\n",
       "      <td>0.768395</td>\n",
       "      <td>0.653218</td>\n",
       "    </tr>\n",
       "    <tr>\n",
       "      <th>D</th>\n",
       "      <td>-0.503140</td>\n",
       "      <td>-0.118351</td>\n",
       "      <td>-0.299381</td>\n",
       "      <td>-1.100408</td>\n",
       "      <td>-0.297108</td>\n",
       "      <td>-0.199830</td>\n",
       "    </tr>\n",
       "  </tbody>\n",
       "</table>\n",
       "</div>"
      ],
      "text/plain": [
       "   2013-01-01  2013-01-02  2013-01-03  2013-01-04  2013-01-05  2013-01-06\n",
       "A   -0.041022    0.784612   -0.321624    0.978000   -0.903347    0.875284\n",
       "B    0.215674   -1.128158    0.230828    0.336666    0.581018    0.829356\n",
       "C   -0.363168   -1.399327   -0.579380   -0.174605    0.768395    0.653218\n",
       "D   -0.503140   -0.118351   -0.299381   -1.100408   -0.297108   -0.199830"
      ]
     },
     "execution_count": 20,
     "metadata": {},
     "output_type": "execute_result"
    }
   ],
   "source": [
    "df.T #转置调换数据\n",
    "#注意：就像线性代数里面的转置矩阵"
   ]
  },
  {
   "cell_type": "code",
   "execution_count": 21,
   "metadata": {
    "collapsed": false
   },
   "outputs": [
    {
     "data": {
      "text/html": [
       "<div>\n",
       "<table border=\"1\" class=\"dataframe\">\n",
       "  <thead>\n",
       "    <tr style=\"text-align: right;\">\n",
       "      <th></th>\n",
       "      <th>D</th>\n",
       "      <th>C</th>\n",
       "      <th>B</th>\n",
       "      <th>A</th>\n",
       "    </tr>\n",
       "  </thead>\n",
       "  <tbody>\n",
       "    <tr>\n",
       "      <th>2013-01-01</th>\n",
       "      <td>-0.503140</td>\n",
       "      <td>-0.363168</td>\n",
       "      <td>0.215674</td>\n",
       "      <td>-0.041022</td>\n",
       "    </tr>\n",
       "    <tr>\n",
       "      <th>2013-01-02</th>\n",
       "      <td>-0.118351</td>\n",
       "      <td>-1.399327</td>\n",
       "      <td>-1.128158</td>\n",
       "      <td>0.784612</td>\n",
       "    </tr>\n",
       "    <tr>\n",
       "      <th>2013-01-03</th>\n",
       "      <td>-0.299381</td>\n",
       "      <td>-0.579380</td>\n",
       "      <td>0.230828</td>\n",
       "      <td>-0.321624</td>\n",
       "    </tr>\n",
       "    <tr>\n",
       "      <th>2013-01-04</th>\n",
       "      <td>-1.100408</td>\n",
       "      <td>-0.174605</td>\n",
       "      <td>0.336666</td>\n",
       "      <td>0.978000</td>\n",
       "    </tr>\n",
       "    <tr>\n",
       "      <th>2013-01-05</th>\n",
       "      <td>-0.297108</td>\n",
       "      <td>0.768395</td>\n",
       "      <td>0.581018</td>\n",
       "      <td>-0.903347</td>\n",
       "    </tr>\n",
       "    <tr>\n",
       "      <th>2013-01-06</th>\n",
       "      <td>-0.199830</td>\n",
       "      <td>0.653218</td>\n",
       "      <td>0.829356</td>\n",
       "      <td>0.875284</td>\n",
       "    </tr>\n",
       "  </tbody>\n",
       "</table>\n",
       "</div>"
      ],
      "text/plain": [
       "                   D         C         B         A\n",
       "2013-01-01 -0.503140 -0.363168  0.215674 -0.041022\n",
       "2013-01-02 -0.118351 -1.399327 -1.128158  0.784612\n",
       "2013-01-03 -0.299381 -0.579380  0.230828 -0.321624\n",
       "2013-01-04 -1.100408 -0.174605  0.336666  0.978000\n",
       "2013-01-05 -0.297108  0.768395  0.581018 -0.903347\n",
       "2013-01-06 -0.199830  0.653218  0.829356  0.875284"
      ]
     },
     "execution_count": 21,
     "metadata": {},
     "output_type": "execute_result"
    }
   ],
   "source": [
    "#按轴排序\n",
    "df.sort_index(axis=1, ascending=False)"
   ]
  },
  {
   "cell_type": "code",
   "execution_count": 23,
   "metadata": {
    "collapsed": false
   },
   "outputs": [
    {
     "data": {
      "text/html": [
       "<div>\n",
       "<table border=\"1\" class=\"dataframe\">\n",
       "  <thead>\n",
       "    <tr style=\"text-align: right;\">\n",
       "      <th></th>\n",
       "      <th>A</th>\n",
       "      <th>B</th>\n",
       "      <th>C</th>\n",
       "      <th>D</th>\n",
       "    </tr>\n",
       "  </thead>\n",
       "  <tbody>\n",
       "    <tr>\n",
       "      <th>2013-01-06</th>\n",
       "      <td>0.875284</td>\n",
       "      <td>0.829356</td>\n",
       "      <td>0.653218</td>\n",
       "      <td>-0.199830</td>\n",
       "    </tr>\n",
       "    <tr>\n",
       "      <th>2013-01-05</th>\n",
       "      <td>-0.903347</td>\n",
       "      <td>0.581018</td>\n",
       "      <td>0.768395</td>\n",
       "      <td>-0.297108</td>\n",
       "    </tr>\n",
       "    <tr>\n",
       "      <th>2013-01-04</th>\n",
       "      <td>0.978000</td>\n",
       "      <td>0.336666</td>\n",
       "      <td>-0.174605</td>\n",
       "      <td>-1.100408</td>\n",
       "    </tr>\n",
       "    <tr>\n",
       "      <th>2013-01-03</th>\n",
       "      <td>-0.321624</td>\n",
       "      <td>0.230828</td>\n",
       "      <td>-0.579380</td>\n",
       "      <td>-0.299381</td>\n",
       "    </tr>\n",
       "    <tr>\n",
       "      <th>2013-01-02</th>\n",
       "      <td>0.784612</td>\n",
       "      <td>-1.128158</td>\n",
       "      <td>-1.399327</td>\n",
       "      <td>-0.118351</td>\n",
       "    </tr>\n",
       "    <tr>\n",
       "      <th>2013-01-01</th>\n",
       "      <td>-0.041022</td>\n",
       "      <td>0.215674</td>\n",
       "      <td>-0.363168</td>\n",
       "      <td>-0.503140</td>\n",
       "    </tr>\n",
       "  </tbody>\n",
       "</table>\n",
       "</div>"
      ],
      "text/plain": [
       "                   A         B         C         D\n",
       "2013-01-06  0.875284  0.829356  0.653218 -0.199830\n",
       "2013-01-05 -0.903347  0.581018  0.768395 -0.297108\n",
       "2013-01-04  0.978000  0.336666 -0.174605 -1.100408\n",
       "2013-01-03 -0.321624  0.230828 -0.579380 -0.299381\n",
       "2013-01-02  0.784612 -1.128158 -1.399327 -0.118351\n",
       "2013-01-01 -0.041022  0.215674 -0.363168 -0.503140"
      ]
     },
     "execution_count": 23,
     "metadata": {},
     "output_type": "execute_result"
    }
   ],
   "source": [
    "#?df.sort_index(axis=1, ascending=False)\n",
    "#这说明axis可以取0或者1，我们试试看0：\n",
    "df.sort_index(axis=0, ascending=False)"
   ]
  },
  {
   "cell_type": "code",
   "execution_count": 24,
   "metadata": {
    "collapsed": false
   },
   "outputs": [
    {
     "data": {
      "text/html": [
       "<div>\n",
       "<table border=\"1\" class=\"dataframe\">\n",
       "  <thead>\n",
       "    <tr style=\"text-align: right;\">\n",
       "      <th></th>\n",
       "      <th>A</th>\n",
       "      <th>B</th>\n",
       "      <th>C</th>\n",
       "      <th>D</th>\n",
       "    </tr>\n",
       "  </thead>\n",
       "  <tbody>\n",
       "    <tr>\n",
       "      <th>2013-01-02</th>\n",
       "      <td>0.784612</td>\n",
       "      <td>-1.128158</td>\n",
       "      <td>-1.399327</td>\n",
       "      <td>-0.118351</td>\n",
       "    </tr>\n",
       "    <tr>\n",
       "      <th>2013-01-01</th>\n",
       "      <td>-0.041022</td>\n",
       "      <td>0.215674</td>\n",
       "      <td>-0.363168</td>\n",
       "      <td>-0.503140</td>\n",
       "    </tr>\n",
       "    <tr>\n",
       "      <th>2013-01-03</th>\n",
       "      <td>-0.321624</td>\n",
       "      <td>0.230828</td>\n",
       "      <td>-0.579380</td>\n",
       "      <td>-0.299381</td>\n",
       "    </tr>\n",
       "    <tr>\n",
       "      <th>2013-01-04</th>\n",
       "      <td>0.978000</td>\n",
       "      <td>0.336666</td>\n",
       "      <td>-0.174605</td>\n",
       "      <td>-1.100408</td>\n",
       "    </tr>\n",
       "    <tr>\n",
       "      <th>2013-01-05</th>\n",
       "      <td>-0.903347</td>\n",
       "      <td>0.581018</td>\n",
       "      <td>0.768395</td>\n",
       "      <td>-0.297108</td>\n",
       "    </tr>\n",
       "    <tr>\n",
       "      <th>2013-01-06</th>\n",
       "      <td>0.875284</td>\n",
       "      <td>0.829356</td>\n",
       "      <td>0.653218</td>\n",
       "      <td>-0.199830</td>\n",
       "    </tr>\n",
       "  </tbody>\n",
       "</table>\n",
       "</div>"
      ],
      "text/plain": [
       "                   A         B         C         D\n",
       "2013-01-02  0.784612 -1.128158 -1.399327 -0.118351\n",
       "2013-01-01 -0.041022  0.215674 -0.363168 -0.503140\n",
       "2013-01-03 -0.321624  0.230828 -0.579380 -0.299381\n",
       "2013-01-04  0.978000  0.336666 -0.174605 -1.100408\n",
       "2013-01-05 -0.903347  0.581018  0.768395 -0.297108\n",
       "2013-01-06  0.875284  0.829356  0.653218 -0.199830"
      ]
     },
     "execution_count": 24,
     "metadata": {},
     "output_type": "execute_result"
    }
   ],
   "source": [
    "#按值排序\n",
    "df.sort_values(by='B')  #这是B列数据排序，并且其他数据参照B列数据变化。"
   ]
  },
  {
   "cell_type": "markdown",
   "metadata": {},
   "source": [
    "### 选择数据\n",
    "\n",
    "更多内容请参阅索引文档索引：http://pandas.pydata.org/pandas-docs/version/0.20/indexing.html#indexing\n",
    "\n",
    "和选择数据和多指标/高级索引：http://pandas.pydata.org/pandas-docs/version/0.20/advanced.html#advanced"
   ]
  },
  {
   "cell_type": "code",
   "execution_count": 27,
   "metadata": {
    "collapsed": false
   },
   "outputs": [
    {
     "data": {
      "text/plain": [
       "2013-01-01   -0.041022\n",
       "2013-01-02    0.784612\n",
       "2013-01-03   -0.321624\n",
       "2013-01-04    0.978000\n",
       "2013-01-05   -0.903347\n",
       "2013-01-06    0.875284\n",
       "Freq: D, Name: A, dtype: float64"
      ]
     },
     "execution_count": 27,
     "metadata": {},
     "output_type": "execute_result"
    }
   ],
   "source": [
    "#选择一个列，返回一个Series，相当于df.A\n",
    "df['A'] #取A列数据，返回的是一个序列"
   ]
  },
  {
   "cell_type": "code",
   "execution_count": 28,
   "metadata": {
    "collapsed": false
   },
   "outputs": [
    {
     "data": {
      "text/html": [
       "<div>\n",
       "<table border=\"1\" class=\"dataframe\">\n",
       "  <thead>\n",
       "    <tr style=\"text-align: right;\">\n",
       "      <th></th>\n",
       "      <th>A</th>\n",
       "      <th>B</th>\n",
       "      <th>C</th>\n",
       "      <th>D</th>\n",
       "    </tr>\n",
       "  </thead>\n",
       "  <tbody>\n",
       "    <tr>\n",
       "      <th>2013-01-01</th>\n",
       "      <td>-0.041022</td>\n",
       "      <td>0.215674</td>\n",
       "      <td>-0.363168</td>\n",
       "      <td>-0.503140</td>\n",
       "    </tr>\n",
       "    <tr>\n",
       "      <th>2013-01-02</th>\n",
       "      <td>0.784612</td>\n",
       "      <td>-1.128158</td>\n",
       "      <td>-1.399327</td>\n",
       "      <td>-0.118351</td>\n",
       "    </tr>\n",
       "    <tr>\n",
       "      <th>2013-01-03</th>\n",
       "      <td>-0.321624</td>\n",
       "      <td>0.230828</td>\n",
       "      <td>-0.579380</td>\n",
       "      <td>-0.299381</td>\n",
       "    </tr>\n",
       "  </tbody>\n",
       "</table>\n",
       "</div>"
      ],
      "text/plain": [
       "                   A         B         C         D\n",
       "2013-01-01 -0.041022  0.215674 -0.363168 -0.503140\n",
       "2013-01-02  0.784612 -1.128158 -1.399327 -0.118351\n",
       "2013-01-03 -0.321624  0.230828 -0.579380 -0.299381"
      ]
     },
     "execution_count": 28,
     "metadata": {},
     "output_type": "execute_result"
    }
   ],
   "source": [
    "#选择通过[]，切片出行数据\n",
    "\n",
    "df[0:3] #使用默认索引取出前三行"
   ]
  },
  {
   "cell_type": "code",
   "execution_count": 29,
   "metadata": {
    "collapsed": false
   },
   "outputs": [
    {
     "data": {
      "text/html": [
       "<div>\n",
       "<table border=\"1\" class=\"dataframe\">\n",
       "  <thead>\n",
       "    <tr style=\"text-align: right;\">\n",
       "      <th></th>\n",
       "      <th>A</th>\n",
       "      <th>B</th>\n",
       "      <th>C</th>\n",
       "      <th>D</th>\n",
       "    </tr>\n",
       "  </thead>\n",
       "  <tbody>\n",
       "    <tr>\n",
       "      <th>2013-01-02</th>\n",
       "      <td>0.784612</td>\n",
       "      <td>-1.128158</td>\n",
       "      <td>-1.399327</td>\n",
       "      <td>-0.118351</td>\n",
       "    </tr>\n",
       "    <tr>\n",
       "      <th>2013-01-03</th>\n",
       "      <td>-0.321624</td>\n",
       "      <td>0.230828</td>\n",
       "      <td>-0.579380</td>\n",
       "      <td>-0.299381</td>\n",
       "    </tr>\n",
       "    <tr>\n",
       "      <th>2013-01-04</th>\n",
       "      <td>0.978000</td>\n",
       "      <td>0.336666</td>\n",
       "      <td>-0.174605</td>\n",
       "      <td>-1.100408</td>\n",
       "    </tr>\n",
       "  </tbody>\n",
       "</table>\n",
       "</div>"
      ],
      "text/plain": [
       "                   A         B         C         D\n",
       "2013-01-02  0.784612 -1.128158 -1.399327 -0.118351\n",
       "2013-01-03 -0.321624  0.230828 -0.579380 -0.299381\n",
       "2013-01-04  0.978000  0.336666 -0.174605 -1.100408"
      ]
     },
     "execution_count": 29,
     "metadata": {},
     "output_type": "execute_result"
    }
   ],
   "source": [
    "df['20130102':'20130104'] #使用新索引取出对应行"
   ]
  },
  {
   "cell_type": "markdown",
   "metadata": {},
   "source": [
    "### 标签选择\n",
    "\n",
    "在标签选择中查看更多内容：http://pandas.pydata.org/pandas-docs/version/0.20/indexing.html#indexing-label"
   ]
  },
  {
   "cell_type": "code",
   "execution_count": 31,
   "metadata": {
    "collapsed": false
   },
   "outputs": [
    {
     "data": {
      "text/plain": [
       "A   -0.041022\n",
       "B    0.215674\n",
       "C   -0.363168\n",
       "D   -0.503140\n",
       "Name: 2013-01-01 00:00:00, dtype: float64"
      ]
     },
     "execution_count": 31,
     "metadata": {},
     "output_type": "execute_result"
    }
   ],
   "source": [
    "#使用标签获取一块数据：\n",
    "\n",
    "df.loc[dates[0]] #取出第一行"
   ]
  },
  {
   "cell_type": "code",
   "execution_count": 32,
   "metadata": {
    "collapsed": false
   },
   "outputs": [
    {
     "data": {
      "text/html": [
       "<div>\n",
       "<table border=\"1\" class=\"dataframe\">\n",
       "  <thead>\n",
       "    <tr style=\"text-align: right;\">\n",
       "      <th></th>\n",
       "      <th>A</th>\n",
       "      <th>B</th>\n",
       "    </tr>\n",
       "  </thead>\n",
       "  <tbody>\n",
       "    <tr>\n",
       "      <th>2013-01-01</th>\n",
       "      <td>-0.041022</td>\n",
       "      <td>0.215674</td>\n",
       "    </tr>\n",
       "    <tr>\n",
       "      <th>2013-01-02</th>\n",
       "      <td>0.784612</td>\n",
       "      <td>-1.128158</td>\n",
       "    </tr>\n",
       "    <tr>\n",
       "      <th>2013-01-03</th>\n",
       "      <td>-0.321624</td>\n",
       "      <td>0.230828</td>\n",
       "    </tr>\n",
       "    <tr>\n",
       "      <th>2013-01-04</th>\n",
       "      <td>0.978000</td>\n",
       "      <td>0.336666</td>\n",
       "    </tr>\n",
       "    <tr>\n",
       "      <th>2013-01-05</th>\n",
       "      <td>-0.903347</td>\n",
       "      <td>0.581018</td>\n",
       "    </tr>\n",
       "    <tr>\n",
       "      <th>2013-01-06</th>\n",
       "      <td>0.875284</td>\n",
       "      <td>0.829356</td>\n",
       "    </tr>\n",
       "  </tbody>\n",
       "</table>\n",
       "</div>"
      ],
      "text/plain": [
       "                   A         B\n",
       "2013-01-01 -0.041022  0.215674\n",
       "2013-01-02  0.784612 -1.128158\n",
       "2013-01-03 -0.321624  0.230828\n",
       "2013-01-04  0.978000  0.336666\n",
       "2013-01-05 -0.903347  0.581018\n",
       "2013-01-06  0.875284  0.829356"
      ]
     },
     "execution_count": 32,
     "metadata": {},
     "output_type": "execute_result"
    }
   ],
   "source": [
    "#通过标签选择多列：\n",
    "\n",
    "df.loc[:,['A','B']] #这里选择的是A,B列数据"
   ]
  },
  {
   "cell_type": "code",
   "execution_count": 33,
   "metadata": {
    "collapsed": false
   },
   "outputs": [
    {
     "data": {
      "text/html": [
       "<div>\n",
       "<table border=\"1\" class=\"dataframe\">\n",
       "  <thead>\n",
       "    <tr style=\"text-align: right;\">\n",
       "      <th></th>\n",
       "      <th>A</th>\n",
       "      <th>B</th>\n",
       "    </tr>\n",
       "  </thead>\n",
       "  <tbody>\n",
       "    <tr>\n",
       "      <th>2013-01-02</th>\n",
       "      <td>0.784612</td>\n",
       "      <td>-1.128158</td>\n",
       "    </tr>\n",
       "    <tr>\n",
       "      <th>2013-01-03</th>\n",
       "      <td>-0.321624</td>\n",
       "      <td>0.230828</td>\n",
       "    </tr>\n",
       "    <tr>\n",
       "      <th>2013-01-04</th>\n",
       "      <td>0.978000</td>\n",
       "      <td>0.336666</td>\n",
       "    </tr>\n",
       "  </tbody>\n",
       "</table>\n",
       "</div>"
      ],
      "text/plain": [
       "                   A         B\n",
       "2013-01-02  0.784612 -1.128158\n",
       "2013-01-03 -0.321624  0.230828\n",
       "2013-01-04  0.978000  0.336666"
      ]
     },
     "execution_count": 33,
     "metadata": {},
     "output_type": "execute_result"
    }
   ],
   "source": [
    "### 显示标签切片：\n",
    "\n",
    "df.loc['20130102':'20130104',['A','B']]"
   ]
  },
  {
   "cell_type": "code",
   "execution_count": 34,
   "metadata": {
    "collapsed": false
   },
   "outputs": [
    {
     "data": {
      "text/plain": [
       "A    0.784612\n",
       "B   -1.128158\n",
       "Name: 2013-01-02 00:00:00, dtype: float64"
      ]
     },
     "execution_count": 34,
     "metadata": {},
     "output_type": "execute_result"
    }
   ],
   "source": [
    "#减少返回对象的维度：\n",
    "\n",
    "df.loc['20130102',['A','B']]"
   ]
  },
  {
   "cell_type": "code",
   "execution_count": 35,
   "metadata": {
    "collapsed": false
   },
   "outputs": [
    {
     "data": {
      "text/plain": [
       "-0.041022317767430962"
      ]
     },
     "execution_count": 35,
     "metadata": {},
     "output_type": "execute_result"
    }
   ],
   "source": [
    "#获得标量值（就是定位一个具体的值）：\n",
    "\n",
    "df.loc[dates[0],'A']"
   ]
  },
  {
   "cell_type": "code",
   "execution_count": 36,
   "metadata": {
    "collapsed": false
   },
   "outputs": [
    {
     "data": {
      "text/plain": [
       "-0.041022317767430962"
      ]
     },
     "execution_count": 36,
     "metadata": {},
     "output_type": "execute_result"
    }
   ],
   "source": [
    "#快速访问标量（等同于先前的方法）：\n",
    "\n",
    "df.at[dates[0],'A']"
   ]
  },
  {
   "cell_type": "markdown",
   "metadata": {
    "collapsed": true
   },
   "source": [
    "### 按位置选择\n",
    "更多按位置选择内容：http://pandas.pydata.org/pandas-docs/version/0.20/indexing.html#indexing-integer\n",
    "\n",
    "\n",
    "通过传递的整数的位置进行选择："
   ]
  },
  {
   "cell_type": "code",
   "execution_count": 6,
   "metadata": {
    "collapsed": false
   },
   "outputs": [
    {
     "data": {
      "text/plain": [
       "A   -1.058696\n",
       "B    0.023663\n",
       "C    0.345492\n",
       "D    0.364095\n",
       "Name: 2013-01-04 00:00:00, dtype: float64"
      ]
     },
     "execution_count": 6,
     "metadata": {},
     "output_type": "execute_result"
    }
   ],
   "source": [
    "df.iloc[3] #取出第三行"
   ]
  },
  {
   "cell_type": "markdown",
   "metadata": {},
   "source": [
    "通过整数切片，类似于numpy / python："
   ]
  },
  {
   "cell_type": "code",
   "execution_count": 10,
   "metadata": {
    "collapsed": false
   },
   "outputs": [
    {
     "data": {
      "text/html": [
       "<div>\n",
       "<table border=\"1\" class=\"dataframe\">\n",
       "  <thead>\n",
       "    <tr style=\"text-align: right;\">\n",
       "      <th></th>\n",
       "      <th>A</th>\n",
       "      <th>B</th>\n",
       "    </tr>\n",
       "  </thead>\n",
       "  <tbody>\n",
       "    <tr>\n",
       "      <th>2013-01-04</th>\n",
       "      <td>-1.058696</td>\n",
       "      <td>0.023663</td>\n",
       "    </tr>\n",
       "    <tr>\n",
       "      <th>2013-01-05</th>\n",
       "      <td>1.419695</td>\n",
       "      <td>-0.750296</td>\n",
       "    </tr>\n",
       "  </tbody>\n",
       "</table>\n",
       "</div>"
      ],
      "text/plain": [
       "                   A         B\n",
       "2013-01-04 -1.058696  0.023663\n",
       "2013-01-05  1.419695 -0.750296"
      ]
     },
     "execution_count": 10,
     "metadata": {},
     "output_type": "execute_result"
    }
   ],
   "source": [
    "df.iloc[3:5,0:2]  #切出3-4行，1-2列一块区域"
   ]
  },
  {
   "cell_type": "code",
   "execution_count": 11,
   "metadata": {
    "collapsed": false
   },
   "outputs": [
    {
     "data": {
      "text/html": [
       "<div>\n",
       "<table border=\"1\" class=\"dataframe\">\n",
       "  <thead>\n",
       "    <tr style=\"text-align: right;\">\n",
       "      <th></th>\n",
       "      <th>A</th>\n",
       "      <th>C</th>\n",
       "    </tr>\n",
       "  </thead>\n",
       "  <tbody>\n",
       "    <tr>\n",
       "      <th>2013-01-02</th>\n",
       "      <td>0.513042</td>\n",
       "      <td>1.089488</td>\n",
       "    </tr>\n",
       "    <tr>\n",
       "      <th>2013-01-03</th>\n",
       "      <td>1.548976</td>\n",
       "      <td>0.457258</td>\n",
       "    </tr>\n",
       "    <tr>\n",
       "      <th>2013-01-05</th>\n",
       "      <td>1.419695</td>\n",
       "      <td>1.601742</td>\n",
       "    </tr>\n",
       "  </tbody>\n",
       "</table>\n",
       "</div>"
      ],
      "text/plain": [
       "                   A         C\n",
       "2013-01-02  0.513042  1.089488\n",
       "2013-01-03  1.548976  0.457258\n",
       "2013-01-05  1.419695  1.601742"
      ]
     },
     "execution_count": 11,
     "metadata": {},
     "output_type": "execute_result"
    }
   ],
   "source": [
    "#通过整数位置列表切分，类似numpy的/ Python的风格：\n",
    "df.iloc[[1,2,4],[0,2]]"
   ]
  },
  {
   "cell_type": "code",
   "execution_count": 14,
   "metadata": {
    "collapsed": false
   },
   "outputs": [
    {
     "data": {
      "text/html": [
       "<div>\n",
       "<table border=\"1\" class=\"dataframe\">\n",
       "  <thead>\n",
       "    <tr style=\"text-align: right;\">\n",
       "      <th></th>\n",
       "      <th>A</th>\n",
       "      <th>B</th>\n",
       "      <th>C</th>\n",
       "      <th>D</th>\n",
       "    </tr>\n",
       "  </thead>\n",
       "  <tbody>\n",
       "    <tr>\n",
       "      <th>2013-01-02</th>\n",
       "      <td>0.513042</td>\n",
       "      <td>-1.077741</td>\n",
       "      <td>1.089488</td>\n",
       "      <td>-0.419946</td>\n",
       "    </tr>\n",
       "    <tr>\n",
       "      <th>2013-01-03</th>\n",
       "      <td>1.548976</td>\n",
       "      <td>0.404802</td>\n",
       "      <td>0.457258</td>\n",
       "      <td>-1.101466</td>\n",
       "    </tr>\n",
       "  </tbody>\n",
       "</table>\n",
       "</div>"
      ],
      "text/plain": [
       "                   A         B         C         D\n",
       "2013-01-02  0.513042 -1.077741  1.089488 -0.419946\n",
       "2013-01-03  1.548976  0.404802  0.457258 -1.101466"
      ]
     },
     "execution_count": 14,
     "metadata": {},
     "output_type": "execute_result"
    }
   ],
   "source": [
    "#切分出某些行：\n",
    "df.iloc[1:3,:]"
   ]
  },
  {
   "cell_type": "code",
   "execution_count": 15,
   "metadata": {
    "collapsed": false
   },
   "outputs": [
    {
     "data": {
      "text/plain": [
       "-1.0777413526911526"
      ]
     },
     "execution_count": 15,
     "metadata": {},
     "output_type": "execute_result"
    }
   ],
   "source": [
    "#获取某个值\n",
    "df.iloc[1,1]"
   ]
  },
  {
   "cell_type": "code",
   "execution_count": 16,
   "metadata": {
    "collapsed": false
   },
   "outputs": [
    {
     "data": {
      "text/plain": [
       "-1.0777413526911526"
      ]
     },
     "execution_count": 16,
     "metadata": {},
     "output_type": "execute_result"
    }
   ],
   "source": [
    "#快速访问某个值（等同于先前的方法）：\n",
    "df.iat[1,1]"
   ]
  },
  {
   "cell_type": "markdown",
   "metadata": {},
   "source": [
    "### 布尔索引\n",
    "\n",
    "使用单列值选择数据"
   ]
  },
  {
   "cell_type": "code",
   "execution_count": 17,
   "metadata": {
    "collapsed": false
   },
   "outputs": [
    {
     "data": {
      "text/html": [
       "<div>\n",
       "<table border=\"1\" class=\"dataframe\">\n",
       "  <thead>\n",
       "    <tr style=\"text-align: right;\">\n",
       "      <th></th>\n",
       "      <th>A</th>\n",
       "      <th>B</th>\n",
       "      <th>C</th>\n",
       "      <th>D</th>\n",
       "    </tr>\n",
       "  </thead>\n",
       "  <tbody>\n",
       "    <tr>\n",
       "      <th>2013-01-01</th>\n",
       "      <td>1.433243</td>\n",
       "      <td>-0.829467</td>\n",
       "      <td>0.174798</td>\n",
       "      <td>0.626780</td>\n",
       "    </tr>\n",
       "    <tr>\n",
       "      <th>2013-01-02</th>\n",
       "      <td>0.513042</td>\n",
       "      <td>-1.077741</td>\n",
       "      <td>1.089488</td>\n",
       "      <td>-0.419946</td>\n",
       "    </tr>\n",
       "    <tr>\n",
       "      <th>2013-01-03</th>\n",
       "      <td>1.548976</td>\n",
       "      <td>0.404802</td>\n",
       "      <td>0.457258</td>\n",
       "      <td>-1.101466</td>\n",
       "    </tr>\n",
       "    <tr>\n",
       "      <th>2013-01-05</th>\n",
       "      <td>1.419695</td>\n",
       "      <td>-0.750296</td>\n",
       "      <td>1.601742</td>\n",
       "      <td>-0.174387</td>\n",
       "    </tr>\n",
       "  </tbody>\n",
       "</table>\n",
       "</div>"
      ],
      "text/plain": [
       "                   A         B         C         D\n",
       "2013-01-01  1.433243 -0.829467  0.174798  0.626780\n",
       "2013-01-02  0.513042 -1.077741  1.089488 -0.419946\n",
       "2013-01-03  1.548976  0.404802  0.457258 -1.101466\n",
       "2013-01-05  1.419695 -0.750296  1.601742 -0.174387"
      ]
     },
     "execution_count": 17,
     "metadata": {},
     "output_type": "execute_result"
    }
   ],
   "source": [
    "df[df.A > 0]\n",
    "#注意：先判断A栏中大于零的数，然后把这些行取出来"
   ]
  },
  {
   "cell_type": "code",
   "execution_count": 18,
   "metadata": {
    "collapsed": false
   },
   "outputs": [
    {
     "data": {
      "text/html": [
       "<div>\n",
       "<table border=\"1\" class=\"dataframe\">\n",
       "  <thead>\n",
       "    <tr style=\"text-align: right;\">\n",
       "      <th></th>\n",
       "      <th>A</th>\n",
       "      <th>B</th>\n",
       "      <th>C</th>\n",
       "      <th>D</th>\n",
       "    </tr>\n",
       "  </thead>\n",
       "  <tbody>\n",
       "    <tr>\n",
       "      <th>2013-01-01</th>\n",
       "      <td>1.433243</td>\n",
       "      <td>NaN</td>\n",
       "      <td>0.174798</td>\n",
       "      <td>0.626780</td>\n",
       "    </tr>\n",
       "    <tr>\n",
       "      <th>2013-01-02</th>\n",
       "      <td>0.513042</td>\n",
       "      <td>NaN</td>\n",
       "      <td>1.089488</td>\n",
       "      <td>NaN</td>\n",
       "    </tr>\n",
       "    <tr>\n",
       "      <th>2013-01-03</th>\n",
       "      <td>1.548976</td>\n",
       "      <td>0.404802</td>\n",
       "      <td>0.457258</td>\n",
       "      <td>NaN</td>\n",
       "    </tr>\n",
       "    <tr>\n",
       "      <th>2013-01-04</th>\n",
       "      <td>NaN</td>\n",
       "      <td>0.023663</td>\n",
       "      <td>0.345492</td>\n",
       "      <td>0.364095</td>\n",
       "    </tr>\n",
       "    <tr>\n",
       "      <th>2013-01-05</th>\n",
       "      <td>1.419695</td>\n",
       "      <td>NaN</td>\n",
       "      <td>1.601742</td>\n",
       "      <td>NaN</td>\n",
       "    </tr>\n",
       "    <tr>\n",
       "      <th>2013-01-06</th>\n",
       "      <td>NaN</td>\n",
       "      <td>NaN</td>\n",
       "      <td>NaN</td>\n",
       "      <td>NaN</td>\n",
       "    </tr>\n",
       "  </tbody>\n",
       "</table>\n",
       "</div>"
      ],
      "text/plain": [
       "                   A         B         C         D\n",
       "2013-01-01  1.433243       NaN  0.174798  0.626780\n",
       "2013-01-02  0.513042       NaN  1.089488       NaN\n",
       "2013-01-03  1.548976  0.404802  0.457258       NaN\n",
       "2013-01-04       NaN  0.023663  0.345492  0.364095\n",
       "2013-01-05  1.419695       NaN  1.601742       NaN\n",
       "2013-01-06       NaN       NaN       NaN       NaN"
      ]
     },
     "execution_count": 18,
     "metadata": {},
     "output_type": "execute_result"
    }
   ],
   "source": [
    "#从满足布尔条件的DataFrame中选择值：\n",
    "\n",
    "df[df > 0]\n",
    "\n",
    "#注：显示dataframe中大于零的数"
   ]
  },
  {
   "cell_type": "code",
   "execution_count": 20,
   "metadata": {
    "collapsed": false
   },
   "outputs": [
    {
     "data": {
      "text/html": [
       "<div>\n",
       "<table border=\"1\" class=\"dataframe\">\n",
       "  <thead>\n",
       "    <tr style=\"text-align: right;\">\n",
       "      <th></th>\n",
       "      <th>A</th>\n",
       "      <th>B</th>\n",
       "      <th>C</th>\n",
       "      <th>D</th>\n",
       "      <th>E</th>\n",
       "    </tr>\n",
       "  </thead>\n",
       "  <tbody>\n",
       "    <tr>\n",
       "      <th>2013-01-01</th>\n",
       "      <td>1.433243</td>\n",
       "      <td>-0.829467</td>\n",
       "      <td>0.174798</td>\n",
       "      <td>0.626780</td>\n",
       "      <td>one</td>\n",
       "    </tr>\n",
       "    <tr>\n",
       "      <th>2013-01-02</th>\n",
       "      <td>0.513042</td>\n",
       "      <td>-1.077741</td>\n",
       "      <td>1.089488</td>\n",
       "      <td>-0.419946</td>\n",
       "      <td>one</td>\n",
       "    </tr>\n",
       "    <tr>\n",
       "      <th>2013-01-03</th>\n",
       "      <td>1.548976</td>\n",
       "      <td>0.404802</td>\n",
       "      <td>0.457258</td>\n",
       "      <td>-1.101466</td>\n",
       "      <td>two</td>\n",
       "    </tr>\n",
       "    <tr>\n",
       "      <th>2013-01-04</th>\n",
       "      <td>-1.058696</td>\n",
       "      <td>0.023663</td>\n",
       "      <td>0.345492</td>\n",
       "      <td>0.364095</td>\n",
       "      <td>three</td>\n",
       "    </tr>\n",
       "    <tr>\n",
       "      <th>2013-01-05</th>\n",
       "      <td>1.419695</td>\n",
       "      <td>-0.750296</td>\n",
       "      <td>1.601742</td>\n",
       "      <td>-0.174387</td>\n",
       "      <td>four</td>\n",
       "    </tr>\n",
       "    <tr>\n",
       "      <th>2013-01-06</th>\n",
       "      <td>-0.176502</td>\n",
       "      <td>-1.567668</td>\n",
       "      <td>-0.218026</td>\n",
       "      <td>-0.352392</td>\n",
       "      <td>three</td>\n",
       "    </tr>\n",
       "  </tbody>\n",
       "</table>\n",
       "</div>"
      ],
      "text/plain": [
       "                   A         B         C         D      E\n",
       "2013-01-01  1.433243 -0.829467  0.174798  0.626780    one\n",
       "2013-01-02  0.513042 -1.077741  1.089488 -0.419946    one\n",
       "2013-01-03  1.548976  0.404802  0.457258 -1.101466    two\n",
       "2013-01-04 -1.058696  0.023663  0.345492  0.364095  three\n",
       "2013-01-05  1.419695 -0.750296  1.601742 -0.174387   four\n",
       "2013-01-06 -0.176502 -1.567668 -0.218026 -0.352392  three"
      ]
     },
     "execution_count": 20,
     "metadata": {},
     "output_type": "execute_result"
    }
   ],
   "source": [
    "#使用isin（）方法进行过滤：\n",
    "\n",
    "df2 = df.copy()\n",
    "df2['E'] = ['one', 'one','two','three','four','three']\n",
    "df2 #注：copy了一份dataframe，然后新加了一列E"
   ]
  },
  {
   "cell_type": "code",
   "execution_count": 21,
   "metadata": {
    "collapsed": false
   },
   "outputs": [
    {
     "data": {
      "text/html": [
       "<div>\n",
       "<table border=\"1\" class=\"dataframe\">\n",
       "  <thead>\n",
       "    <tr style=\"text-align: right;\">\n",
       "      <th></th>\n",
       "      <th>A</th>\n",
       "      <th>B</th>\n",
       "      <th>C</th>\n",
       "      <th>D</th>\n",
       "      <th>E</th>\n",
       "    </tr>\n",
       "  </thead>\n",
       "  <tbody>\n",
       "    <tr>\n",
       "      <th>2013-01-03</th>\n",
       "      <td>1.548976</td>\n",
       "      <td>0.404802</td>\n",
       "      <td>0.457258</td>\n",
       "      <td>-1.101466</td>\n",
       "      <td>two</td>\n",
       "    </tr>\n",
       "    <tr>\n",
       "      <th>2013-01-05</th>\n",
       "      <td>1.419695</td>\n",
       "      <td>-0.750296</td>\n",
       "      <td>1.601742</td>\n",
       "      <td>-0.174387</td>\n",
       "      <td>four</td>\n",
       "    </tr>\n",
       "  </tbody>\n",
       "</table>\n",
       "</div>"
      ],
      "text/plain": [
       "                   A         B         C         D     E\n",
       "2013-01-03  1.548976  0.404802  0.457258 -1.101466   two\n",
       "2013-01-05  1.419695 -0.750296  1.601742 -0.174387  four"
      ]
     },
     "execution_count": 21,
     "metadata": {},
     "output_type": "execute_result"
    }
   ],
   "source": [
    "#?df2.isin()\n",
    "\n",
    "#从help文件可以知道isin()方法的作用是：\n",
    "\n",
    "#DataFrame显示每个元素是否在DataFrame包含在值中,返回boolean.\n",
    "\n",
    "df2[df2['E'].isin(['two','four'])]\n",
    "\n",
    "#相当于判断two和four两列是否在df2中，在的话返回True，然后将参数传入df2，返回这两列的值。"
   ]
  },
  {
   "cell_type": "markdown",
   "metadata": {},
   "source": [
    "### 设置"
   ]
  },
  {
   "cell_type": "code",
   "execution_count": 22,
   "metadata": {
    "collapsed": false
   },
   "outputs": [
    {
     "data": {
      "text/plain": [
       "2013-01-02    1\n",
       "2013-01-03    2\n",
       "2013-01-04    3\n",
       "2013-01-05    4\n",
       "2013-01-06    5\n",
       "2013-01-07    6\n",
       "Freq: D, dtype: int64"
      ]
     },
     "execution_count": 22,
     "metadata": {},
     "output_type": "execute_result"
    }
   ],
   "source": [
    "#置新的列会自动使索引对齐数据：\n",
    "s1 = pd.Series([1,2,3,4,5,6], index=pd.date_range('20130102', periods=6))\n",
    "s1"
   ]
  },
  {
   "cell_type": "code",
   "execution_count": 23,
   "metadata": {
    "collapsed": false
   },
   "outputs": [
    {
     "data": {
      "text/html": [
       "<div>\n",
       "<table border=\"1\" class=\"dataframe\">\n",
       "  <thead>\n",
       "    <tr style=\"text-align: right;\">\n",
       "      <th></th>\n",
       "      <th>A</th>\n",
       "      <th>B</th>\n",
       "      <th>C</th>\n",
       "      <th>D</th>\n",
       "      <th>F</th>\n",
       "    </tr>\n",
       "  </thead>\n",
       "  <tbody>\n",
       "    <tr>\n",
       "      <th>2013-01-01</th>\n",
       "      <td>1.433243</td>\n",
       "      <td>-0.829467</td>\n",
       "      <td>0.174798</td>\n",
       "      <td>0.626780</td>\n",
       "      <td>NaN</td>\n",
       "    </tr>\n",
       "    <tr>\n",
       "      <th>2013-01-02</th>\n",
       "      <td>0.513042</td>\n",
       "      <td>-1.077741</td>\n",
       "      <td>1.089488</td>\n",
       "      <td>-0.419946</td>\n",
       "      <td>1.0</td>\n",
       "    </tr>\n",
       "    <tr>\n",
       "      <th>2013-01-03</th>\n",
       "      <td>1.548976</td>\n",
       "      <td>0.404802</td>\n",
       "      <td>0.457258</td>\n",
       "      <td>-1.101466</td>\n",
       "      <td>2.0</td>\n",
       "    </tr>\n",
       "    <tr>\n",
       "      <th>2013-01-04</th>\n",
       "      <td>-1.058696</td>\n",
       "      <td>0.023663</td>\n",
       "      <td>0.345492</td>\n",
       "      <td>0.364095</td>\n",
       "      <td>3.0</td>\n",
       "    </tr>\n",
       "    <tr>\n",
       "      <th>2013-01-05</th>\n",
       "      <td>1.419695</td>\n",
       "      <td>-0.750296</td>\n",
       "      <td>1.601742</td>\n",
       "      <td>-0.174387</td>\n",
       "      <td>4.0</td>\n",
       "    </tr>\n",
       "    <tr>\n",
       "      <th>2013-01-06</th>\n",
       "      <td>-0.176502</td>\n",
       "      <td>-1.567668</td>\n",
       "      <td>-0.218026</td>\n",
       "      <td>-0.352392</td>\n",
       "      <td>5.0</td>\n",
       "    </tr>\n",
       "  </tbody>\n",
       "</table>\n",
       "</div>"
      ],
      "text/plain": [
       "                   A         B         C         D    F\n",
       "2013-01-01  1.433243 -0.829467  0.174798  0.626780  NaN\n",
       "2013-01-02  0.513042 -1.077741  1.089488 -0.419946  1.0\n",
       "2013-01-03  1.548976  0.404802  0.457258 -1.101466  2.0\n",
       "2013-01-04 -1.058696  0.023663  0.345492  0.364095  3.0\n",
       "2013-01-05  1.419695 -0.750296  1.601742 -0.174387  4.0\n",
       "2013-01-06 -0.176502 -1.567668 -0.218026 -0.352392  5.0"
      ]
     },
     "execution_count": 23,
     "metadata": {},
     "output_type": "execute_result"
    }
   ],
   "source": [
    "df['F'] = s1\n",
    "df\n",
    "#这里用和原来一样的索引（时间）为原来的dataframe增加了一列数据"
   ]
  },
  {
   "cell_type": "code",
   "execution_count": 36,
   "metadata": {
    "collapsed": false
   },
   "outputs": [
    {
     "data": {
      "text/html": [
       "<div>\n",
       "<table border=\"1\" class=\"dataframe\">\n",
       "  <thead>\n",
       "    <tr style=\"text-align: right;\">\n",
       "      <th></th>\n",
       "      <th>A</th>\n",
       "      <th>B</th>\n",
       "      <th>C</th>\n",
       "      <th>D</th>\n",
       "      <th>F</th>\n",
       "    </tr>\n",
       "  </thead>\n",
       "  <tbody>\n",
       "    <tr>\n",
       "      <th>2013-01-01</th>\n",
       "      <td>1.433243</td>\n",
       "      <td>0.000000</td>\n",
       "      <td>0.174798</td>\n",
       "      <td>5</td>\n",
       "      <td>NaN</td>\n",
       "    </tr>\n",
       "    <tr>\n",
       "      <th>2013-01-02</th>\n",
       "      <td>0.513042</td>\n",
       "      <td>-1.077741</td>\n",
       "      <td>1.089488</td>\n",
       "      <td>5</td>\n",
       "      <td>1.0</td>\n",
       "    </tr>\n",
       "    <tr>\n",
       "      <th>2013-01-03</th>\n",
       "      <td>1.548976</td>\n",
       "      <td>0.404802</td>\n",
       "      <td>0.457258</td>\n",
       "      <td>5</td>\n",
       "      <td>2.0</td>\n",
       "    </tr>\n",
       "    <tr>\n",
       "      <th>2013-01-04</th>\n",
       "      <td>-1.058696</td>\n",
       "      <td>0.023663</td>\n",
       "      <td>0.345492</td>\n",
       "      <td>5</td>\n",
       "      <td>3.0</td>\n",
       "    </tr>\n",
       "    <tr>\n",
       "      <th>2013-01-05</th>\n",
       "      <td>1.419695</td>\n",
       "      <td>-0.750296</td>\n",
       "      <td>1.601742</td>\n",
       "      <td>5</td>\n",
       "      <td>4.0</td>\n",
       "    </tr>\n",
       "    <tr>\n",
       "      <th>2013-01-06</th>\n",
       "      <td>-0.176502</td>\n",
       "      <td>-1.567668</td>\n",
       "      <td>-0.218026</td>\n",
       "      <td>5</td>\n",
       "      <td>5.0</td>\n",
       "    </tr>\n",
       "  </tbody>\n",
       "</table>\n",
       "</div>"
      ],
      "text/plain": [
       "                   A         B         C  D    F\n",
       "2013-01-01  1.433243  0.000000  0.174798  5  NaN\n",
       "2013-01-02  0.513042 -1.077741  1.089488  5  1.0\n",
       "2013-01-03  1.548976  0.404802  0.457258  5  2.0\n",
       "2013-01-04 -1.058696  0.023663  0.345492  5  3.0\n",
       "2013-01-05  1.419695 -0.750296  1.601742  5  4.0\n",
       "2013-01-06 -0.176502 -1.567668 -0.218026  5  5.0"
      ]
     },
     "execution_count": 36,
     "metadata": {},
     "output_type": "execute_result"
    }
   ],
   "source": [
    "#通过使用numpy数组分配进行设置:\n",
    "\n",
    "df.loc[:,'D'] = np.array([5] * len(df))\n",
    "df\n",
    "#注：产生一个数组，每个元素值为5，长度为df的行数，替换在原来df的D列"
   ]
  },
  {
   "cell_type": "code",
   "execution_count": 37,
   "metadata": {
    "collapsed": false
   },
   "outputs": [
    {
     "data": {
      "text/html": [
       "<div>\n",
       "<table border=\"1\" class=\"dataframe\">\n",
       "  <thead>\n",
       "    <tr style=\"text-align: right;\">\n",
       "      <th></th>\n",
       "      <th>A</th>\n",
       "      <th>B</th>\n",
       "      <th>C</th>\n",
       "      <th>D</th>\n",
       "      <th>F</th>\n",
       "    </tr>\n",
       "  </thead>\n",
       "  <tbody>\n",
       "    <tr>\n",
       "      <th>2013-01-01</th>\n",
       "      <td>1.433243</td>\n",
       "      <td>0.000000</td>\n",
       "      <td>0.174798</td>\n",
       "      <td>5</td>\n",
       "      <td>NaN</td>\n",
       "    </tr>\n",
       "    <tr>\n",
       "      <th>2013-01-02</th>\n",
       "      <td>0.513042</td>\n",
       "      <td>-1.077741</td>\n",
       "      <td>1.089488</td>\n",
       "      <td>5</td>\n",
       "      <td>1.0</td>\n",
       "    </tr>\n",
       "    <tr>\n",
       "      <th>2013-01-03</th>\n",
       "      <td>1.548976</td>\n",
       "      <td>0.404802</td>\n",
       "      <td>0.457258</td>\n",
       "      <td>5</td>\n",
       "      <td>2.0</td>\n",
       "    </tr>\n",
       "    <tr>\n",
       "      <th>2013-01-04</th>\n",
       "      <td>-1.058696</td>\n",
       "      <td>0.023663</td>\n",
       "      <td>0.345492</td>\n",
       "      <td>5</td>\n",
       "      <td>3.0</td>\n",
       "    </tr>\n",
       "    <tr>\n",
       "      <th>2013-01-05</th>\n",
       "      <td>1.419695</td>\n",
       "      <td>-0.750296</td>\n",
       "      <td>1.601742</td>\n",
       "      <td>5</td>\n",
       "      <td>4.0</td>\n",
       "    </tr>\n",
       "    <tr>\n",
       "      <th>2013-01-06</th>\n",
       "      <td>-0.176502</td>\n",
       "      <td>-1.567668</td>\n",
       "      <td>-0.218026</td>\n",
       "      <td>5</td>\n",
       "      <td>5.0</td>\n",
       "    </tr>\n",
       "  </tbody>\n",
       "</table>\n",
       "</div>"
      ],
      "text/plain": [
       "                   A         B         C  D    F\n",
       "2013-01-01  1.433243  0.000000  0.174798  5  NaN\n",
       "2013-01-02  0.513042 -1.077741  1.089488  5  1.0\n",
       "2013-01-03  1.548976  0.404802  0.457258  5  2.0\n",
       "2013-01-04 -1.058696  0.023663  0.345492  5  3.0\n",
       "2013-01-05  1.419695 -0.750296  1.601742  5  4.0\n",
       "2013-01-06 -0.176502 -1.567668 -0.218026  5  5.0"
      ]
     },
     "execution_count": 37,
     "metadata": {},
     "output_type": "execute_result"
    }
   ],
   "source": [
    "#按位置设定值：\n",
    "df.iat[0,1] = 0\n",
    "df\n",
    "#注：将第一行第二列的数值设定为0"
   ]
  },
  {
   "cell_type": "code",
   "execution_count": 40,
   "metadata": {
    "collapsed": false
   },
   "outputs": [
    {
     "data": {
      "text/html": [
       "<div>\n",
       "<table border=\"1\" class=\"dataframe\">\n",
       "  <thead>\n",
       "    <tr style=\"text-align: right;\">\n",
       "      <th></th>\n",
       "      <th>A</th>\n",
       "      <th>B</th>\n",
       "      <th>C</th>\n",
       "      <th>D</th>\n",
       "      <th>F</th>\n",
       "    </tr>\n",
       "  </thead>\n",
       "  <tbody>\n",
       "    <tr>\n",
       "      <th>2013-01-01</th>\n",
       "      <td>-1.433243</td>\n",
       "      <td>0.000000</td>\n",
       "      <td>-0.174798</td>\n",
       "      <td>-5</td>\n",
       "      <td>NaN</td>\n",
       "    </tr>\n",
       "    <tr>\n",
       "      <th>2013-01-02</th>\n",
       "      <td>-0.513042</td>\n",
       "      <td>-1.077741</td>\n",
       "      <td>-1.089488</td>\n",
       "      <td>-5</td>\n",
       "      <td>-1.0</td>\n",
       "    </tr>\n",
       "    <tr>\n",
       "      <th>2013-01-03</th>\n",
       "      <td>-1.548976</td>\n",
       "      <td>-0.404802</td>\n",
       "      <td>-0.457258</td>\n",
       "      <td>-5</td>\n",
       "      <td>-2.0</td>\n",
       "    </tr>\n",
       "    <tr>\n",
       "      <th>2013-01-04</th>\n",
       "      <td>-1.058696</td>\n",
       "      <td>-0.023663</td>\n",
       "      <td>-0.345492</td>\n",
       "      <td>-5</td>\n",
       "      <td>-3.0</td>\n",
       "    </tr>\n",
       "    <tr>\n",
       "      <th>2013-01-05</th>\n",
       "      <td>-1.419695</td>\n",
       "      <td>-0.750296</td>\n",
       "      <td>-1.601742</td>\n",
       "      <td>-5</td>\n",
       "      <td>-4.0</td>\n",
       "    </tr>\n",
       "    <tr>\n",
       "      <th>2013-01-06</th>\n",
       "      <td>-0.176502</td>\n",
       "      <td>-1.567668</td>\n",
       "      <td>-0.218026</td>\n",
       "      <td>-5</td>\n",
       "      <td>-5.0</td>\n",
       "    </tr>\n",
       "  </tbody>\n",
       "</table>\n",
       "</div>"
      ],
      "text/plain": [
       "                   A         B         C  D    F\n",
       "2013-01-01 -1.433243  0.000000 -0.174798 -5  NaN\n",
       "2013-01-02 -0.513042 -1.077741 -1.089488 -5 -1.0\n",
       "2013-01-03 -1.548976 -0.404802 -0.457258 -5 -2.0\n",
       "2013-01-04 -1.058696 -0.023663 -0.345492 -5 -3.0\n",
       "2013-01-05 -1.419695 -0.750296 -1.601742 -5 -4.0\n",
       "2013-01-06 -0.176502 -1.567668 -0.218026 -5 -5.0"
      ]
     },
     "execution_count": 40,
     "metadata": {},
     "output_type": "execute_result"
    }
   ],
   "source": [
    "#设置操作：\n",
    "\n",
    "df2 = df.copy()\n",
    "df2[df2 > 0] = -df2\n",
    "df2\n",
    "#注：将df copy一份命名为df2，然后将df2中大于零的数加负号\n",
    "#参考  参考文献:http://pandas.pydata.org/pandas-docs/version/0.20/10min.html#selection"
   ]
  },
  {
   "cell_type": "markdown",
   "metadata": {},
   "source": [
    "# 中"
   ]
  },
  {
   "cell_type": "code",
   "execution_count": 41,
   "metadata": {
    "collapsed": false
   },
   "outputs": [
    {
     "data": {
      "text/html": [
       "<div>\n",
       "<table border=\"1\" class=\"dataframe\">\n",
       "  <thead>\n",
       "    <tr style=\"text-align: right;\">\n",
       "      <th></th>\n",
       "      <th>A</th>\n",
       "      <th>B</th>\n",
       "      <th>C</th>\n",
       "      <th>D</th>\n",
       "    </tr>\n",
       "  </thead>\n",
       "  <tbody>\n",
       "    <tr>\n",
       "      <th>2013-01-01</th>\n",
       "      <td>1.317181</td>\n",
       "      <td>1.318491</td>\n",
       "      <td>-1.781522</td>\n",
       "      <td>-0.345757</td>\n",
       "    </tr>\n",
       "    <tr>\n",
       "      <th>2013-01-02</th>\n",
       "      <td>0.827127</td>\n",
       "      <td>0.774527</td>\n",
       "      <td>0.582425</td>\n",
       "      <td>-1.312169</td>\n",
       "    </tr>\n",
       "    <tr>\n",
       "      <th>2013-01-03</th>\n",
       "      <td>0.938149</td>\n",
       "      <td>0.957378</td>\n",
       "      <td>-0.736190</td>\n",
       "      <td>-0.845775</td>\n",
       "    </tr>\n",
       "    <tr>\n",
       "      <th>2013-01-04</th>\n",
       "      <td>-0.950147</td>\n",
       "      <td>-2.348084</td>\n",
       "      <td>-1.340335</td>\n",
       "      <td>2.516716</td>\n",
       "    </tr>\n",
       "    <tr>\n",
       "      <th>2013-01-05</th>\n",
       "      <td>-1.322743</td>\n",
       "      <td>0.764515</td>\n",
       "      <td>1.818695</td>\n",
       "      <td>-1.175141</td>\n",
       "    </tr>\n",
       "    <tr>\n",
       "      <th>2013-01-06</th>\n",
       "      <td>-0.952256</td>\n",
       "      <td>-0.181709</td>\n",
       "      <td>-0.175145</td>\n",
       "      <td>-0.249333</td>\n",
       "    </tr>\n",
       "  </tbody>\n",
       "</table>\n",
       "</div>"
      ],
      "text/plain": [
       "                   A         B         C         D\n",
       "2013-01-01  1.317181  1.318491 -1.781522 -0.345757\n",
       "2013-01-02  0.827127  0.774527  0.582425 -1.312169\n",
       "2013-01-03  0.938149  0.957378 -0.736190 -0.845775\n",
       "2013-01-04 -0.950147 -2.348084 -1.340335  2.516716\n",
       "2013-01-05 -1.322743  0.764515  1.818695 -1.175141\n",
       "2013-01-06 -0.952256 -0.181709 -0.175145 -0.249333"
      ]
     },
     "execution_count": 41,
     "metadata": {},
     "output_type": "execute_result"
    }
   ],
   "source": [
    "import pandas as pd\n",
    "import numpy as np\n",
    "import matplotlib.pyplot as plt\n",
    "\n",
    "df = pd.DataFrame(np.random.randn(6,4), index=dates, columns=list('ABCD'))\n",
    "df"
   ]
  },
  {
   "cell_type": "markdown",
   "metadata": {
    "collapsed": true
   },
   "source": [
    "### 缺失值处理\n",
    "\n",
    "pandas主要使用值np.nan来表示丢失的数据。 默认情况下不包括在计算中。 请参阅缺少数据部分：http://pandas.pydata.org/pandas-docs/version/0.20/missing_data.html#missing-data\n",
    "\n",
    "重新索引允许您更改/添加/删除指定轴上的索引。 这将返回数据的副本。\n",
    "\n"
   ]
  },
  {
   "cell_type": "code",
   "execution_count": 11,
   "metadata": {
    "collapsed": false
   },
   "outputs": [
    {
     "data": {
      "text/html": [
       "<div>\n",
       "<table border=\"1\" class=\"dataframe\">\n",
       "  <thead>\n",
       "    <tr style=\"text-align: right;\">\n",
       "      <th></th>\n",
       "      <th>A</th>\n",
       "      <th>B</th>\n",
       "      <th>C</th>\n",
       "      <th>D</th>\n",
       "      <th>E</th>\n",
       "    </tr>\n",
       "  </thead>\n",
       "  <tbody>\n",
       "    <tr>\n",
       "      <th>2013-01-01</th>\n",
       "      <td>0.307542</td>\n",
       "      <td>-1.003312</td>\n",
       "      <td>-0.187681</td>\n",
       "      <td>-0.487298</td>\n",
       "      <td>1.0</td>\n",
       "    </tr>\n",
       "    <tr>\n",
       "      <th>2013-01-02</th>\n",
       "      <td>0.178463</td>\n",
       "      <td>0.336065</td>\n",
       "      <td>-1.268173</td>\n",
       "      <td>-0.587128</td>\n",
       "      <td>1.0</td>\n",
       "    </tr>\n",
       "    <tr>\n",
       "      <th>2013-01-03</th>\n",
       "      <td>-0.212807</td>\n",
       "      <td>2.461145</td>\n",
       "      <td>1.258369</td>\n",
       "      <td>1.899394</td>\n",
       "      <td>NaN</td>\n",
       "    </tr>\n",
       "    <tr>\n",
       "      <th>2013-01-04</th>\n",
       "      <td>-1.327291</td>\n",
       "      <td>-1.853210</td>\n",
       "      <td>-0.055177</td>\n",
       "      <td>1.253360</td>\n",
       "      <td>NaN</td>\n",
       "    </tr>\n",
       "  </tbody>\n",
       "</table>\n",
       "</div>"
      ],
      "text/plain": [
       "                   A         B         C         D    E\n",
       "2013-01-01  0.307542 -1.003312 -0.187681 -0.487298  1.0\n",
       "2013-01-02  0.178463  0.336065 -1.268173 -0.587128  1.0\n",
       "2013-01-03 -0.212807  2.461145  1.258369  1.899394  NaN\n",
       "2013-01-04 -1.327291 -1.853210 -0.055177  1.253360  NaN"
      ]
     },
     "execution_count": 11,
     "metadata": {},
     "output_type": "execute_result"
    }
   ],
   "source": [
    "df1 = df.reindex(index=dates[0:4], columns=list(df.columns) + ['E'])\n",
    "\n",
    "df1.loc[dates[0]:dates[1],'E'] = 1\n",
    "\n",
    "df1\n",
    "#注：增加了一个新列E，并且给E列第一行和第二行数据赋值为1，则没赋值的数据显示不存在。"
   ]
  },
  {
   "cell_type": "code",
   "execution_count": 12,
   "metadata": {
    "collapsed": false
   },
   "outputs": [
    {
     "data": {
      "text/html": [
       "<div>\n",
       "<table border=\"1\" class=\"dataframe\">\n",
       "  <thead>\n",
       "    <tr style=\"text-align: right;\">\n",
       "      <th></th>\n",
       "      <th>A</th>\n",
       "      <th>B</th>\n",
       "      <th>C</th>\n",
       "      <th>D</th>\n",
       "      <th>E</th>\n",
       "    </tr>\n",
       "  </thead>\n",
       "  <tbody>\n",
       "    <tr>\n",
       "      <th>2013-01-01</th>\n",
       "      <td>0.307542</td>\n",
       "      <td>-1.003312</td>\n",
       "      <td>-0.187681</td>\n",
       "      <td>-0.487298</td>\n",
       "      <td>1.0</td>\n",
       "    </tr>\n",
       "    <tr>\n",
       "      <th>2013-01-02</th>\n",
       "      <td>0.178463</td>\n",
       "      <td>0.336065</td>\n",
       "      <td>-1.268173</td>\n",
       "      <td>-0.587128</td>\n",
       "      <td>1.0</td>\n",
       "    </tr>\n",
       "  </tbody>\n",
       "</table>\n",
       "</div>"
      ],
      "text/plain": [
       "                   A         B         C         D    E\n",
       "2013-01-01  0.307542 -1.003312 -0.187681 -0.487298  1.0\n",
       "2013-01-02  0.178463  0.336065 -1.268173 -0.587128  1.0"
      ]
     },
     "execution_count": 12,
     "metadata": {},
     "output_type": "execute_result"
    }
   ],
   "source": [
    "#删除存在缺失值的行：\n",
    "\n",
    "df1.dropna(how='any')"
   ]
  },
  {
   "cell_type": "code",
   "execution_count": 14,
   "metadata": {
    "collapsed": false
   },
   "outputs": [
    {
     "data": {
      "text/html": [
       "<div>\n",
       "<table border=\"1\" class=\"dataframe\">\n",
       "  <thead>\n",
       "    <tr style=\"text-align: right;\">\n",
       "      <th></th>\n",
       "      <th>A</th>\n",
       "      <th>B</th>\n",
       "      <th>C</th>\n",
       "      <th>D</th>\n",
       "      <th>E</th>\n",
       "    </tr>\n",
       "  </thead>\n",
       "  <tbody>\n",
       "    <tr>\n",
       "      <th>2013-01-01</th>\n",
       "      <td>0.307542</td>\n",
       "      <td>-1.003312</td>\n",
       "      <td>-0.187681</td>\n",
       "      <td>-0.487298</td>\n",
       "      <td>1.0</td>\n",
       "    </tr>\n",
       "    <tr>\n",
       "      <th>2013-01-02</th>\n",
       "      <td>0.178463</td>\n",
       "      <td>0.336065</td>\n",
       "      <td>-1.268173</td>\n",
       "      <td>-0.587128</td>\n",
       "      <td>1.0</td>\n",
       "    </tr>\n",
       "    <tr>\n",
       "      <th>2013-01-03</th>\n",
       "      <td>-0.212807</td>\n",
       "      <td>2.461145</td>\n",
       "      <td>1.258369</td>\n",
       "      <td>1.899394</td>\n",
       "      <td>5.0</td>\n",
       "    </tr>\n",
       "    <tr>\n",
       "      <th>2013-01-04</th>\n",
       "      <td>-1.327291</td>\n",
       "      <td>-1.853210</td>\n",
       "      <td>-0.055177</td>\n",
       "      <td>1.253360</td>\n",
       "      <td>5.0</td>\n",
       "    </tr>\n",
       "  </tbody>\n",
       "</table>\n",
       "</div>"
      ],
      "text/plain": [
       "                   A         B         C         D    E\n",
       "2013-01-01  0.307542 -1.003312 -0.187681 -0.487298  1.0\n",
       "2013-01-02  0.178463  0.336065 -1.268173 -0.587128  1.0\n",
       "2013-01-03 -0.212807  2.461145  1.258369  1.899394  5.0\n",
       "2013-01-04 -1.327291 -1.853210 -0.055177  1.253360  5.0"
      ]
     },
     "execution_count": 14,
     "metadata": {},
     "output_type": "execute_result"
    }
   ],
   "source": [
    "#填充缺失值：\n",
    "\n",
    "df1.fillna(value=5)\n",
    "\n",
    "#注：这里使用5去填充，实际中，我们做数据分析常用0，中位数，平均数来填充。"
   ]
  },
  {
   "cell_type": "code",
   "execution_count": 16,
   "metadata": {
    "collapsed": false
   },
   "outputs": [
    {
     "data": {
      "text/html": [
       "<div>\n",
       "<table border=\"1\" class=\"dataframe\">\n",
       "  <thead>\n",
       "    <tr style=\"text-align: right;\">\n",
       "      <th></th>\n",
       "      <th>A</th>\n",
       "      <th>B</th>\n",
       "      <th>C</th>\n",
       "      <th>D</th>\n",
       "      <th>E</th>\n",
       "    </tr>\n",
       "  </thead>\n",
       "  <tbody>\n",
       "    <tr>\n",
       "      <th>2013-01-01</th>\n",
       "      <td>False</td>\n",
       "      <td>False</td>\n",
       "      <td>False</td>\n",
       "      <td>False</td>\n",
       "      <td>False</td>\n",
       "    </tr>\n",
       "    <tr>\n",
       "      <th>2013-01-02</th>\n",
       "      <td>False</td>\n",
       "      <td>False</td>\n",
       "      <td>False</td>\n",
       "      <td>False</td>\n",
       "      <td>False</td>\n",
       "    </tr>\n",
       "    <tr>\n",
       "      <th>2013-01-03</th>\n",
       "      <td>False</td>\n",
       "      <td>False</td>\n",
       "      <td>False</td>\n",
       "      <td>False</td>\n",
       "      <td>True</td>\n",
       "    </tr>\n",
       "    <tr>\n",
       "      <th>2013-01-04</th>\n",
       "      <td>False</td>\n",
       "      <td>False</td>\n",
       "      <td>False</td>\n",
       "      <td>False</td>\n",
       "      <td>True</td>\n",
       "    </tr>\n",
       "  </tbody>\n",
       "</table>\n",
       "</div>"
      ],
      "text/plain": [
       "                A      B      C      D      E\n",
       "2013-01-01  False  False  False  False  False\n",
       "2013-01-02  False  False  False  False  False\n",
       "2013-01-03  False  False  False  False   True\n",
       "2013-01-04  False  False  False  False   True"
      ]
     },
     "execution_count": 16,
     "metadata": {},
     "output_type": "execute_result"
    }
   ],
   "source": [
    "#查看空值数据：\n",
    "\n",
    "pd.isnull(df1)\n",
    "#注：返回True的是空值数据"
   ]
  },
  {
   "cell_type": "markdown",
   "metadata": {},
   "source": [
    "### 操作\n",
    "\n",
    "请参阅二进制操作的基本部分：http://pandas.pydata.org/pandas-docs/version/0.20/basics.html#basics-binop\n",
    "\n",
    "### 统计\n",
    "\n",
    "操作中一般不包含丢失的数据\n",
    "\n",
    "执行描述性统计："
   ]
  },
  {
   "cell_type": "code",
   "execution_count": 17,
   "metadata": {
    "collapsed": false
   },
   "outputs": [
    {
     "data": {
      "text/plain": [
       "A   -0.376586\n",
       "B   -0.005401\n",
       "C    0.263381\n",
       "D    0.087167\n",
       "dtype: float64"
      ]
     },
     "execution_count": 17,
     "metadata": {},
     "output_type": "execute_result"
    }
   ],
   "source": [
    "df.mean() #求每列平均值"
   ]
  },
  {
   "cell_type": "code",
   "execution_count": 18,
   "metadata": {
    "collapsed": false
   },
   "outputs": [
    {
     "data": {
      "text/plain": [
       "2013-01-01   -0.342688\n",
       "2013-01-02   -0.335194\n",
       "2013-01-03    1.351525\n",
       "2013-01-04   -0.495580\n",
       "2013-01-05   -0.339419\n",
       "2013-01-06    0.114197\n",
       "Freq: D, dtype: float64"
      ]
     },
     "execution_count": 18,
     "metadata": {},
     "output_type": "execute_result"
    }
   ],
   "source": [
    "df.mean(1) #每行求平均值"
   ]
  },
  {
   "cell_type": "markdown",
   "metadata": {},
   "source": [
    "### Apply\n",
    "\n",
    "将功能用于处理数据"
   ]
  },
  {
   "cell_type": "code",
   "execution_count": 6,
   "metadata": {
    "collapsed": false
   },
   "outputs": [
    {
     "data": {
      "text/html": [
       "<div>\n",
       "<table border=\"1\" class=\"dataframe\">\n",
       "  <thead>\n",
       "    <tr style=\"text-align: right;\">\n",
       "      <th></th>\n",
       "      <th>A</th>\n",
       "      <th>B</th>\n",
       "      <th>C</th>\n",
       "      <th>D</th>\n",
       "    </tr>\n",
       "  </thead>\n",
       "  <tbody>\n",
       "    <tr>\n",
       "      <th>2013-01-01</th>\n",
       "      <td>-1.703983</td>\n",
       "      <td>0.557363</td>\n",
       "      <td>-0.081021</td>\n",
       "      <td>1.114630</td>\n",
       "    </tr>\n",
       "    <tr>\n",
       "      <th>2013-01-02</th>\n",
       "      <td>-2.716743</td>\n",
       "      <td>0.570351</td>\n",
       "      <td>-0.426867</td>\n",
       "      <td>0.577125</td>\n",
       "    </tr>\n",
       "    <tr>\n",
       "      <th>2013-01-03</th>\n",
       "      <td>-4.608926</td>\n",
       "      <td>2.418717</td>\n",
       "      <td>0.755866</td>\n",
       "      <td>0.628795</td>\n",
       "    </tr>\n",
       "    <tr>\n",
       "      <th>2013-01-04</th>\n",
       "      <td>-2.628010</td>\n",
       "      <td>1.346542</td>\n",
       "      <td>0.345827</td>\n",
       "      <td>0.516688</td>\n",
       "    </tr>\n",
       "    <tr>\n",
       "      <th>2013-01-05</th>\n",
       "      <td>-2.791481</td>\n",
       "      <td>2.029115</td>\n",
       "      <td>1.015584</td>\n",
       "      <td>1.834751</td>\n",
       "    </tr>\n",
       "    <tr>\n",
       "      <th>2013-01-06</th>\n",
       "      <td>-1.387836</td>\n",
       "      <td>1.790508</td>\n",
       "      <td>-0.381507</td>\n",
       "      <td>-0.210285</td>\n",
       "    </tr>\n",
       "  </tbody>\n",
       "</table>\n",
       "</div>"
      ],
      "text/plain": [
       "                   A         B         C         D\n",
       "2013-01-01 -1.703983  0.557363 -0.081021  1.114630\n",
       "2013-01-02 -2.716743  0.570351 -0.426867  0.577125\n",
       "2013-01-03 -4.608926  2.418717  0.755866  0.628795\n",
       "2013-01-04 -2.628010  1.346542  0.345827  0.516688\n",
       "2013-01-05 -2.791481  2.029115  1.015584  1.834751\n",
       "2013-01-06 -1.387836  1.790508 -0.381507 -0.210285"
      ]
     },
     "execution_count": 6,
     "metadata": {},
     "output_type": "execute_result"
    }
   ],
   "source": [
    "df.apply(np.cumsum)\n",
    "#注：列累加，就是第二列的结果等于第一列加第二列数据，依次累加。"
   ]
  },
  {
   "cell_type": "code",
   "execution_count": 7,
   "metadata": {
    "collapsed": false
   },
   "outputs": [
    {
     "data": {
      "text/plain": [
       "A    3.873098\n",
       "B    2.920539\n",
       "C    2.579825\n",
       "D    3.363100\n",
       "dtype: float64"
      ]
     },
     "execution_count": 7,
     "metadata": {},
     "output_type": "execute_result"
    }
   ],
   "source": [
    "#使用匿名函数求每列的最大值和最小值的差：\n",
    "\n",
    "df.apply(lambda x: x.max() - x.min())"
   ]
  },
  {
   "cell_type": "markdown",
   "metadata": {
    "collapsed": true
   },
   "source": [
    "### 直方图化\n",
    "\n",
    "直方图和离散化查看更多资料：http://pandas.pydata.org/pandas-docs/version/0.20/basics.html#basics-discretization"
   ]
  },
  {
   "cell_type": "code",
   "execution_count": 9,
   "metadata": {
    "collapsed": false
   },
   "outputs": [
    {
     "data": {
      "text/plain": [
       "0    2\n",
       "1    1\n",
       "2    0\n",
       "3    6\n",
       "4    6\n",
       "5    3\n",
       "6    5\n",
       "7    1\n",
       "8    6\n",
       "9    0\n",
       "dtype: int32"
      ]
     },
     "execution_count": 9,
     "metadata": {},
     "output_type": "execute_result"
    }
   ],
   "source": [
    "s = pd.Series(np.random.randint(0, 7, size=10))\n",
    "s\n",
    "#注：在0-7中随机产生10个整数"
   ]
  },
  {
   "cell_type": "code",
   "execution_count": 10,
   "metadata": {
    "collapsed": false
   },
   "outputs": [
    {
     "data": {
      "text/plain": [
       "6    3\n",
       "1    2\n",
       "0    2\n",
       "5    1\n",
       "3    1\n",
       "2    1\n",
       "dtype: int64"
      ]
     },
     "execution_count": 10,
     "metadata": {},
     "output_type": "execute_result"
    }
   ],
   "source": [
    "s.value_counts()\n",
    "#注：对数据进行计数"
   ]
  },
  {
   "cell_type": "markdown",
   "metadata": {},
   "source": [
    "## 操作字符串的方法\n",
    "### 字符串方法\n",
    "\n",
    "Series中配置了一组字符串处理方法，使其易于在数组的每个元素上进行操作，如下面的代码片段所示。请注意，str中的模式匹配通常默认使用正则表达式（在某些情况下始终使用它们）。 在矢量化字符串方法中查看更多：http://pandas.pydata.org/pandas-docs/version/0.20/text.html#text-string-methods\n",
    "\n",
    "正则表达式：https://docs.python.org/2/library/re.html"
   ]
  },
  {
   "cell_type": "code",
   "execution_count": 11,
   "metadata": {
    "collapsed": true
   },
   "outputs": [],
   "source": [
    "s = pd.Series(['A', 'B', 'C', 'Aaba', 'Baca', np.nan, 'CABA', 'dog', 'cat']) \n",
    "\n",
    "#注：创建一个Series"
   ]
  },
  {
   "cell_type": "code",
   "execution_count": 12,
   "metadata": {
    "collapsed": false
   },
   "outputs": [
    {
     "data": {
      "text/plain": [
       "0       a\n",
       "1       b\n",
       "2       c\n",
       "3    aaba\n",
       "4    baca\n",
       "5     NaN\n",
       "6    caba\n",
       "7     dog\n",
       "8     cat\n",
       "dtype: object"
      ]
     },
     "execution_count": 12,
     "metadata": {},
     "output_type": "execute_result"
    }
   ],
   "source": [
    "s.str.lower()\n",
    "\n",
    "#注：把其中所有的英文字母变成小写"
   ]
  },
  {
   "cell_type": "markdown",
   "metadata": {},
   "source": [
    "###合并\n",
    "### 字符连接\n",
    "\n",
    "合并操作更多内容：http://pandas.pydata.org/pandas-docs/version/0.20/merging.html#merging\n",
    "\n",
    "将pandas对象用concat()连接在一起"
   ]
  },
  {
   "cell_type": "code",
   "execution_count": 13,
   "metadata": {
    "collapsed": false
   },
   "outputs": [
    {
     "data": {
      "text/html": [
       "<div>\n",
       "<table border=\"1\" class=\"dataframe\">\n",
       "  <thead>\n",
       "    <tr style=\"text-align: right;\">\n",
       "      <th></th>\n",
       "      <th>0</th>\n",
       "      <th>1</th>\n",
       "      <th>2</th>\n",
       "      <th>3</th>\n",
       "    </tr>\n",
       "  </thead>\n",
       "  <tbody>\n",
       "    <tr>\n",
       "      <th>0</th>\n",
       "      <td>0.483189</td>\n",
       "      <td>-0.046699</td>\n",
       "      <td>-1.437915</td>\n",
       "      <td>-0.126020</td>\n",
       "    </tr>\n",
       "    <tr>\n",
       "      <th>1</th>\n",
       "      <td>0.097556</td>\n",
       "      <td>-0.059439</td>\n",
       "      <td>-0.309435</td>\n",
       "      <td>0.997178</td>\n",
       "    </tr>\n",
       "    <tr>\n",
       "      <th>2</th>\n",
       "      <td>0.574349</td>\n",
       "      <td>1.285672</td>\n",
       "      <td>0.690034</td>\n",
       "      <td>1.105019</td>\n",
       "    </tr>\n",
       "    <tr>\n",
       "      <th>3</th>\n",
       "      <td>1.653983</td>\n",
       "      <td>0.831466</td>\n",
       "      <td>1.769762</td>\n",
       "      <td>-1.852089</td>\n",
       "    </tr>\n",
       "    <tr>\n",
       "      <th>4</th>\n",
       "      <td>-0.714725</td>\n",
       "      <td>-0.243085</td>\n",
       "      <td>-0.730144</td>\n",
       "      <td>-1.445537</td>\n",
       "    </tr>\n",
       "    <tr>\n",
       "      <th>5</th>\n",
       "      <td>1.532436</td>\n",
       "      <td>-0.142066</td>\n",
       "      <td>1.000814</td>\n",
       "      <td>-0.073669</td>\n",
       "    </tr>\n",
       "    <tr>\n",
       "      <th>6</th>\n",
       "      <td>2.498065</td>\n",
       "      <td>-2.116511</td>\n",
       "      <td>0.872195</td>\n",
       "      <td>-0.402487</td>\n",
       "    </tr>\n",
       "    <tr>\n",
       "      <th>7</th>\n",
       "      <td>1.050049</td>\n",
       "      <td>-1.289657</td>\n",
       "      <td>0.005652</td>\n",
       "      <td>-1.434630</td>\n",
       "    </tr>\n",
       "    <tr>\n",
       "      <th>8</th>\n",
       "      <td>0.227480</td>\n",
       "      <td>0.506280</td>\n",
       "      <td>1.135264</td>\n",
       "      <td>-0.390979</td>\n",
       "    </tr>\n",
       "    <tr>\n",
       "      <th>9</th>\n",
       "      <td>1.120938</td>\n",
       "      <td>0.920925</td>\n",
       "      <td>1.412104</td>\n",
       "      <td>-0.694863</td>\n",
       "    </tr>\n",
       "  </tbody>\n",
       "</table>\n",
       "</div>"
      ],
      "text/plain": [
       "          0         1         2         3\n",
       "0  0.483189 -0.046699 -1.437915 -0.126020\n",
       "1  0.097556 -0.059439 -0.309435  0.997178\n",
       "2  0.574349  1.285672  0.690034  1.105019\n",
       "3  1.653983  0.831466  1.769762 -1.852089\n",
       "4 -0.714725 -0.243085 -0.730144 -1.445537\n",
       "5  1.532436 -0.142066  1.000814 -0.073669\n",
       "6  2.498065 -2.116511  0.872195 -0.402487\n",
       "7  1.050049 -1.289657  0.005652 -1.434630\n",
       "8  0.227480  0.506280  1.135264 -0.390979\n",
       "9  1.120938  0.920925  1.412104 -0.694863"
      ]
     },
     "execution_count": 13,
     "metadata": {},
     "output_type": "execute_result"
    }
   ],
   "source": [
    "df = pd.DataFrame(np.random.randn(10, 4))\n",
    "df\n",
    "#注：产生一个10行4列的标准正态分布"
   ]
  },
  {
   "cell_type": "code",
   "execution_count": 14,
   "metadata": {
    "collapsed": false
   },
   "outputs": [
    {
     "data": {
      "text/plain": [
       "[          0         1         2         3\n",
       " 0  0.483189 -0.046699 -1.437915 -0.126020\n",
       " 1  0.097556 -0.059439 -0.309435  0.997178\n",
       " 2  0.574349  1.285672  0.690034  1.105019,\n",
       "           0         1         2         3\n",
       " 3  1.653983  0.831466  1.769762 -1.852089\n",
       " 4 -0.714725 -0.243085 -0.730144 -1.445537\n",
       " 5  1.532436 -0.142066  1.000814 -0.073669\n",
       " 6  2.498065 -2.116511  0.872195 -0.402487,\n",
       "           0         1         2         3\n",
       " 7  1.050049 -1.289657  0.005652 -1.434630\n",
       " 8  0.227480  0.506280  1.135264 -0.390979\n",
       " 9  1.120938  0.920925  1.412104 -0.694863]"
      ]
     },
     "execution_count": 14,
     "metadata": {},
     "output_type": "execute_result"
    }
   ],
   "source": [
    "pieces = [df[:3], df[3:7], df[7:]]\n",
    "pieces\n",
    "\n",
    "#注：切成三块"
   ]
  },
  {
   "cell_type": "code",
   "execution_count": 16,
   "metadata": {
    "collapsed": false
   },
   "outputs": [
    {
     "data": {
      "text/html": [
       "<div>\n",
       "<table border=\"1\" class=\"dataframe\">\n",
       "  <thead>\n",
       "    <tr style=\"text-align: right;\">\n",
       "      <th></th>\n",
       "      <th>0</th>\n",
       "      <th>1</th>\n",
       "      <th>2</th>\n",
       "      <th>3</th>\n",
       "    </tr>\n",
       "  </thead>\n",
       "  <tbody>\n",
       "    <tr>\n",
       "      <th>0</th>\n",
       "      <td>0.483189</td>\n",
       "      <td>-0.046699</td>\n",
       "      <td>-1.437915</td>\n",
       "      <td>-0.126020</td>\n",
       "    </tr>\n",
       "    <tr>\n",
       "      <th>1</th>\n",
       "      <td>0.097556</td>\n",
       "      <td>-0.059439</td>\n",
       "      <td>-0.309435</td>\n",
       "      <td>0.997178</td>\n",
       "    </tr>\n",
       "    <tr>\n",
       "      <th>2</th>\n",
       "      <td>0.574349</td>\n",
       "      <td>1.285672</td>\n",
       "      <td>0.690034</td>\n",
       "      <td>1.105019</td>\n",
       "    </tr>\n",
       "    <tr>\n",
       "      <th>3</th>\n",
       "      <td>1.653983</td>\n",
       "      <td>0.831466</td>\n",
       "      <td>1.769762</td>\n",
       "      <td>-1.852089</td>\n",
       "    </tr>\n",
       "    <tr>\n",
       "      <th>4</th>\n",
       "      <td>-0.714725</td>\n",
       "      <td>-0.243085</td>\n",
       "      <td>-0.730144</td>\n",
       "      <td>-1.445537</td>\n",
       "    </tr>\n",
       "    <tr>\n",
       "      <th>5</th>\n",
       "      <td>1.532436</td>\n",
       "      <td>-0.142066</td>\n",
       "      <td>1.000814</td>\n",
       "      <td>-0.073669</td>\n",
       "    </tr>\n",
       "    <tr>\n",
       "      <th>6</th>\n",
       "      <td>2.498065</td>\n",
       "      <td>-2.116511</td>\n",
       "      <td>0.872195</td>\n",
       "      <td>-0.402487</td>\n",
       "    </tr>\n",
       "    <tr>\n",
       "      <th>7</th>\n",
       "      <td>1.050049</td>\n",
       "      <td>-1.289657</td>\n",
       "      <td>0.005652</td>\n",
       "      <td>-1.434630</td>\n",
       "    </tr>\n",
       "    <tr>\n",
       "      <th>8</th>\n",
       "      <td>0.227480</td>\n",
       "      <td>0.506280</td>\n",
       "      <td>1.135264</td>\n",
       "      <td>-0.390979</td>\n",
       "    </tr>\n",
       "    <tr>\n",
       "      <th>9</th>\n",
       "      <td>1.120938</td>\n",
       "      <td>0.920925</td>\n",
       "      <td>1.412104</td>\n",
       "      <td>-0.694863</td>\n",
       "    </tr>\n",
       "  </tbody>\n",
       "</table>\n",
       "</div>"
      ],
      "text/plain": [
       "          0         1         2         3\n",
       "0  0.483189 -0.046699 -1.437915 -0.126020\n",
       "1  0.097556 -0.059439 -0.309435  0.997178\n",
       "2  0.574349  1.285672  0.690034  1.105019\n",
       "3  1.653983  0.831466  1.769762 -1.852089\n",
       "4 -0.714725 -0.243085 -0.730144 -1.445537\n",
       "5  1.532436 -0.142066  1.000814 -0.073669\n",
       "6  2.498065 -2.116511  0.872195 -0.402487\n",
       "7  1.050049 -1.289657  0.005652 -1.434630\n",
       "8  0.227480  0.506280  1.135264 -0.390979\n",
       "9  1.120938  0.920925  1.412104 -0.694863"
      ]
     },
     "execution_count": 16,
     "metadata": {},
     "output_type": "execute_result"
    }
   ],
   "source": [
    "pd.concat(pieces)\n",
    "#注：将碎块合并"
   ]
  },
  {
   "cell_type": "markdown",
   "metadata": {},
   "source": [
    "### join加入操作\n",
    "\n",
    "SQL风格合并。 请参阅数据库风格加入：http://pandas.pydata.org/pandas-docs/version/0.20/merging.html#merging-join"
   ]
  },
  {
   "cell_type": "code",
   "execution_count": 17,
   "metadata": {
    "collapsed": false
   },
   "outputs": [
    {
     "data": {
      "text/html": [
       "<div>\n",
       "<table border=\"1\" class=\"dataframe\">\n",
       "  <thead>\n",
       "    <tr style=\"text-align: right;\">\n",
       "      <th></th>\n",
       "      <th>key</th>\n",
       "      <th>lval</th>\n",
       "    </tr>\n",
       "  </thead>\n",
       "  <tbody>\n",
       "    <tr>\n",
       "      <th>0</th>\n",
       "      <td>foo</td>\n",
       "      <td>1</td>\n",
       "    </tr>\n",
       "    <tr>\n",
       "      <th>1</th>\n",
       "      <td>foo</td>\n",
       "      <td>2</td>\n",
       "    </tr>\n",
       "  </tbody>\n",
       "</table>\n",
       "</div>"
      ],
      "text/plain": [
       "   key  lval\n",
       "0  foo     1\n",
       "1  foo     2"
      ]
     },
     "execution_count": 17,
     "metadata": {},
     "output_type": "execute_result"
    }
   ],
   "source": [
    "left = pd.DataFrame({'key': ['foo', 'foo'], 'lval': [1, 2]})\n",
    "left"
   ]
  },
  {
   "cell_type": "code",
   "execution_count": 18,
   "metadata": {
    "collapsed": false
   },
   "outputs": [
    {
     "data": {
      "text/html": [
       "<div>\n",
       "<table border=\"1\" class=\"dataframe\">\n",
       "  <thead>\n",
       "    <tr style=\"text-align: right;\">\n",
       "      <th></th>\n",
       "      <th>key</th>\n",
       "      <th>rval</th>\n",
       "    </tr>\n",
       "  </thead>\n",
       "  <tbody>\n",
       "    <tr>\n",
       "      <th>0</th>\n",
       "      <td>foo</td>\n",
       "      <td>4</td>\n",
       "    </tr>\n",
       "    <tr>\n",
       "      <th>1</th>\n",
       "      <td>foo</td>\n",
       "      <td>5</td>\n",
       "    </tr>\n",
       "  </tbody>\n",
       "</table>\n",
       "</div>"
      ],
      "text/plain": [
       "   key  rval\n",
       "0  foo     4\n",
       "1  foo     5"
      ]
     },
     "execution_count": 18,
     "metadata": {},
     "output_type": "execute_result"
    }
   ],
   "source": [
    "right = pd.DataFrame({'key': ['foo', 'foo'], 'rval': [4, 5]})\n",
    "right\n",
    "\n",
    "#注：使用dict的方式创建两个dataframe"
   ]
  },
  {
   "cell_type": "code",
   "execution_count": 19,
   "metadata": {
    "collapsed": false
   },
   "outputs": [
    {
     "data": {
      "text/html": [
       "<div>\n",
       "<table border=\"1\" class=\"dataframe\">\n",
       "  <thead>\n",
       "    <tr style=\"text-align: right;\">\n",
       "      <th></th>\n",
       "      <th>key</th>\n",
       "      <th>lval</th>\n",
       "      <th>rval</th>\n",
       "    </tr>\n",
       "  </thead>\n",
       "  <tbody>\n",
       "    <tr>\n",
       "      <th>0</th>\n",
       "      <td>foo</td>\n",
       "      <td>1</td>\n",
       "      <td>4</td>\n",
       "    </tr>\n",
       "    <tr>\n",
       "      <th>1</th>\n",
       "      <td>foo</td>\n",
       "      <td>1</td>\n",
       "      <td>5</td>\n",
       "    </tr>\n",
       "    <tr>\n",
       "      <th>2</th>\n",
       "      <td>foo</td>\n",
       "      <td>2</td>\n",
       "      <td>4</td>\n",
       "    </tr>\n",
       "    <tr>\n",
       "      <th>3</th>\n",
       "      <td>foo</td>\n",
       "      <td>2</td>\n",
       "      <td>5</td>\n",
       "    </tr>\n",
       "  </tbody>\n",
       "</table>\n",
       "</div>"
      ],
      "text/plain": [
       "   key  lval  rval\n",
       "0  foo     1     4\n",
       "1  foo     1     5\n",
       "2  foo     2     4\n",
       "3  foo     2     5"
      ]
     },
     "execution_count": 19,
     "metadata": {},
     "output_type": "execute_result"
    }
   ],
   "source": [
    "pd.merge(left, right, on='key')\n",
    "\n",
    "#注：连接之后的效果如上图，有点像笛卡尔积操作。"
   ]
  },
  {
   "cell_type": "code",
   "execution_count": 20,
   "metadata": {
    "collapsed": false
   },
   "outputs": [
    {
     "data": {
      "text/html": [
       "<div>\n",
       "<table border=\"1\" class=\"dataframe\">\n",
       "  <thead>\n",
       "    <tr style=\"text-align: right;\">\n",
       "      <th></th>\n",
       "      <th>key</th>\n",
       "      <th>lval</th>\n",
       "    </tr>\n",
       "  </thead>\n",
       "  <tbody>\n",
       "    <tr>\n",
       "      <th>0</th>\n",
       "      <td>foo</td>\n",
       "      <td>1</td>\n",
       "    </tr>\n",
       "    <tr>\n",
       "      <th>1</th>\n",
       "      <td>bar</td>\n",
       "      <td>2</td>\n",
       "    </tr>\n",
       "  </tbody>\n",
       "</table>\n",
       "</div>"
      ],
      "text/plain": [
       "   key  lval\n",
       "0  foo     1\n",
       "1  bar     2"
      ]
     },
     "execution_count": 20,
     "metadata": {},
     "output_type": "execute_result"
    }
   ],
   "source": [
    "#另外举个例子：\n",
    "\n",
    "left = pd.DataFrame({'key': ['foo', 'bar'], 'lval': [1, 2]})\n",
    "left"
   ]
  },
  {
   "cell_type": "code",
   "execution_count": 21,
   "metadata": {
    "collapsed": false
   },
   "outputs": [
    {
     "data": {
      "text/html": [
       "<div>\n",
       "<table border=\"1\" class=\"dataframe\">\n",
       "  <thead>\n",
       "    <tr style=\"text-align: right;\">\n",
       "      <th></th>\n",
       "      <th>key</th>\n",
       "      <th>rval</th>\n",
       "    </tr>\n",
       "  </thead>\n",
       "  <tbody>\n",
       "    <tr>\n",
       "      <th>0</th>\n",
       "      <td>foo</td>\n",
       "      <td>4</td>\n",
       "    </tr>\n",
       "    <tr>\n",
       "      <th>1</th>\n",
       "      <td>bar</td>\n",
       "      <td>5</td>\n",
       "    </tr>\n",
       "  </tbody>\n",
       "</table>\n",
       "</div>"
      ],
      "text/plain": [
       "   key  rval\n",
       "0  foo     4\n",
       "1  bar     5"
      ]
     },
     "execution_count": 21,
     "metadata": {},
     "output_type": "execute_result"
    }
   ],
   "source": [
    "right = pd.DataFrame({'key': ['foo', 'bar'], 'rval': [4, 5]})\n",
    "right"
   ]
  },
  {
   "cell_type": "code",
   "execution_count": 22,
   "metadata": {
    "collapsed": false
   },
   "outputs": [
    {
     "data": {
      "text/html": [
       "<div>\n",
       "<table border=\"1\" class=\"dataframe\">\n",
       "  <thead>\n",
       "    <tr style=\"text-align: right;\">\n",
       "      <th></th>\n",
       "      <th>key</th>\n",
       "      <th>lval</th>\n",
       "      <th>rval</th>\n",
       "    </tr>\n",
       "  </thead>\n",
       "  <tbody>\n",
       "    <tr>\n",
       "      <th>0</th>\n",
       "      <td>foo</td>\n",
       "      <td>1</td>\n",
       "      <td>4</td>\n",
       "    </tr>\n",
       "    <tr>\n",
       "      <th>1</th>\n",
       "      <td>bar</td>\n",
       "      <td>2</td>\n",
       "      <td>5</td>\n",
       "    </tr>\n",
       "  </tbody>\n",
       "</table>\n",
       "</div>"
      ],
      "text/plain": [
       "   key  lval  rval\n",
       "0  foo     1     4\n",
       "1  bar     2     5"
      ]
     },
     "execution_count": 22,
     "metadata": {},
     "output_type": "execute_result"
    }
   ],
   "source": [
    "pd.merge(left, right, on='key')"
   ]
  },
  {
   "cell_type": "markdown",
   "metadata": {},
   "source": [
    "### Append\n",
    "\n",
    "给dataframe添加行，参考http://pandas.pydata.org/pandas-docs/version/0.20/merging.html#merging-concatenation"
   ]
  },
  {
   "cell_type": "code",
   "execution_count": 23,
   "metadata": {
    "collapsed": false
   },
   "outputs": [
    {
     "data": {
      "text/html": [
       "<div>\n",
       "<table border=\"1\" class=\"dataframe\">\n",
       "  <thead>\n",
       "    <tr style=\"text-align: right;\">\n",
       "      <th></th>\n",
       "      <th>A</th>\n",
       "      <th>B</th>\n",
       "      <th>C</th>\n",
       "      <th>D</th>\n",
       "    </tr>\n",
       "  </thead>\n",
       "  <tbody>\n",
       "    <tr>\n",
       "      <th>0</th>\n",
       "      <td>0.347180</td>\n",
       "      <td>0.524599</td>\n",
       "      <td>0.983490</td>\n",
       "      <td>-0.972057</td>\n",
       "    </tr>\n",
       "    <tr>\n",
       "      <th>1</th>\n",
       "      <td>-0.050397</td>\n",
       "      <td>-0.807426</td>\n",
       "      <td>-0.642025</td>\n",
       "      <td>-1.156454</td>\n",
       "    </tr>\n",
       "    <tr>\n",
       "      <th>2</th>\n",
       "      <td>0.340515</td>\n",
       "      <td>-0.220534</td>\n",
       "      <td>1.516920</td>\n",
       "      <td>-0.103415</td>\n",
       "    </tr>\n",
       "    <tr>\n",
       "      <th>3</th>\n",
       "      <td>-0.287964</td>\n",
       "      <td>-1.242551</td>\n",
       "      <td>-0.831337</td>\n",
       "      <td>0.178667</td>\n",
       "    </tr>\n",
       "    <tr>\n",
       "      <th>4</th>\n",
       "      <td>-0.692976</td>\n",
       "      <td>-1.296997</td>\n",
       "      <td>0.411975</td>\n",
       "      <td>0.963399</td>\n",
       "    </tr>\n",
       "    <tr>\n",
       "      <th>5</th>\n",
       "      <td>-0.265955</td>\n",
       "      <td>-0.298811</td>\n",
       "      <td>-1.069616</td>\n",
       "      <td>0.282358</td>\n",
       "    </tr>\n",
       "    <tr>\n",
       "      <th>6</th>\n",
       "      <td>1.410328</td>\n",
       "      <td>-0.035784</td>\n",
       "      <td>-1.411098</td>\n",
       "      <td>1.407652</td>\n",
       "    </tr>\n",
       "    <tr>\n",
       "      <th>7</th>\n",
       "      <td>0.456068</td>\n",
       "      <td>-1.154120</td>\n",
       "      <td>-0.830243</td>\n",
       "      <td>-0.044886</td>\n",
       "    </tr>\n",
       "  </tbody>\n",
       "</table>\n",
       "</div>"
      ],
      "text/plain": [
       "          A         B         C         D\n",
       "0  0.347180  0.524599  0.983490 -0.972057\n",
       "1 -0.050397 -0.807426 -0.642025 -1.156454\n",
       "2  0.340515 -0.220534  1.516920 -0.103415\n",
       "3 -0.287964 -1.242551 -0.831337  0.178667\n",
       "4 -0.692976 -1.296997  0.411975  0.963399\n",
       "5 -0.265955 -0.298811 -1.069616  0.282358\n",
       "6  1.410328 -0.035784 -1.411098  1.407652\n",
       "7  0.456068 -1.154120 -0.830243 -0.044886"
      ]
     },
     "execution_count": 23,
     "metadata": {},
     "output_type": "execute_result"
    }
   ],
   "source": [
    "df = pd.DataFrame(np.random.randn(8, 4), columns=['A','B','C','D'])\n",
    "df"
   ]
  },
  {
   "cell_type": "code",
   "execution_count": 25,
   "metadata": {
    "collapsed": false
   },
   "outputs": [
    {
     "data": {
      "text/html": [
       "<div>\n",
       "<table border=\"1\" class=\"dataframe\">\n",
       "  <thead>\n",
       "    <tr style=\"text-align: right;\">\n",
       "      <th></th>\n",
       "      <th>A</th>\n",
       "      <th>B</th>\n",
       "      <th>C</th>\n",
       "      <th>D</th>\n",
       "    </tr>\n",
       "  </thead>\n",
       "  <tbody>\n",
       "    <tr>\n",
       "      <th>0</th>\n",
       "      <td>0.347180</td>\n",
       "      <td>0.524599</td>\n",
       "      <td>0.983490</td>\n",
       "      <td>-0.972057</td>\n",
       "    </tr>\n",
       "    <tr>\n",
       "      <th>1</th>\n",
       "      <td>-0.050397</td>\n",
       "      <td>-0.807426</td>\n",
       "      <td>-0.642025</td>\n",
       "      <td>-1.156454</td>\n",
       "    </tr>\n",
       "    <tr>\n",
       "      <th>2</th>\n",
       "      <td>0.340515</td>\n",
       "      <td>-0.220534</td>\n",
       "      <td>1.516920</td>\n",
       "      <td>-0.103415</td>\n",
       "    </tr>\n",
       "    <tr>\n",
       "      <th>3</th>\n",
       "      <td>-0.287964</td>\n",
       "      <td>-1.242551</td>\n",
       "      <td>-0.831337</td>\n",
       "      <td>0.178667</td>\n",
       "    </tr>\n",
       "    <tr>\n",
       "      <th>4</th>\n",
       "      <td>-0.692976</td>\n",
       "      <td>-1.296997</td>\n",
       "      <td>0.411975</td>\n",
       "      <td>0.963399</td>\n",
       "    </tr>\n",
       "    <tr>\n",
       "      <th>5</th>\n",
       "      <td>-0.265955</td>\n",
       "      <td>-0.298811</td>\n",
       "      <td>-1.069616</td>\n",
       "      <td>0.282358</td>\n",
       "    </tr>\n",
       "    <tr>\n",
       "      <th>6</th>\n",
       "      <td>1.410328</td>\n",
       "      <td>-0.035784</td>\n",
       "      <td>-1.411098</td>\n",
       "      <td>1.407652</td>\n",
       "    </tr>\n",
       "    <tr>\n",
       "      <th>7</th>\n",
       "      <td>0.456068</td>\n",
       "      <td>-1.154120</td>\n",
       "      <td>-0.830243</td>\n",
       "      <td>-0.044886</td>\n",
       "    </tr>\n",
       "    <tr>\n",
       "      <th>8</th>\n",
       "      <td>-0.287964</td>\n",
       "      <td>-1.242551</td>\n",
       "      <td>-0.831337</td>\n",
       "      <td>0.178667</td>\n",
       "    </tr>\n",
       "  </tbody>\n",
       "</table>\n",
       "</div>"
      ],
      "text/plain": [
       "          A         B         C         D\n",
       "0  0.347180  0.524599  0.983490 -0.972057\n",
       "1 -0.050397 -0.807426 -0.642025 -1.156454\n",
       "2  0.340515 -0.220534  1.516920 -0.103415\n",
       "3 -0.287964 -1.242551 -0.831337  0.178667\n",
       "4 -0.692976 -1.296997  0.411975  0.963399\n",
       "5 -0.265955 -0.298811 -1.069616  0.282358\n",
       "6  1.410328 -0.035784 -1.411098  1.407652\n",
       "7  0.456068 -1.154120 -0.830243 -0.044886\n",
       "8 -0.287964 -1.242551 -0.831337  0.178667"
      ]
     },
     "execution_count": 25,
     "metadata": {},
     "output_type": "execute_result"
    }
   ],
   "source": [
    "s = df.iloc[3]\n",
    "df.append(s, ignore_index=True)\n",
    "#注：将第三行复制一份添加到了最后一行（增加了一行）"
   ]
  },
  {
   "cell_type": "markdown",
   "metadata": {},
   "source": [
    "### 分组\n",
    "\n",
    "通过“group by”，我们指的是涉及一个或多个以下步骤的过程：\n",
    "\n",
    "1.根据一些标准将数据分成组\n",
    "\n",
    "2.将功能独立应用于每个组\n",
    "\n",
    "3.将结果合并成数据结构\n",
    "\n",
    "更多内容参考：http://pandas.pydata.org/pandas-docs/version/0.20/groupby.html#groupby"
   ]
  },
  {
   "cell_type": "code",
   "execution_count": 27,
   "metadata": {
    "collapsed": false
   },
   "outputs": [
    {
     "data": {
      "text/html": [
       "<div>\n",
       "<table border=\"1\" class=\"dataframe\">\n",
       "  <thead>\n",
       "    <tr style=\"text-align: right;\">\n",
       "      <th></th>\n",
       "      <th>A</th>\n",
       "      <th>B</th>\n",
       "      <th>C</th>\n",
       "      <th>D</th>\n",
       "    </tr>\n",
       "  </thead>\n",
       "  <tbody>\n",
       "    <tr>\n",
       "      <th>0</th>\n",
       "      <td>foo</td>\n",
       "      <td>one</td>\n",
       "      <td>2.213381</td>\n",
       "      <td>-0.846577</td>\n",
       "    </tr>\n",
       "    <tr>\n",
       "      <th>1</th>\n",
       "      <td>bar</td>\n",
       "      <td>one</td>\n",
       "      <td>0.709859</td>\n",
       "      <td>1.608492</td>\n",
       "    </tr>\n",
       "    <tr>\n",
       "      <th>2</th>\n",
       "      <td>foo</td>\n",
       "      <td>two</td>\n",
       "      <td>0.099378</td>\n",
       "      <td>0.499307</td>\n",
       "    </tr>\n",
       "    <tr>\n",
       "      <th>3</th>\n",
       "      <td>bar</td>\n",
       "      <td>three</td>\n",
       "      <td>-0.162661</td>\n",
       "      <td>1.322671</td>\n",
       "    </tr>\n",
       "    <tr>\n",
       "      <th>4</th>\n",
       "      <td>foo</td>\n",
       "      <td>two</td>\n",
       "      <td>0.514741</td>\n",
       "      <td>-1.125840</td>\n",
       "    </tr>\n",
       "    <tr>\n",
       "      <th>5</th>\n",
       "      <td>bar</td>\n",
       "      <td>two</td>\n",
       "      <td>-1.669128</td>\n",
       "      <td>-0.366711</td>\n",
       "    </tr>\n",
       "    <tr>\n",
       "      <th>6</th>\n",
       "      <td>foo</td>\n",
       "      <td>one</td>\n",
       "      <td>0.387143</td>\n",
       "      <td>0.282477</td>\n",
       "    </tr>\n",
       "    <tr>\n",
       "      <th>7</th>\n",
       "      <td>foo</td>\n",
       "      <td>three</td>\n",
       "      <td>-1.402657</td>\n",
       "      <td>0.091480</td>\n",
       "    </tr>\n",
       "  </tbody>\n",
       "</table>\n",
       "</div>"
      ],
      "text/plain": [
       "     A      B         C         D\n",
       "0  foo    one  2.213381 -0.846577\n",
       "1  bar    one  0.709859  1.608492\n",
       "2  foo    two  0.099378  0.499307\n",
       "3  bar  three -0.162661  1.322671\n",
       "4  foo    two  0.514741 -1.125840\n",
       "5  bar    two -1.669128 -0.366711\n",
       "6  foo    one  0.387143  0.282477\n",
       "7  foo  three -1.402657  0.091480"
      ]
     },
     "execution_count": 27,
     "metadata": {},
     "output_type": "execute_result"
    }
   ],
   "source": [
    "df = pd.DataFrame({'A' : ['foo', 'bar', 'foo', 'bar',\n",
    "                          'foo', 'bar', 'foo', 'foo'],\n",
    "                   'B' : ['one', 'one', 'two', 'three',\n",
    "                          'two', 'two', 'one', 'three'],\n",
    "                   'C' : np.random.randn(8),\n",
    "                   'D' : np.random.randn(8)})\n",
    "df\n",
    "#注：生成了一个数据框"
   ]
  },
  {
   "cell_type": "code",
   "execution_count": 29,
   "metadata": {
    "collapsed": false
   },
   "outputs": [
    {
     "data": {
      "text/html": [
       "<div>\n",
       "<table border=\"1\" class=\"dataframe\">\n",
       "  <thead>\n",
       "    <tr style=\"text-align: right;\">\n",
       "      <th></th>\n",
       "      <th>C</th>\n",
       "      <th>D</th>\n",
       "    </tr>\n",
       "    <tr>\n",
       "      <th>A</th>\n",
       "      <th></th>\n",
       "      <th></th>\n",
       "    </tr>\n",
       "  </thead>\n",
       "  <tbody>\n",
       "    <tr>\n",
       "      <th>bar</th>\n",
       "      <td>-1.121930</td>\n",
       "      <td>2.564453</td>\n",
       "    </tr>\n",
       "    <tr>\n",
       "      <th>foo</th>\n",
       "      <td>1.811987</td>\n",
       "      <td>-1.099154</td>\n",
       "    </tr>\n",
       "  </tbody>\n",
       "</table>\n",
       "</div>"
      ],
      "text/plain": [
       "            C         D\n",
       "A                      \n",
       "bar -1.121930  2.564453\n",
       "foo  1.811987 -1.099154"
      ]
     },
     "execution_count": 29,
     "metadata": {},
     "output_type": "execute_result"
    }
   ],
   "source": [
    "#分组，然后对结果组应用函数求和：\n",
    "\n",
    "df.groupby('A').sum()\n",
    "\n",
    "#注：通过A列中的数据分组，A列中只有bar和foo，所以分为两组，求和时候因为只有C/D列是数字，所以只应用在C/D列上求和"
   ]
  },
  {
   "cell_type": "code",
   "execution_count": 30,
   "metadata": {
    "collapsed": false
   },
   "outputs": [
    {
     "data": {
      "text/html": [
       "<div>\n",
       "<table border=\"1\" class=\"dataframe\">\n",
       "  <thead>\n",
       "    <tr style=\"text-align: right;\">\n",
       "      <th></th>\n",
       "      <th></th>\n",
       "      <th>C</th>\n",
       "      <th>D</th>\n",
       "    </tr>\n",
       "    <tr>\n",
       "      <th>A</th>\n",
       "      <th>B</th>\n",
       "      <th></th>\n",
       "      <th></th>\n",
       "    </tr>\n",
       "  </thead>\n",
       "  <tbody>\n",
       "    <tr>\n",
       "      <th rowspan=\"3\" valign=\"top\">bar</th>\n",
       "      <th>one</th>\n",
       "      <td>0.709859</td>\n",
       "      <td>1.608492</td>\n",
       "    </tr>\n",
       "    <tr>\n",
       "      <th>three</th>\n",
       "      <td>-0.162661</td>\n",
       "      <td>1.322671</td>\n",
       "    </tr>\n",
       "    <tr>\n",
       "      <th>two</th>\n",
       "      <td>-1.669128</td>\n",
       "      <td>-0.366711</td>\n",
       "    </tr>\n",
       "    <tr>\n",
       "      <th rowspan=\"3\" valign=\"top\">foo</th>\n",
       "      <th>one</th>\n",
       "      <td>2.600525</td>\n",
       "      <td>-0.564100</td>\n",
       "    </tr>\n",
       "    <tr>\n",
       "      <th>three</th>\n",
       "      <td>-1.402657</td>\n",
       "      <td>0.091480</td>\n",
       "    </tr>\n",
       "    <tr>\n",
       "      <th>two</th>\n",
       "      <td>0.614119</td>\n",
       "      <td>-0.626534</td>\n",
       "    </tr>\n",
       "  </tbody>\n",
       "</table>\n",
       "</div>"
      ],
      "text/plain": [
       "                  C         D\n",
       "A   B                        \n",
       "bar one    0.709859  1.608492\n",
       "    three -0.162661  1.322671\n",
       "    two   -1.669128 -0.366711\n",
       "foo one    2.600525 -0.564100\n",
       "    three -1.402657  0.091480\n",
       "    two    0.614119 -0.626534"
      ]
     },
     "execution_count": 30,
     "metadata": {},
     "output_type": "execute_result"
    }
   ],
   "source": [
    "#按多个列分组形成一个分层索引，然后我们应用函数：\n",
    "\n",
    "df.groupby(['A','B']).sum()\n",
    "\n",
    "#注：相当于在根据A列分组的基础上在B列细分，再求和"
   ]
  },
  {
   "cell_type": "markdown",
   "metadata": {},
   "source": [
    "### 资料重塑\n",
    "\n",
    "请参阅有关分层索引和资料重塑的部分：\n",
    "\n",
    "http://pandas.pydata.org/pandas-docs/version/0.20/advanced.html#advanced-hierarchical\n",
    "\n",
    "http://pandas.pydata.org/pandas-docs/version/0.20/reshaping.html#reshaping-stacking\n",
    "\n",
    "### Stack堆"
   ]
  },
  {
   "cell_type": "code",
   "execution_count": 32,
   "metadata": {
    "collapsed": false
   },
   "outputs": [
    {
     "data": {
      "text/plain": [
       "[('bar', 'one'),\n",
       " ('bar', 'two'),\n",
       " ('baz', 'one'),\n",
       " ('baz', 'two'),\n",
       " ('foo', 'one'),\n",
       " ('foo', 'two'),\n",
       " ('qux', 'one'),\n",
       " ('qux', 'two')]"
      ]
     },
     "execution_count": 32,
     "metadata": {},
     "output_type": "execute_result"
    }
   ],
   "source": [
    "tuples = list(zip(*[['bar', 'bar', 'baz', 'baz',\n",
    "                     'foo', 'foo', 'qux', 'qux'],\n",
    "                    ['one', 'two', 'one', 'two',\n",
    "                    'one', 'two', 'one', 'two']]))\n",
    "tuples\n",
    "#注：创建了一个list，并且用zip方法整合合并成内部是tuple形式"
   ]
  },
  {
   "cell_type": "code",
   "execution_count": 33,
   "metadata": {
    "collapsed": false
   },
   "outputs": [
    {
     "data": {
      "text/plain": [
       "MultiIndex(levels=[['bar', 'baz', 'foo', 'qux'], ['one', 'two']],\n",
       "           labels=[[0, 0, 1, 1, 2, 2, 3, 3], [0, 1, 0, 1, 0, 1, 0, 1]],\n",
       "           names=['first', 'second'])"
      ]
     },
     "execution_count": 33,
     "metadata": {},
     "output_type": "execute_result"
    }
   ],
   "source": [
    "index = pd.MultiIndex.from_tuples(tuples, names=['first', 'second'])\n",
    "index\n",
    "\n",
    "#注：将数据转为MultiIndex结构，即从字面上理解为多索引结构"
   ]
  },
  {
   "cell_type": "code",
   "execution_count": 34,
   "metadata": {
    "collapsed": false
   },
   "outputs": [
    {
     "data": {
      "text/html": [
       "<div>\n",
       "<table border=\"1\" class=\"dataframe\">\n",
       "  <thead>\n",
       "    <tr style=\"text-align: right;\">\n",
       "      <th></th>\n",
       "      <th></th>\n",
       "      <th>A</th>\n",
       "      <th>B</th>\n",
       "    </tr>\n",
       "    <tr>\n",
       "      <th>first</th>\n",
       "      <th>second</th>\n",
       "      <th></th>\n",
       "      <th></th>\n",
       "    </tr>\n",
       "  </thead>\n",
       "  <tbody>\n",
       "    <tr>\n",
       "      <th rowspan=\"2\" valign=\"top\">bar</th>\n",
       "      <th>one</th>\n",
       "      <td>0.090899</td>\n",
       "      <td>0.736896</td>\n",
       "    </tr>\n",
       "    <tr>\n",
       "      <th>two</th>\n",
       "      <td>-0.513058</td>\n",
       "      <td>0.742968</td>\n",
       "    </tr>\n",
       "    <tr>\n",
       "      <th rowspan=\"2\" valign=\"top\">baz</th>\n",
       "      <th>one</th>\n",
       "      <td>0.164776</td>\n",
       "      <td>-3.182632</td>\n",
       "    </tr>\n",
       "    <tr>\n",
       "      <th>two</th>\n",
       "      <td>0.254450</td>\n",
       "      <td>1.191908</td>\n",
       "    </tr>\n",
       "    <tr>\n",
       "      <th rowspan=\"2\" valign=\"top\">foo</th>\n",
       "      <th>one</th>\n",
       "      <td>-0.799708</td>\n",
       "      <td>0.383723</td>\n",
       "    </tr>\n",
       "    <tr>\n",
       "      <th>two</th>\n",
       "      <td>1.574207</td>\n",
       "      <td>-1.455390</td>\n",
       "    </tr>\n",
       "    <tr>\n",
       "      <th rowspan=\"2\" valign=\"top\">qux</th>\n",
       "      <th>one</th>\n",
       "      <td>-0.776542</td>\n",
       "      <td>1.380728</td>\n",
       "    </tr>\n",
       "    <tr>\n",
       "      <th>two</th>\n",
       "      <td>1.542473</td>\n",
       "      <td>-1.609538</td>\n",
       "    </tr>\n",
       "  </tbody>\n",
       "</table>\n",
       "</div>"
      ],
      "text/plain": [
       "                     A         B\n",
       "first second                    \n",
       "bar   one     0.090899  0.736896\n",
       "      two    -0.513058  0.742968\n",
       "baz   one     0.164776 -3.182632\n",
       "      two     0.254450  1.191908\n",
       "foo   one    -0.799708  0.383723\n",
       "      two     1.574207 -1.455390\n",
       "qux   one    -0.776542  1.380728\n",
       "      two     1.542473 -1.609538"
      ]
     },
     "execution_count": 34,
     "metadata": {},
     "output_type": "execute_result"
    }
   ],
   "source": [
    "df = pd.DataFrame(np.random.randn(8, 2), index=index, columns=['A', 'B'])\n",
    "df"
   ]
  },
  {
   "cell_type": "code",
   "execution_count": 35,
   "metadata": {
    "collapsed": true
   },
   "outputs": [],
   "source": [
    "df2 = df[:4]\n",
    "\n",
    "#注：取出前四行数据"
   ]
  },
  {
   "cell_type": "code",
   "execution_count": 37,
   "metadata": {
    "collapsed": false
   },
   "outputs": [
    {
     "data": {
      "text/plain": [
       "first  second   \n",
       "bar    one     A    0.090899\n",
       "               B    0.736896\n",
       "       two     A   -0.513058\n",
       "               B    0.742968\n",
       "baz    one     A    0.164776\n",
       "               B   -3.182632\n",
       "       two     A    0.254450\n",
       "               B    1.191908\n",
       "dtype: float64"
      ]
     },
     "execution_count": 37,
     "metadata": {},
     "output_type": "execute_result"
    }
   ],
   "source": [
    "#stack（）方法“压缩”DataFrame的列。\n",
    "\n",
    "stacked = df2.stack()\n",
    "stacked\n",
    "\n",
    "#注：说实话，这个我也没看懂。。\n",
    "\n",
    "#使用“堆叠”DataFrame或Series（具有MultiIndex作为索引），stack（）的反向操作是unpack（），它默认情况下解除最后一个级别"
   ]
  },
  {
   "cell_type": "code",
   "execution_count": 38,
   "metadata": {
    "collapsed": false
   },
   "outputs": [
    {
     "data": {
      "text/html": [
       "<div>\n",
       "<table border=\"1\" class=\"dataframe\">\n",
       "  <thead>\n",
       "    <tr style=\"text-align: right;\">\n",
       "      <th></th>\n",
       "      <th></th>\n",
       "      <th>A</th>\n",
       "      <th>B</th>\n",
       "    </tr>\n",
       "    <tr>\n",
       "      <th>first</th>\n",
       "      <th>second</th>\n",
       "      <th></th>\n",
       "      <th></th>\n",
       "    </tr>\n",
       "  </thead>\n",
       "  <tbody>\n",
       "    <tr>\n",
       "      <th rowspan=\"2\" valign=\"top\">bar</th>\n",
       "      <th>one</th>\n",
       "      <td>0.090899</td>\n",
       "      <td>0.736896</td>\n",
       "    </tr>\n",
       "    <tr>\n",
       "      <th>two</th>\n",
       "      <td>-0.513058</td>\n",
       "      <td>0.742968</td>\n",
       "    </tr>\n",
       "    <tr>\n",
       "      <th rowspan=\"2\" valign=\"top\">baz</th>\n",
       "      <th>one</th>\n",
       "      <td>0.164776</td>\n",
       "      <td>-3.182632</td>\n",
       "    </tr>\n",
       "    <tr>\n",
       "      <th>two</th>\n",
       "      <td>0.254450</td>\n",
       "      <td>1.191908</td>\n",
       "    </tr>\n",
       "  </tbody>\n",
       "</table>\n",
       "</div>"
      ],
      "text/plain": [
       "                     A         B\n",
       "first second                    \n",
       "bar   one     0.090899  0.736896\n",
       "      two    -0.513058  0.742968\n",
       "baz   one     0.164776 -3.182632\n",
       "      two     0.254450  1.191908"
      ]
     },
     "execution_count": 38,
     "metadata": {},
     "output_type": "execute_result"
    }
   ],
   "source": [
    "#unstack会默认多层索引的series转变为DataFrame\n",
    "\n",
    "stacked.unstack()"
   ]
  },
  {
   "cell_type": "code",
   "execution_count": 39,
   "metadata": {
    "collapsed": false
   },
   "outputs": [
    {
     "data": {
      "text/html": [
       "<div>\n",
       "<table border=\"1\" class=\"dataframe\">\n",
       "  <thead>\n",
       "    <tr style=\"text-align: right;\">\n",
       "      <th></th>\n",
       "      <th>second</th>\n",
       "      <th>one</th>\n",
       "      <th>two</th>\n",
       "    </tr>\n",
       "    <tr>\n",
       "      <th>first</th>\n",
       "      <th></th>\n",
       "      <th></th>\n",
       "      <th></th>\n",
       "    </tr>\n",
       "  </thead>\n",
       "  <tbody>\n",
       "    <tr>\n",
       "      <th rowspan=\"2\" valign=\"top\">bar</th>\n",
       "      <th>A</th>\n",
       "      <td>0.090899</td>\n",
       "      <td>-0.513058</td>\n",
       "    </tr>\n",
       "    <tr>\n",
       "      <th>B</th>\n",
       "      <td>0.736896</td>\n",
       "      <td>0.742968</td>\n",
       "    </tr>\n",
       "    <tr>\n",
       "      <th rowspan=\"2\" valign=\"top\">baz</th>\n",
       "      <th>A</th>\n",
       "      <td>0.164776</td>\n",
       "      <td>0.254450</td>\n",
       "    </tr>\n",
       "    <tr>\n",
       "      <th>B</th>\n",
       "      <td>-3.182632</td>\n",
       "      <td>1.191908</td>\n",
       "    </tr>\n",
       "  </tbody>\n",
       "</table>\n",
       "</div>"
      ],
      "text/plain": [
       "second        one       two\n",
       "first                      \n",
       "bar   A  0.090899 -0.513058\n",
       "      B  0.736896  0.742968\n",
       "baz   A  0.164776  0.254450\n",
       "      B -3.182632  1.191908"
      ]
     },
     "execution_count": 39,
     "metadata": {},
     "output_type": "execute_result"
    }
   ],
   "source": [
    "stacked.unstack(1)"
   ]
  },
  {
   "cell_type": "code",
   "execution_count": 41,
   "metadata": {
    "collapsed": false
   },
   "outputs": [
    {
     "data": {
      "text/html": [
       "<div>\n",
       "<table border=\"1\" class=\"dataframe\">\n",
       "  <thead>\n",
       "    <tr style=\"text-align: right;\">\n",
       "      <th></th>\n",
       "      <th>first</th>\n",
       "      <th>bar</th>\n",
       "      <th>baz</th>\n",
       "    </tr>\n",
       "    <tr>\n",
       "      <th>second</th>\n",
       "      <th></th>\n",
       "      <th></th>\n",
       "      <th></th>\n",
       "    </tr>\n",
       "  </thead>\n",
       "  <tbody>\n",
       "    <tr>\n",
       "      <th rowspan=\"2\" valign=\"top\">one</th>\n",
       "      <th>A</th>\n",
       "      <td>0.090899</td>\n",
       "      <td>0.164776</td>\n",
       "    </tr>\n",
       "    <tr>\n",
       "      <th>B</th>\n",
       "      <td>0.736896</td>\n",
       "      <td>-3.182632</td>\n",
       "    </tr>\n",
       "    <tr>\n",
       "      <th rowspan=\"2\" valign=\"top\">two</th>\n",
       "      <th>A</th>\n",
       "      <td>-0.513058</td>\n",
       "      <td>0.254450</td>\n",
       "    </tr>\n",
       "    <tr>\n",
       "      <th>B</th>\n",
       "      <td>0.742968</td>\n",
       "      <td>1.191908</td>\n",
       "    </tr>\n",
       "  </tbody>\n",
       "</table>\n",
       "</div>"
      ],
      "text/plain": [
       "first          bar       baz\n",
       "second                      \n",
       "one    A  0.090899  0.164776\n",
       "       B  0.736896 -3.182632\n",
       "two    A -0.513058  0.254450\n",
       "       B  0.742968  1.191908"
      ]
     },
     "execution_count": 41,
     "metadata": {},
     "output_type": "execute_result"
    }
   ],
   "source": [
    "stacked.unstack(0)\n",
    "\n",
    "#通过level指定操作索引的级别"
   ]
  },
  {
   "cell_type": "markdown",
   "metadata": {},
   "source": [
    "# 下\n",
    "\n",
    "### 数据透视表\n",
    "\n",
    "查看更多内容：http://pandas.pydata.org/pandas-docs/version/0.20/reshaping.html#reshaping-pivot"
   ]
  },
  {
   "cell_type": "code",
   "execution_count": 42,
   "metadata": {
    "collapsed": true
   },
   "outputs": [],
   "source": [
    "import datetime\n",
    "\n",
    "#注：导入时间模块"
   ]
  },
  {
   "cell_type": "code",
   "execution_count": 43,
   "metadata": {
    "collapsed": false
   },
   "outputs": [
    {
     "data": {
      "text/html": [
       "<div>\n",
       "<table border=\"1\" class=\"dataframe\">\n",
       "  <thead>\n",
       "    <tr style=\"text-align: right;\">\n",
       "      <th></th>\n",
       "      <th>A</th>\n",
       "      <th>B</th>\n",
       "      <th>C</th>\n",
       "      <th>D</th>\n",
       "      <th>E</th>\n",
       "      <th>F</th>\n",
       "    </tr>\n",
       "  </thead>\n",
       "  <tbody>\n",
       "    <tr>\n",
       "      <th>0</th>\n",
       "      <td>one</td>\n",
       "      <td>A</td>\n",
       "      <td>foo</td>\n",
       "      <td>-1.386216</td>\n",
       "      <td>-0.346567</td>\n",
       "      <td>2013-01-01</td>\n",
       "    </tr>\n",
       "    <tr>\n",
       "      <th>1</th>\n",
       "      <td>one</td>\n",
       "      <td>B</td>\n",
       "      <td>foo</td>\n",
       "      <td>-0.257055</td>\n",
       "      <td>0.166516</td>\n",
       "      <td>2013-02-01</td>\n",
       "    </tr>\n",
       "    <tr>\n",
       "      <th>2</th>\n",
       "      <td>two</td>\n",
       "      <td>C</td>\n",
       "      <td>foo</td>\n",
       "      <td>-0.981057</td>\n",
       "      <td>0.339546</td>\n",
       "      <td>2013-03-01</td>\n",
       "    </tr>\n",
       "    <tr>\n",
       "      <th>3</th>\n",
       "      <td>three</td>\n",
       "      <td>A</td>\n",
       "      <td>bar</td>\n",
       "      <td>0.176691</td>\n",
       "      <td>1.167522</td>\n",
       "      <td>2013-04-01</td>\n",
       "    </tr>\n",
       "    <tr>\n",
       "      <th>4</th>\n",
       "      <td>one</td>\n",
       "      <td>B</td>\n",
       "      <td>bar</td>\n",
       "      <td>1.069959</td>\n",
       "      <td>-1.164587</td>\n",
       "      <td>2013-05-01</td>\n",
       "    </tr>\n",
       "    <tr>\n",
       "      <th>5</th>\n",
       "      <td>one</td>\n",
       "      <td>C</td>\n",
       "      <td>bar</td>\n",
       "      <td>0.177796</td>\n",
       "      <td>-0.433347</td>\n",
       "      <td>2013-06-01</td>\n",
       "    </tr>\n",
       "    <tr>\n",
       "      <th>6</th>\n",
       "      <td>two</td>\n",
       "      <td>A</td>\n",
       "      <td>foo</td>\n",
       "      <td>1.605283</td>\n",
       "      <td>2.328447</td>\n",
       "      <td>2013-07-01</td>\n",
       "    </tr>\n",
       "    <tr>\n",
       "      <th>7</th>\n",
       "      <td>three</td>\n",
       "      <td>B</td>\n",
       "      <td>foo</td>\n",
       "      <td>-1.096782</td>\n",
       "      <td>-1.061382</td>\n",
       "      <td>2013-08-01</td>\n",
       "    </tr>\n",
       "    <tr>\n",
       "      <th>8</th>\n",
       "      <td>one</td>\n",
       "      <td>C</td>\n",
       "      <td>foo</td>\n",
       "      <td>0.851989</td>\n",
       "      <td>2.536236</td>\n",
       "      <td>2013-09-01</td>\n",
       "    </tr>\n",
       "    <tr>\n",
       "      <th>9</th>\n",
       "      <td>one</td>\n",
       "      <td>A</td>\n",
       "      <td>bar</td>\n",
       "      <td>-0.355115</td>\n",
       "      <td>-1.462826</td>\n",
       "      <td>2013-10-01</td>\n",
       "    </tr>\n",
       "    <tr>\n",
       "      <th>10</th>\n",
       "      <td>two</td>\n",
       "      <td>B</td>\n",
       "      <td>bar</td>\n",
       "      <td>0.358626</td>\n",
       "      <td>-0.569583</td>\n",
       "      <td>2013-11-01</td>\n",
       "    </tr>\n",
       "    <tr>\n",
       "      <th>11</th>\n",
       "      <td>three</td>\n",
       "      <td>C</td>\n",
       "      <td>bar</td>\n",
       "      <td>0.695875</td>\n",
       "      <td>0.325006</td>\n",
       "      <td>2013-12-01</td>\n",
       "    </tr>\n",
       "    <tr>\n",
       "      <th>12</th>\n",
       "      <td>one</td>\n",
       "      <td>A</td>\n",
       "      <td>foo</td>\n",
       "      <td>1.066694</td>\n",
       "      <td>-1.583543</td>\n",
       "      <td>2013-01-15</td>\n",
       "    </tr>\n",
       "    <tr>\n",
       "      <th>13</th>\n",
       "      <td>one</td>\n",
       "      <td>B</td>\n",
       "      <td>foo</td>\n",
       "      <td>-0.858391</td>\n",
       "      <td>-2.030358</td>\n",
       "      <td>2013-02-15</td>\n",
       "    </tr>\n",
       "    <tr>\n",
       "      <th>14</th>\n",
       "      <td>two</td>\n",
       "      <td>C</td>\n",
       "      <td>foo</td>\n",
       "      <td>-0.515441</td>\n",
       "      <td>1.811967</td>\n",
       "      <td>2013-03-15</td>\n",
       "    </tr>\n",
       "    <tr>\n",
       "      <th>15</th>\n",
       "      <td>three</td>\n",
       "      <td>A</td>\n",
       "      <td>bar</td>\n",
       "      <td>-0.270631</td>\n",
       "      <td>0.121948</td>\n",
       "      <td>2013-04-15</td>\n",
       "    </tr>\n",
       "    <tr>\n",
       "      <th>16</th>\n",
       "      <td>one</td>\n",
       "      <td>B</td>\n",
       "      <td>bar</td>\n",
       "      <td>-1.808962</td>\n",
       "      <td>0.554325</td>\n",
       "      <td>2013-05-15</td>\n",
       "    </tr>\n",
       "    <tr>\n",
       "      <th>17</th>\n",
       "      <td>one</td>\n",
       "      <td>C</td>\n",
       "      <td>bar</td>\n",
       "      <td>-0.590795</td>\n",
       "      <td>0.849221</td>\n",
       "      <td>2013-06-15</td>\n",
       "    </tr>\n",
       "    <tr>\n",
       "      <th>18</th>\n",
       "      <td>two</td>\n",
       "      <td>A</td>\n",
       "      <td>foo</td>\n",
       "      <td>0.027037</td>\n",
       "      <td>-0.005007</td>\n",
       "      <td>2013-07-15</td>\n",
       "    </tr>\n",
       "    <tr>\n",
       "      <th>19</th>\n",
       "      <td>three</td>\n",
       "      <td>B</td>\n",
       "      <td>foo</td>\n",
       "      <td>0.742376</td>\n",
       "      <td>-1.417825</td>\n",
       "      <td>2013-08-15</td>\n",
       "    </tr>\n",
       "    <tr>\n",
       "      <th>20</th>\n",
       "      <td>one</td>\n",
       "      <td>C</td>\n",
       "      <td>foo</td>\n",
       "      <td>0.016251</td>\n",
       "      <td>-1.184430</td>\n",
       "      <td>2013-09-15</td>\n",
       "    </tr>\n",
       "    <tr>\n",
       "      <th>21</th>\n",
       "      <td>one</td>\n",
       "      <td>A</td>\n",
       "      <td>bar</td>\n",
       "      <td>-0.844144</td>\n",
       "      <td>-0.746800</td>\n",
       "      <td>2013-10-15</td>\n",
       "    </tr>\n",
       "    <tr>\n",
       "      <th>22</th>\n",
       "      <td>two</td>\n",
       "      <td>B</td>\n",
       "      <td>bar</td>\n",
       "      <td>-1.534861</td>\n",
       "      <td>-0.597153</td>\n",
       "      <td>2013-11-15</td>\n",
       "    </tr>\n",
       "    <tr>\n",
       "      <th>23</th>\n",
       "      <td>three</td>\n",
       "      <td>C</td>\n",
       "      <td>bar</td>\n",
       "      <td>-2.857840</td>\n",
       "      <td>0.083551</td>\n",
       "      <td>2013-12-15</td>\n",
       "    </tr>\n",
       "  </tbody>\n",
       "</table>\n",
       "</div>"
      ],
      "text/plain": [
       "        A  B    C         D         E          F\n",
       "0     one  A  foo -1.386216 -0.346567 2013-01-01\n",
       "1     one  B  foo -0.257055  0.166516 2013-02-01\n",
       "2     two  C  foo -0.981057  0.339546 2013-03-01\n",
       "3   three  A  bar  0.176691  1.167522 2013-04-01\n",
       "4     one  B  bar  1.069959 -1.164587 2013-05-01\n",
       "5     one  C  bar  0.177796 -0.433347 2013-06-01\n",
       "6     two  A  foo  1.605283  2.328447 2013-07-01\n",
       "7   three  B  foo -1.096782 -1.061382 2013-08-01\n",
       "8     one  C  foo  0.851989  2.536236 2013-09-01\n",
       "9     one  A  bar -0.355115 -1.462826 2013-10-01\n",
       "10    two  B  bar  0.358626 -0.569583 2013-11-01\n",
       "11  three  C  bar  0.695875  0.325006 2013-12-01\n",
       "12    one  A  foo  1.066694 -1.583543 2013-01-15\n",
       "13    one  B  foo -0.858391 -2.030358 2013-02-15\n",
       "14    two  C  foo -0.515441  1.811967 2013-03-15\n",
       "15  three  A  bar -0.270631  0.121948 2013-04-15\n",
       "16    one  B  bar -1.808962  0.554325 2013-05-15\n",
       "17    one  C  bar -0.590795  0.849221 2013-06-15\n",
       "18    two  A  foo  0.027037 -0.005007 2013-07-15\n",
       "19  three  B  foo  0.742376 -1.417825 2013-08-15\n",
       "20    one  C  foo  0.016251 -1.184430 2013-09-15\n",
       "21    one  A  bar -0.844144 -0.746800 2013-10-15\n",
       "22    two  B  bar -1.534861 -0.597153 2013-11-15\n",
       "23  three  C  bar -2.857840  0.083551 2013-12-15"
      ]
     },
     "execution_count": 43,
     "metadata": {},
     "output_type": "execute_result"
    }
   ],
   "source": [
    "df = pd.DataFrame({'A': ['one', 'one', 'two', 'three'] * 6,\n",
    "                   'B': ['A', 'B', 'C'] * 8,\n",
    "                   'C': ['foo', 'foo', 'foo', 'bar', 'bar', 'bar'] * 4,\n",
    "                   'D': np.random.randn(24),\n",
    "                   'E': np.random.randn(24),\n",
    "                   'F': [datetime.datetime(2013, i, 1) for i in range(1, 13)] +\n",
    "                        [datetime.datetime(2013, i, 15) for i in range(1, 13)]})\n",
    "df"
   ]
  },
  {
   "cell_type": "code",
   "execution_count": 45,
   "metadata": {
    "collapsed": false
   },
   "outputs": [
    {
     "data": {
      "text/html": [
       "<div>\n",
       "<table border=\"1\" class=\"dataframe\">\n",
       "  <thead>\n",
       "    <tr style=\"text-align: right;\">\n",
       "      <th></th>\n",
       "      <th>C</th>\n",
       "      <th>bar</th>\n",
       "      <th>foo</th>\n",
       "    </tr>\n",
       "    <tr>\n",
       "      <th>A</th>\n",
       "      <th>B</th>\n",
       "      <th></th>\n",
       "      <th></th>\n",
       "    </tr>\n",
       "  </thead>\n",
       "  <tbody>\n",
       "    <tr>\n",
       "      <th rowspan=\"3\" valign=\"top\">one</th>\n",
       "      <th>A</th>\n",
       "      <td>-0.599629</td>\n",
       "      <td>-0.159761</td>\n",
       "    </tr>\n",
       "    <tr>\n",
       "      <th>B</th>\n",
       "      <td>-0.369502</td>\n",
       "      <td>-0.557723</td>\n",
       "    </tr>\n",
       "    <tr>\n",
       "      <th>C</th>\n",
       "      <td>-0.206500</td>\n",
       "      <td>0.434120</td>\n",
       "    </tr>\n",
       "    <tr>\n",
       "      <th rowspan=\"3\" valign=\"top\">three</th>\n",
       "      <th>A</th>\n",
       "      <td>-0.046970</td>\n",
       "      <td>NaN</td>\n",
       "    </tr>\n",
       "    <tr>\n",
       "      <th>B</th>\n",
       "      <td>NaN</td>\n",
       "      <td>-0.177203</td>\n",
       "    </tr>\n",
       "    <tr>\n",
       "      <th>C</th>\n",
       "      <td>-1.080982</td>\n",
       "      <td>NaN</td>\n",
       "    </tr>\n",
       "    <tr>\n",
       "      <th rowspan=\"3\" valign=\"top\">two</th>\n",
       "      <th>A</th>\n",
       "      <td>NaN</td>\n",
       "      <td>0.816160</td>\n",
       "    </tr>\n",
       "    <tr>\n",
       "      <th>B</th>\n",
       "      <td>-0.588117</td>\n",
       "      <td>NaN</td>\n",
       "    </tr>\n",
       "    <tr>\n",
       "      <th>C</th>\n",
       "      <td>NaN</td>\n",
       "      <td>-0.748249</td>\n",
       "    </tr>\n",
       "  </tbody>\n",
       "</table>\n",
       "</div>"
      ],
      "text/plain": [
       "C             bar       foo\n",
       "A     B                    \n",
       "one   A -0.599629 -0.159761\n",
       "      B -0.369502 -0.557723\n",
       "      C -0.206500  0.434120\n",
       "three A -0.046970       NaN\n",
       "      B       NaN -0.177203\n",
       "      C -1.080982       NaN\n",
       "two   A       NaN  0.816160\n",
       "      B -0.588117       NaN\n",
       "      C       NaN -0.748249"
      ]
     },
     "execution_count": 45,
     "metadata": {},
     "output_type": "execute_result"
    }
   ],
   "source": [
    "#我们可以很容易地从这些数据生成数据透视表：\n",
    "\n",
    "pd.pivot_table(df, values='D', index=['A', 'B'], columns=['C'])\n",
    "###\n",
    "#注：数据透视表玩法很多，大家通过帮助文档好好研究下"
   ]
  },
  {
   "cell_type": "markdown",
   "metadata": {},
   "source": [
    "### 时间序列\n",
    "\n",
    "pandas具有简单，强大和高效的功能，用于在频率转换期间执行重采样操作（例如，将数据转换为5分钟数据）。 这在金融应用中非常常见，但不限于此。 请参阅时间序列部分：http://pandas.pydata.org/pandas-docs/version/0.20/timeseries.html#timeseries"
   ]
  },
  {
   "cell_type": "code",
   "execution_count": 47,
   "metadata": {
    "collapsed": false
   },
   "outputs": [
    {
     "data": {
      "text/plain": [
       "DatetimeIndex(['2012-01-01 00:00:00', '2012-01-01 00:00:01',\n",
       "               '2012-01-01 00:00:02', '2012-01-01 00:00:03',\n",
       "               '2012-01-01 00:00:04', '2012-01-01 00:00:05',\n",
       "               '2012-01-01 00:00:06', '2012-01-01 00:00:07',\n",
       "               '2012-01-01 00:00:08', '2012-01-01 00:00:09',\n",
       "               '2012-01-01 00:00:10', '2012-01-01 00:00:11',\n",
       "               '2012-01-01 00:00:12', '2012-01-01 00:00:13',\n",
       "               '2012-01-01 00:00:14', '2012-01-01 00:00:15',\n",
       "               '2012-01-01 00:00:16', '2012-01-01 00:00:17',\n",
       "               '2012-01-01 00:00:18', '2012-01-01 00:00:19',\n",
       "               '2012-01-01 00:00:20', '2012-01-01 00:00:21',\n",
       "               '2012-01-01 00:00:22', '2012-01-01 00:00:23',\n",
       "               '2012-01-01 00:00:24', '2012-01-01 00:00:25',\n",
       "               '2012-01-01 00:00:26', '2012-01-01 00:00:27',\n",
       "               '2012-01-01 00:00:28', '2012-01-01 00:00:29',\n",
       "               '2012-01-01 00:00:30', '2012-01-01 00:00:31',\n",
       "               '2012-01-01 00:00:32', '2012-01-01 00:00:33',\n",
       "               '2012-01-01 00:00:34', '2012-01-01 00:00:35',\n",
       "               '2012-01-01 00:00:36', '2012-01-01 00:00:37',\n",
       "               '2012-01-01 00:00:38', '2012-01-01 00:00:39',\n",
       "               '2012-01-01 00:00:40', '2012-01-01 00:00:41',\n",
       "               '2012-01-01 00:00:42', '2012-01-01 00:00:43',\n",
       "               '2012-01-01 00:00:44', '2012-01-01 00:00:45',\n",
       "               '2012-01-01 00:00:46', '2012-01-01 00:00:47',\n",
       "               '2012-01-01 00:00:48', '2012-01-01 00:00:49',\n",
       "               '2012-01-01 00:00:50', '2012-01-01 00:00:51',\n",
       "               '2012-01-01 00:00:52', '2012-01-01 00:00:53',\n",
       "               '2012-01-01 00:00:54', '2012-01-01 00:00:55',\n",
       "               '2012-01-01 00:00:56', '2012-01-01 00:00:57',\n",
       "               '2012-01-01 00:00:58', '2012-01-01 00:00:59',\n",
       "               '2012-01-01 00:01:00', '2012-01-01 00:01:01',\n",
       "               '2012-01-01 00:01:02', '2012-01-01 00:01:03',\n",
       "               '2012-01-01 00:01:04', '2012-01-01 00:01:05',\n",
       "               '2012-01-01 00:01:06', '2012-01-01 00:01:07',\n",
       "               '2012-01-01 00:01:08', '2012-01-01 00:01:09',\n",
       "               '2012-01-01 00:01:10', '2012-01-01 00:01:11',\n",
       "               '2012-01-01 00:01:12', '2012-01-01 00:01:13',\n",
       "               '2012-01-01 00:01:14', '2012-01-01 00:01:15',\n",
       "               '2012-01-01 00:01:16', '2012-01-01 00:01:17',\n",
       "               '2012-01-01 00:01:18', '2012-01-01 00:01:19',\n",
       "               '2012-01-01 00:01:20', '2012-01-01 00:01:21',\n",
       "               '2012-01-01 00:01:22', '2012-01-01 00:01:23',\n",
       "               '2012-01-01 00:01:24', '2012-01-01 00:01:25',\n",
       "               '2012-01-01 00:01:26', '2012-01-01 00:01:27',\n",
       "               '2012-01-01 00:01:28', '2012-01-01 00:01:29',\n",
       "               '2012-01-01 00:01:30', '2012-01-01 00:01:31',\n",
       "               '2012-01-01 00:01:32', '2012-01-01 00:01:33',\n",
       "               '2012-01-01 00:01:34', '2012-01-01 00:01:35',\n",
       "               '2012-01-01 00:01:36', '2012-01-01 00:01:37',\n",
       "               '2012-01-01 00:01:38', '2012-01-01 00:01:39'],\n",
       "              dtype='datetime64[ns]', freq='S')"
      ]
     },
     "execution_count": 47,
     "metadata": {},
     "output_type": "execute_result"
    }
   ],
   "source": [
    "rng = pd.date_range('1/1/2012', periods=100, freq='S')\n",
    "rng\n",
    "#首先创建了一个100秒时间戳的系列，s为second的意思。"
   ]
  },
  {
   "cell_type": "markdown",
   "metadata": {},
   "source": [
    "频率：字符串或pandas偏移对象，可选 一个pandas日期偏移字符串或相应的对象"
   ]
  },
  {
   "cell_type": "code",
   "execution_count": 48,
   "metadata": {
    "collapsed": false
   },
   "outputs": [
    {
     "data": {
      "text/plain": [
       "2012-01-01 00:00:00    188\n",
       "2012-01-01 00:00:01     95\n",
       "2012-01-01 00:00:02    389\n",
       "2012-01-01 00:00:03    296\n",
       "2012-01-01 00:00:04     50\n",
       "2012-01-01 00:00:05    347\n",
       "2012-01-01 00:00:06    481\n",
       "2012-01-01 00:00:07     61\n",
       "2012-01-01 00:00:08    239\n",
       "2012-01-01 00:00:09    160\n",
       "2012-01-01 00:00:10    146\n",
       "2012-01-01 00:00:11     35\n",
       "2012-01-01 00:00:12    221\n",
       "2012-01-01 00:00:13    366\n",
       "2012-01-01 00:00:14    438\n",
       "2012-01-01 00:00:15    396\n",
       "2012-01-01 00:00:16    460\n",
       "2012-01-01 00:00:17    118\n",
       "2012-01-01 00:00:18     57\n",
       "2012-01-01 00:00:19    465\n",
       "2012-01-01 00:00:20     19\n",
       "2012-01-01 00:00:21     19\n",
       "2012-01-01 00:00:22    416\n",
       "2012-01-01 00:00:23    277\n",
       "2012-01-01 00:00:24    484\n",
       "2012-01-01 00:00:25    149\n",
       "2012-01-01 00:00:26    290\n",
       "2012-01-01 00:00:27     21\n",
       "2012-01-01 00:00:28    381\n",
       "2012-01-01 00:00:29    485\n",
       "                      ... \n",
       "2012-01-01 00:01:10     69\n",
       "2012-01-01 00:01:11    343\n",
       "2012-01-01 00:01:12    229\n",
       "2012-01-01 00:01:13    296\n",
       "2012-01-01 00:01:14    345\n",
       "2012-01-01 00:01:15    315\n",
       "2012-01-01 00:01:16    176\n",
       "2012-01-01 00:01:17    320\n",
       "2012-01-01 00:01:18    168\n",
       "2012-01-01 00:01:19    169\n",
       "2012-01-01 00:01:20    291\n",
       "2012-01-01 00:01:21    396\n",
       "2012-01-01 00:01:22    375\n",
       "2012-01-01 00:01:23    480\n",
       "2012-01-01 00:01:24     14\n",
       "2012-01-01 00:01:25    103\n",
       "2012-01-01 00:01:26     12\n",
       "2012-01-01 00:01:27    150\n",
       "2012-01-01 00:01:28     47\n",
       "2012-01-01 00:01:29    380\n",
       "2012-01-01 00:01:30    354\n",
       "2012-01-01 00:01:31     10\n",
       "2012-01-01 00:01:32     82\n",
       "2012-01-01 00:01:33    277\n",
       "2012-01-01 00:01:34     46\n",
       "2012-01-01 00:01:35    274\n",
       "2012-01-01 00:01:36    191\n",
       "2012-01-01 00:01:37    200\n",
       "2012-01-01 00:01:38     24\n",
       "2012-01-01 00:01:39    202\n",
       "Freq: S, dtype: int32"
      ]
     },
     "execution_count": 48,
     "metadata": {},
     "output_type": "execute_result"
    }
   ],
   "source": [
    "#将刚产生的时间序列rng作为索引index，随机产生0-500之间的整数作为值。\n",
    "ts = pd.Series(np.random.randint(0, 500, len(rng)), index=rng)\n",
    "ts"
   ]
  },
  {
   "cell_type": "code",
   "execution_count": 49,
   "metadata": {
    "collapsed": false
   },
   "outputs": [
    {
     "data": {
      "text/plain": [
       "2012-01-01    26352\n",
       "Freq: 5T, dtype: int32"
      ]
     },
     "execution_count": 49,
     "metadata": {},
     "output_type": "execute_result"
    }
   ],
   "source": [
    "#将该系列缩小为5分钟,就是五分钟采样一次，并对其值进行求和：\n",
    "\n",
    "ts.resample('5Min').sum()"
   ]
  },
  {
   "cell_type": "markdown",
   "metadata": {},
   "source": [
    "## 时区表示\n"
   ]
  },
  {
   "cell_type": "code",
   "execution_count": 52,
   "metadata": {
    "collapsed": false
   },
   "outputs": [
    {
     "data": {
      "text/plain": [
       "DatetimeIndex(['2012-03-06', '2012-03-07', '2012-03-08', '2012-03-09',\n",
       "               '2012-03-10'],\n",
       "              dtype='datetime64[ns]', freq='D')"
      ]
     },
     "execution_count": 52,
     "metadata": {},
     "output_type": "execute_result"
    }
   ],
   "source": [
    "rng = pd.date_range('3/6/2012 00:00', periods=5, freq='D')\n",
    "rng\n",
    "#注：产生5个数的时间序列，偏移量为D：Day，日期"
   ]
  },
  {
   "cell_type": "code",
   "execution_count": 53,
   "metadata": {
    "collapsed": false
   },
   "outputs": [
    {
     "data": {
      "text/plain": [
       "2012-03-06    1.141817\n",
       "2012-03-07   -0.722984\n",
       "2012-03-08   -0.880678\n",
       "2012-03-09   -0.490738\n",
       "2012-03-10   -0.239679\n",
       "Freq: D, dtype: float64"
      ]
     },
     "execution_count": 53,
     "metadata": {},
     "output_type": "execute_result"
    }
   ],
   "source": [
    "ts = pd.Series(np.random.randn(len(rng)), rng)\n",
    "ts\n",
    "\n",
    "#注：将产生的日期作为索引，产生日起数量（5个）的标准正态分布的数值"
   ]
  },
  {
   "cell_type": "code",
   "execution_count": 54,
   "metadata": {
    "collapsed": false
   },
   "outputs": [
    {
     "data": {
      "text/plain": [
       "2012-03-06 00:00:00+00:00    1.141817\n",
       "2012-03-07 00:00:00+00:00   -0.722984\n",
       "2012-03-08 00:00:00+00:00   -0.880678\n",
       "2012-03-09 00:00:00+00:00   -0.490738\n",
       "2012-03-10 00:00:00+00:00   -0.239679\n",
       "Freq: D, dtype: float64"
      ]
     },
     "execution_count": 54,
     "metadata": {},
     "output_type": "execute_result"
    }
   ],
   "source": [
    "#本地化时区表示：\n",
    "\n",
    "ts_utc = ts.tz_localize('UTC')\n",
    "ts_utc "
   ]
  },
  {
   "cell_type": "code",
   "execution_count": 55,
   "metadata": {
    "collapsed": false
   },
   "outputs": [
    {
     "data": {
      "text/plain": [
       "2012-03-05 19:00:00-05:00    1.141817\n",
       "2012-03-06 19:00:00-05:00   -0.722984\n",
       "2012-03-07 19:00:00-05:00   -0.880678\n",
       "2012-03-08 19:00:00-05:00   -0.490738\n",
       "2012-03-09 19:00:00-05:00   -0.239679\n",
       "Freq: D, dtype: float64"
      ]
     },
     "execution_count": 55,
     "metadata": {},
     "output_type": "execute_result"
    }
   ],
   "source": [
    "#转换成其他时区：\n",
    "\n",
    "ts_utc.tz_convert('US/Eastern')"
   ]
  },
  {
   "cell_type": "code",
   "execution_count": 56,
   "metadata": {
    "collapsed": false
   },
   "outputs": [
    {
     "data": {
      "text/plain": [
       "2012-01-31    1.190175\n",
       "2012-02-29    0.576349\n",
       "2012-03-31   -0.218067\n",
       "2012-04-30   -0.075078\n",
       "2012-05-31    0.514618\n",
       "Freq: M, dtype: float64"
      ]
     },
     "execution_count": 56,
     "metadata": {},
     "output_type": "execute_result"
    }
   ],
   "source": [
    "#在时间跨度表示之间转换：\n",
    "\n",
    "rng = pd.date_range('1/1/2012', periods=5, freq='M')\n",
    "ts = pd.Series(np.random.randn(len(rng)), index=rng)\n",
    "ts"
   ]
  },
  {
   "cell_type": "code",
   "execution_count": 58,
   "metadata": {
    "collapsed": false
   },
   "outputs": [
    {
     "data": {
      "text/plain": [
       "2012-01    1.190175\n",
       "2012-02    0.576349\n",
       "2012-03   -0.218067\n",
       "2012-04   -0.075078\n",
       "2012-05    0.514618\n",
       "Freq: M, dtype: float64"
      ]
     },
     "execution_count": 58,
     "metadata": {},
     "output_type": "execute_result"
    }
   ],
   "source": [
    "ps = ts.to_period()\n",
    "ps\n",
    "#注：将时间日期索引转化为时间阶段索引（这里是用月份表示）"
   ]
  },
  {
   "cell_type": "code",
   "execution_count": 59,
   "metadata": {
    "collapsed": false
   },
   "outputs": [
    {
     "data": {
      "text/plain": [
       "2012-01-01    1.190175\n",
       "2012-02-01    0.576349\n",
       "2012-03-01   -0.218067\n",
       "2012-04-01   -0.075078\n",
       "2012-05-01    0.514618\n",
       "Freq: MS, dtype: float64"
      ]
     },
     "execution_count": 59,
     "metadata": {},
     "output_type": "execute_result"
    }
   ],
   "source": [
    "ps.to_timestamp()\n",
    "\n",
    "#注：用月份的初始日期表示"
   ]
  },
  {
   "cell_type": "markdown",
   "metadata": {},
   "source": [
    "### 分类\n",
    "\n",
    "自版本0.15以来，pandas可以在DataFrame中包含分类数据。 有关完整文档，请参阅分类介绍：http://pandas.pydata.org/pandas-docs/version/0.20/categorical.html#categorical\n",
    "\n",
    "和API文档：http://pandas.pydata.org/pandas-docs/version/0.20/api.html#api-categorical"
   ]
  },
  {
   "cell_type": "code",
   "execution_count": 60,
   "metadata": {
    "collapsed": false
   },
   "outputs": [
    {
     "data": {
      "text/html": [
       "<div>\n",
       "<table border=\"1\" class=\"dataframe\">\n",
       "  <thead>\n",
       "    <tr style=\"text-align: right;\">\n",
       "      <th></th>\n",
       "      <th>id</th>\n",
       "      <th>raw_grade</th>\n",
       "    </tr>\n",
       "  </thead>\n",
       "  <tbody>\n",
       "    <tr>\n",
       "      <th>0</th>\n",
       "      <td>1</td>\n",
       "      <td>a</td>\n",
       "    </tr>\n",
       "    <tr>\n",
       "      <th>1</th>\n",
       "      <td>2</td>\n",
       "      <td>b</td>\n",
       "    </tr>\n",
       "    <tr>\n",
       "      <th>2</th>\n",
       "      <td>3</td>\n",
       "      <td>b</td>\n",
       "    </tr>\n",
       "    <tr>\n",
       "      <th>3</th>\n",
       "      <td>4</td>\n",
       "      <td>a</td>\n",
       "    </tr>\n",
       "    <tr>\n",
       "      <th>4</th>\n",
       "      <td>5</td>\n",
       "      <td>a</td>\n",
       "    </tr>\n",
       "    <tr>\n",
       "      <th>5</th>\n",
       "      <td>6</td>\n",
       "      <td>e</td>\n",
       "    </tr>\n",
       "  </tbody>\n",
       "</table>\n",
       "</div>"
      ],
      "text/plain": [
       "   id raw_grade\n",
       "0   1         a\n",
       "1   2         b\n",
       "2   3         b\n",
       "3   4         a\n",
       "4   5         a\n",
       "5   6         e"
      ]
     },
     "execution_count": 60,
     "metadata": {},
     "output_type": "execute_result"
    }
   ],
   "source": [
    "df = pd.DataFrame({\"id\":[1,2,3,4,5,6], \"raw_grade\":['a', 'b', 'b', 'a', 'a', 'e']})\n",
    "df"
   ]
  },
  {
   "cell_type": "code",
   "execution_count": 62,
   "metadata": {
    "collapsed": false
   },
   "outputs": [
    {
     "data": {
      "text/plain": [
       "0    a\n",
       "1    b\n",
       "2    b\n",
       "3    a\n",
       "4    a\n",
       "5    e\n",
       "Name: grade, dtype: category\n",
       "Categories (3, object): [a, b, e]"
      ]
     },
     "execution_count": 62,
     "metadata": {},
     "output_type": "execute_result"
    }
   ],
   "source": [
    "#将原始成绩转换为分类数据类型：\n",
    "\n",
    "df[\"grade\"] = df[\"raw_grade\"].astype(\"category\")\n",
    "df[\"grade\"]\n",
    "\n",
    "#注：显示成绩可以分为三类"
   ]
  },
  {
   "cell_type": "code",
   "execution_count": 64,
   "metadata": {
    "collapsed": false
   },
   "outputs": [
    {
     "data": {
      "text/plain": [
       "0    very good\n",
       "1         good\n",
       "2         good\n",
       "3    very good\n",
       "4    very good\n",
       "5     very bad\n",
       "Name: grade, dtype: category\n",
       "Categories (3, object): [very good, good, very bad]"
      ]
     },
     "execution_count": 64,
     "metadata": {},
     "output_type": "execute_result"
    }
   ],
   "source": [
    "#将类别重命名为更有意义的名称\n",
    "\n",
    "df[\"grade\"].cat.categories = [\"very good\", \"good\", \"very bad\"]\n",
    "df[\"grade\"]\n",
    "#注：显示的就是分类信息了"
   ]
  },
  {
   "cell_type": "code",
   "execution_count": 65,
   "metadata": {
    "collapsed": false
   },
   "outputs": [
    {
     "data": {
      "text/plain": [
       "0    very good\n",
       "1         good\n",
       "2         good\n",
       "3    very good\n",
       "4    very good\n",
       "5     very bad\n",
       "Name: grade, dtype: category\n",
       "Categories (5, object): [very bad, bad, medium, good, very good]"
      ]
     },
     "execution_count": 65,
     "metadata": {},
     "output_type": "execute_result"
    }
   ],
   "source": [
    "df[\"grade\"] = df[\"grade\"].cat.set_categories([\"very bad\", \"bad\", \"medium\", \"good\", \"very good\"])\n",
    "df[\"grade\"]\n",
    "\n",
    "#注：显示的就是分类信息了"
   ]
  },
  {
   "cell_type": "code",
   "execution_count": 66,
   "metadata": {
    "collapsed": false
   },
   "outputs": [
    {
     "data": {
      "text/html": [
       "<div>\n",
       "<table border=\"1\" class=\"dataframe\">\n",
       "  <thead>\n",
       "    <tr style=\"text-align: right;\">\n",
       "      <th></th>\n",
       "      <th>id</th>\n",
       "      <th>raw_grade</th>\n",
       "      <th>grade</th>\n",
       "    </tr>\n",
       "  </thead>\n",
       "  <tbody>\n",
       "    <tr>\n",
       "      <th>5</th>\n",
       "      <td>6</td>\n",
       "      <td>e</td>\n",
       "      <td>very bad</td>\n",
       "    </tr>\n",
       "    <tr>\n",
       "      <th>1</th>\n",
       "      <td>2</td>\n",
       "      <td>b</td>\n",
       "      <td>good</td>\n",
       "    </tr>\n",
       "    <tr>\n",
       "      <th>2</th>\n",
       "      <td>3</td>\n",
       "      <td>b</td>\n",
       "      <td>good</td>\n",
       "    </tr>\n",
       "    <tr>\n",
       "      <th>0</th>\n",
       "      <td>1</td>\n",
       "      <td>a</td>\n",
       "      <td>very good</td>\n",
       "    </tr>\n",
       "    <tr>\n",
       "      <th>3</th>\n",
       "      <td>4</td>\n",
       "      <td>a</td>\n",
       "      <td>very good</td>\n",
       "    </tr>\n",
       "    <tr>\n",
       "      <th>4</th>\n",
       "      <td>5</td>\n",
       "      <td>a</td>\n",
       "      <td>very good</td>\n",
       "    </tr>\n",
       "  </tbody>\n",
       "</table>\n",
       "</div>"
      ],
      "text/plain": [
       "   id raw_grade      grade\n",
       "5   6         e   very bad\n",
       "1   2         b       good\n",
       "2   3         b       good\n",
       "0   1         a  very good\n",
       "3   4         a  very good\n",
       "4   5         a  very good"
      ]
     },
     "execution_count": 66,
     "metadata": {},
     "output_type": "execute_result"
    }
   ],
   "source": [
    "#排序是按类别中的顺序排列的，而不是词法顺序\n",
    "\n",
    "df.sort_values(by=\"grade\")\n",
    "\n",
    "#注：根据成绩排序"
   ]
  },
  {
   "cell_type": "code",
   "execution_count": 68,
   "metadata": {
    "collapsed": false
   },
   "outputs": [
    {
     "data": {
      "text/plain": [
       "grade\n",
       "very bad     1\n",
       "bad          0\n",
       "medium       0\n",
       "good         2\n",
       "very good    3\n",
       "dtype: int64"
      ]
     },
     "execution_count": 68,
     "metadata": {},
     "output_type": "execute_result"
    }
   ],
   "source": [
    "#按分类列分组还显示空类：\n",
    "\n",
    "df.groupby(\"grade\").size()\n",
    "\n",
    "#注：统计分类后每类元素个数"
   ]
  },
  {
   "cell_type": "markdown",
   "metadata": {},
   "source": [
    "### 绘图\n",
    "\n",
    "绘图更多用法：http://pandas.pydata.org/pandas-docs/version/0.20/visualization.html#visualization"
   ]
  },
  {
   "cell_type": "code",
   "execution_count": 69,
   "metadata": {
    "collapsed": true
   },
   "outputs": [],
   "source": [
    "import matplotlib.pyplot as plt\n",
    "%matplotlib inline"
   ]
  },
  {
   "cell_type": "code",
   "execution_count": 93,
   "metadata": {
    "collapsed": false
   },
   "outputs": [
    {
     "data": {
      "image/png": "[encoded data removed]",
      "text/plain": [
       "<matplotlib.figure.Figure at 0x99855f8>"
      ]
     },
     "metadata": {},
     "output_type": "display_data"
    }
   ],
   "source": [
    "ts = pd.Series(np.random.randn(1000), index=pd.date_range('1/1/2000', periods=1000))\n",
    "ts = ts.cumsum()\n",
    "ts.cumsum().plot()\n",
    "plt.show()\n",
    "#注：绘制时间序列图形，ts.cumsum()为累积值，绘图必须使用show()方法才能展现出来图。"
   ]
  },
  {
   "cell_type": "code",
   "execution_count": 94,
   "metadata": {
    "collapsed": false
   },
   "outputs": [
    {
     "data": {
      "text/plain": [
       "<matplotlib.figure.Figure at 0x971be48>"
      ]
     },
     "metadata": {},
     "output_type": "display_data"
    },
    {
     "data": {
      "image/png": "[encoded data removed]",
      "text/plain": [
       "<matplotlib.figure.Figure at 0x9690d30>"
      ]
     },
     "metadata": {},
     "output_type": "display_data"
    }
   ],
   "source": [
    "#在DataFrame中，plot（）可以方便地绘制带有标签的所有列：\n",
    "\n",
    "df = pd.DataFrame(np.random.randn(1000, 4), index=ts.index,\n",
    "                   columns=['A', 'B', 'C', 'D'])\n",
    "df = df.cumsum()\n",
    "plt.figure()\n",
    "df.plot()\n",
    "plt.legend(loc='best')\n",
    "plt.show()"
   ]
  },
  {
   "cell_type": "markdown",
   "metadata": {},
   "source": [
    "## 获取数据输入/输出\n",
    "### CSV"
   ]
  },
  {
   "cell_type": "code",
   "execution_count": 95,
   "metadata": {
    "collapsed": true
   },
   "outputs": [],
   "source": [
    "#写入csv文件：http://pandas.pydata.org/pandas-docs/version/0.20/io.html#io-store-in-csv\n",
    "\n",
    "df.to_csv('foo.csv')"
   ]
  },
  {
   "cell_type": "code",
   "execution_count": 96,
   "metadata": {
    "collapsed": false
   },
   "outputs": [
    {
     "data": {
      "text/html": [
       "<div>\n",
       "<table border=\"1\" class=\"dataframe\">\n",
       "  <thead>\n",
       "    <tr style=\"text-align: right;\">\n",
       "      <th></th>\n",
       "      <th>Unnamed: 0</th>\n",
       "      <th>A</th>\n",
       "      <th>B</th>\n",
       "      <th>C</th>\n",
       "      <th>D</th>\n",
       "    </tr>\n",
       "  </thead>\n",
       "  <tbody>\n",
       "    <tr>\n",
       "      <th>0</th>\n",
       "      <td>2000-01-01</td>\n",
       "      <td>-0.232588</td>\n",
       "      <td>1.550908</td>\n",
       "      <td>-0.542879</td>\n",
       "      <td>0.461456</td>\n",
       "    </tr>\n",
       "    <tr>\n",
       "      <th>1</th>\n",
       "      <td>2000-01-02</td>\n",
       "      <td>-1.759988</td>\n",
       "      <td>1.608444</td>\n",
       "      <td>-0.905876</td>\n",
       "      <td>1.495127</td>\n",
       "    </tr>\n",
       "    <tr>\n",
       "      <th>2</th>\n",
       "      <td>2000-01-03</td>\n",
       "      <td>-1.640229</td>\n",
       "      <td>0.520279</td>\n",
       "      <td>-0.009653</td>\n",
       "      <td>2.210483</td>\n",
       "    </tr>\n",
       "    <tr>\n",
       "      <th>3</th>\n",
       "      <td>2000-01-04</td>\n",
       "      <td>-3.065032</td>\n",
       "      <td>1.634421</td>\n",
       "      <td>1.478637</td>\n",
       "      <td>3.824536</td>\n",
       "    </tr>\n",
       "    <tr>\n",
       "      <th>4</th>\n",
       "      <td>2000-01-05</td>\n",
       "      <td>-2.762300</td>\n",
       "      <td>1.022128</td>\n",
       "      <td>0.836854</td>\n",
       "      <td>4.078961</td>\n",
       "    </tr>\n",
       "    <tr>\n",
       "      <th>5</th>\n",
       "      <td>2000-01-06</td>\n",
       "      <td>-4.671896</td>\n",
       "      <td>1.714394</td>\n",
       "      <td>1.870905</td>\n",
       "      <td>4.824478</td>\n",
       "    </tr>\n",
       "    <tr>\n",
       "      <th>6</th>\n",
       "      <td>2000-01-07</td>\n",
       "      <td>-4.076652</td>\n",
       "      <td>1.808288</td>\n",
       "      <td>3.017154</td>\n",
       "      <td>3.781560</td>\n",
       "    </tr>\n",
       "    <tr>\n",
       "      <th>7</th>\n",
       "      <td>2000-01-08</td>\n",
       "      <td>-3.381653</td>\n",
       "      <td>0.948164</td>\n",
       "      <td>3.256638</td>\n",
       "      <td>2.701349</td>\n",
       "    </tr>\n",
       "    <tr>\n",
       "      <th>8</th>\n",
       "      <td>2000-01-09</td>\n",
       "      <td>-4.649421</td>\n",
       "      <td>1.508747</td>\n",
       "      <td>2.746572</td>\n",
       "      <td>0.660095</td>\n",
       "    </tr>\n",
       "    <tr>\n",
       "      <th>9</th>\n",
       "      <td>2000-01-10</td>\n",
       "      <td>-4.031774</td>\n",
       "      <td>1.413663</td>\n",
       "      <td>2.992574</td>\n",
       "      <td>-0.051526</td>\n",
       "    </tr>\n",
       "    <tr>\n",
       "      <th>10</th>\n",
       "      <td>2000-01-11</td>\n",
       "      <td>-4.896754</td>\n",
       "      <td>2.565906</td>\n",
       "      <td>3.641334</td>\n",
       "      <td>-1.655854</td>\n",
       "    </tr>\n",
       "    <tr>\n",
       "      <th>11</th>\n",
       "      <td>2000-01-12</td>\n",
       "      <td>-4.395380</td>\n",
       "      <td>2.229678</td>\n",
       "      <td>3.097271</td>\n",
       "      <td>-1.728925</td>\n",
       "    </tr>\n",
       "    <tr>\n",
       "      <th>12</th>\n",
       "      <td>2000-01-13</td>\n",
       "      <td>-3.658890</td>\n",
       "      <td>2.696801</td>\n",
       "      <td>2.793085</td>\n",
       "      <td>-0.534871</td>\n",
       "    </tr>\n",
       "    <tr>\n",
       "      <th>13</th>\n",
       "      <td>2000-01-14</td>\n",
       "      <td>-3.804957</td>\n",
       "      <td>3.273883</td>\n",
       "      <td>2.838177</td>\n",
       "      <td>-2.662444</td>\n",
       "    </tr>\n",
       "    <tr>\n",
       "      <th>14</th>\n",
       "      <td>2000-01-15</td>\n",
       "      <td>-4.412484</td>\n",
       "      <td>2.361399</td>\n",
       "      <td>4.949331</td>\n",
       "      <td>-2.846648</td>\n",
       "    </tr>\n",
       "    <tr>\n",
       "      <th>15</th>\n",
       "      <td>2000-01-16</td>\n",
       "      <td>-6.127397</td>\n",
       "      <td>2.141166</td>\n",
       "      <td>5.018089</td>\n",
       "      <td>-3.858673</td>\n",
       "    </tr>\n",
       "    <tr>\n",
       "      <th>16</th>\n",
       "      <td>2000-01-17</td>\n",
       "      <td>-5.908162</td>\n",
       "      <td>2.642525</td>\n",
       "      <td>5.927033</td>\n",
       "      <td>-4.713109</td>\n",
       "    </tr>\n",
       "    <tr>\n",
       "      <th>17</th>\n",
       "      <td>2000-01-18</td>\n",
       "      <td>-5.676378</td>\n",
       "      <td>3.087648</td>\n",
       "      <td>5.172189</td>\n",
       "      <td>-3.459610</td>\n",
       "    </tr>\n",
       "    <tr>\n",
       "      <th>18</th>\n",
       "      <td>2000-01-19</td>\n",
       "      <td>-5.883298</td>\n",
       "      <td>1.487999</td>\n",
       "      <td>5.993147</td>\n",
       "      <td>-3.214238</td>\n",
       "    </tr>\n",
       "    <tr>\n",
       "      <th>19</th>\n",
       "      <td>2000-01-20</td>\n",
       "      <td>-6.908486</td>\n",
       "      <td>0.618155</td>\n",
       "      <td>5.018515</td>\n",
       "      <td>-2.884032</td>\n",
       "    </tr>\n",
       "    <tr>\n",
       "      <th>20</th>\n",
       "      <td>2000-01-21</td>\n",
       "      <td>-4.556925</td>\n",
       "      <td>0.666006</td>\n",
       "      <td>4.342121</td>\n",
       "      <td>-1.872907</td>\n",
       "    </tr>\n",
       "    <tr>\n",
       "      <th>21</th>\n",
       "      <td>2000-01-22</td>\n",
       "      <td>-2.747331</td>\n",
       "      <td>0.626514</td>\n",
       "      <td>5.495131</td>\n",
       "      <td>-1.443321</td>\n",
       "    </tr>\n",
       "    <tr>\n",
       "      <th>22</th>\n",
       "      <td>2000-01-23</td>\n",
       "      <td>-2.363004</td>\n",
       "      <td>2.199084</td>\n",
       "      <td>4.869983</td>\n",
       "      <td>-1.217977</td>\n",
       "    </tr>\n",
       "    <tr>\n",
       "      <th>23</th>\n",
       "      <td>2000-01-24</td>\n",
       "      <td>-1.556950</td>\n",
       "      <td>0.539101</td>\n",
       "      <td>4.151143</td>\n",
       "      <td>-1.657612</td>\n",
       "    </tr>\n",
       "    <tr>\n",
       "      <th>24</th>\n",
       "      <td>2000-01-25</td>\n",
       "      <td>0.810792</td>\n",
       "      <td>1.494749</td>\n",
       "      <td>4.315432</td>\n",
       "      <td>-0.211779</td>\n",
       "    </tr>\n",
       "    <tr>\n",
       "      <th>25</th>\n",
       "      <td>2000-01-26</td>\n",
       "      <td>-1.822699</td>\n",
       "      <td>1.846856</td>\n",
       "      <td>3.156902</td>\n",
       "      <td>1.100592</td>\n",
       "    </tr>\n",
       "    <tr>\n",
       "      <th>26</th>\n",
       "      <td>2000-01-27</td>\n",
       "      <td>-3.977000</td>\n",
       "      <td>2.876895</td>\n",
       "      <td>2.895380</td>\n",
       "      <td>0.954474</td>\n",
       "    </tr>\n",
       "    <tr>\n",
       "      <th>27</th>\n",
       "      <td>2000-01-28</td>\n",
       "      <td>-5.481097</td>\n",
       "      <td>3.033566</td>\n",
       "      <td>2.324180</td>\n",
       "      <td>2.464049</td>\n",
       "    </tr>\n",
       "    <tr>\n",
       "      <th>28</th>\n",
       "      <td>2000-01-29</td>\n",
       "      <td>-6.608396</td>\n",
       "      <td>2.561806</td>\n",
       "      <td>3.427162</td>\n",
       "      <td>3.010395</td>\n",
       "    </tr>\n",
       "    <tr>\n",
       "      <th>29</th>\n",
       "      <td>2000-01-30</td>\n",
       "      <td>-6.618584</td>\n",
       "      <td>3.331403</td>\n",
       "      <td>1.898085</td>\n",
       "      <td>2.479962</td>\n",
       "    </tr>\n",
       "    <tr>\n",
       "      <th>...</th>\n",
       "      <td>...</td>\n",
       "      <td>...</td>\n",
       "      <td>...</td>\n",
       "      <td>...</td>\n",
       "      <td>...</td>\n",
       "    </tr>\n",
       "    <tr>\n",
       "      <th>970</th>\n",
       "      <td>2002-08-28</td>\n",
       "      <td>-79.282203</td>\n",
       "      <td>-15.242924</td>\n",
       "      <td>21.738506</td>\n",
       "      <td>-8.576623</td>\n",
       "    </tr>\n",
       "    <tr>\n",
       "      <th>971</th>\n",
       "      <td>2002-08-29</td>\n",
       "      <td>-79.340714</td>\n",
       "      <td>-15.708359</td>\n",
       "      <td>20.025663</td>\n",
       "      <td>-7.004120</td>\n",
       "    </tr>\n",
       "    <tr>\n",
       "      <th>972</th>\n",
       "      <td>2002-08-30</td>\n",
       "      <td>-80.087537</td>\n",
       "      <td>-16.648358</td>\n",
       "      <td>20.342922</td>\n",
       "      <td>-5.798637</td>\n",
       "    </tr>\n",
       "    <tr>\n",
       "      <th>973</th>\n",
       "      <td>2002-08-31</td>\n",
       "      <td>-79.748017</td>\n",
       "      <td>-17.278655</td>\n",
       "      <td>19.157124</td>\n",
       "      <td>-4.894034</td>\n",
       "    </tr>\n",
       "    <tr>\n",
       "      <th>974</th>\n",
       "      <td>2002-09-01</td>\n",
       "      <td>-78.956590</td>\n",
       "      <td>-17.139794</td>\n",
       "      <td>20.956647</td>\n",
       "      <td>-6.222945</td>\n",
       "    </tr>\n",
       "    <tr>\n",
       "      <th>975</th>\n",
       "      <td>2002-09-02</td>\n",
       "      <td>-80.367455</td>\n",
       "      <td>-17.383101</td>\n",
       "      <td>20.018998</td>\n",
       "      <td>-6.037905</td>\n",
       "    </tr>\n",
       "    <tr>\n",
       "      <th>976</th>\n",
       "      <td>2002-09-03</td>\n",
       "      <td>-81.196063</td>\n",
       "      <td>-18.381968</td>\n",
       "      <td>21.047082</td>\n",
       "      <td>-4.716029</td>\n",
       "    </tr>\n",
       "    <tr>\n",
       "      <th>977</th>\n",
       "      <td>2002-09-04</td>\n",
       "      <td>-81.496129</td>\n",
       "      <td>-20.201032</td>\n",
       "      <td>19.576499</td>\n",
       "      <td>-5.817491</td>\n",
       "    </tr>\n",
       "    <tr>\n",
       "      <th>978</th>\n",
       "      <td>2002-09-05</td>\n",
       "      <td>-81.249025</td>\n",
       "      <td>-20.853685</td>\n",
       "      <td>19.877320</td>\n",
       "      <td>-5.200265</td>\n",
       "    </tr>\n",
       "    <tr>\n",
       "      <th>979</th>\n",
       "      <td>2002-09-06</td>\n",
       "      <td>-81.470049</td>\n",
       "      <td>-20.100373</td>\n",
       "      <td>19.494756</td>\n",
       "      <td>-3.793123</td>\n",
       "    </tr>\n",
       "    <tr>\n",
       "      <th>980</th>\n",
       "      <td>2002-09-07</td>\n",
       "      <td>-81.335848</td>\n",
       "      <td>-20.204552</td>\n",
       "      <td>18.375050</td>\n",
       "      <td>-3.860689</td>\n",
       "    </tr>\n",
       "    <tr>\n",
       "      <th>981</th>\n",
       "      <td>2002-09-08</td>\n",
       "      <td>-80.839229</td>\n",
       "      <td>-20.124118</td>\n",
       "      <td>17.141455</td>\n",
       "      <td>-1.844802</td>\n",
       "    </tr>\n",
       "    <tr>\n",
       "      <th>982</th>\n",
       "      <td>2002-09-09</td>\n",
       "      <td>-80.269914</td>\n",
       "      <td>-19.261572</td>\n",
       "      <td>17.657264</td>\n",
       "      <td>-1.518279</td>\n",
       "    </tr>\n",
       "    <tr>\n",
       "      <th>983</th>\n",
       "      <td>2002-09-10</td>\n",
       "      <td>-79.953531</td>\n",
       "      <td>-21.101209</td>\n",
       "      <td>16.751040</td>\n",
       "      <td>-0.446994</td>\n",
       "    </tr>\n",
       "    <tr>\n",
       "      <th>984</th>\n",
       "      <td>2002-09-11</td>\n",
       "      <td>-80.661389</td>\n",
       "      <td>-22.983103</td>\n",
       "      <td>15.935333</td>\n",
       "      <td>0.338620</td>\n",
       "    </tr>\n",
       "    <tr>\n",
       "      <th>985</th>\n",
       "      <td>2002-09-12</td>\n",
       "      <td>-79.495704</td>\n",
       "      <td>-24.143047</td>\n",
       "      <td>16.650757</td>\n",
       "      <td>-0.805849</td>\n",
       "    </tr>\n",
       "    <tr>\n",
       "      <th>986</th>\n",
       "      <td>2002-09-13</td>\n",
       "      <td>-79.175705</td>\n",
       "      <td>-25.499324</td>\n",
       "      <td>17.793372</td>\n",
       "      <td>-0.894194</td>\n",
       "    </tr>\n",
       "    <tr>\n",
       "      <th>987</th>\n",
       "      <td>2002-09-14</td>\n",
       "      <td>-80.317973</td>\n",
       "      <td>-24.188319</td>\n",
       "      <td>17.797878</td>\n",
       "      <td>1.297248</td>\n",
       "    </tr>\n",
       "    <tr>\n",
       "      <th>988</th>\n",
       "      <td>2002-09-15</td>\n",
       "      <td>-80.598595</td>\n",
       "      <td>-24.876069</td>\n",
       "      <td>16.096106</td>\n",
       "      <td>0.621774</td>\n",
       "    </tr>\n",
       "    <tr>\n",
       "      <th>989</th>\n",
       "      <td>2002-09-16</td>\n",
       "      <td>-81.868530</td>\n",
       "      <td>-23.864975</td>\n",
       "      <td>16.073751</td>\n",
       "      <td>0.942353</td>\n",
       "    </tr>\n",
       "    <tr>\n",
       "      <th>990</th>\n",
       "      <td>2002-09-17</td>\n",
       "      <td>-82.035835</td>\n",
       "      <td>-24.337260</td>\n",
       "      <td>16.088474</td>\n",
       "      <td>-1.198723</td>\n",
       "    </tr>\n",
       "    <tr>\n",
       "      <th>991</th>\n",
       "      <td>2002-09-18</td>\n",
       "      <td>-83.497022</td>\n",
       "      <td>-22.896225</td>\n",
       "      <td>16.342046</td>\n",
       "      <td>0.043094</td>\n",
       "    </tr>\n",
       "    <tr>\n",
       "      <th>992</th>\n",
       "      <td>2002-09-19</td>\n",
       "      <td>-84.039177</td>\n",
       "      <td>-22.503575</td>\n",
       "      <td>15.370785</td>\n",
       "      <td>0.664017</td>\n",
       "    </tr>\n",
       "    <tr>\n",
       "      <th>993</th>\n",
       "      <td>2002-09-20</td>\n",
       "      <td>-83.283926</td>\n",
       "      <td>-22.183705</td>\n",
       "      <td>14.783519</td>\n",
       "      <td>0.601272</td>\n",
       "    </tr>\n",
       "    <tr>\n",
       "      <th>994</th>\n",
       "      <td>2002-09-21</td>\n",
       "      <td>-84.208920</td>\n",
       "      <td>-22.463823</td>\n",
       "      <td>16.503180</td>\n",
       "      <td>1.955937</td>\n",
       "    </tr>\n",
       "    <tr>\n",
       "      <th>995</th>\n",
       "      <td>2002-09-22</td>\n",
       "      <td>-84.267485</td>\n",
       "      <td>-22.257258</td>\n",
       "      <td>15.672364</td>\n",
       "      <td>1.545828</td>\n",
       "    </tr>\n",
       "    <tr>\n",
       "      <th>996</th>\n",
       "      <td>2002-09-23</td>\n",
       "      <td>-84.534539</td>\n",
       "      <td>-20.799174</td>\n",
       "      <td>15.801708</td>\n",
       "      <td>1.671919</td>\n",
       "    </tr>\n",
       "    <tr>\n",
       "      <th>997</th>\n",
       "      <td>2002-09-24</td>\n",
       "      <td>-85.235798</td>\n",
       "      <td>-19.906465</td>\n",
       "      <td>15.050300</td>\n",
       "      <td>0.393325</td>\n",
       "    </tr>\n",
       "    <tr>\n",
       "      <th>998</th>\n",
       "      <td>2002-09-25</td>\n",
       "      <td>-85.827038</td>\n",
       "      <td>-18.535271</td>\n",
       "      <td>15.100552</td>\n",
       "      <td>0.773891</td>\n",
       "    </tr>\n",
       "    <tr>\n",
       "      <th>999</th>\n",
       "      <td>2002-09-26</td>\n",
       "      <td>-83.753353</td>\n",
       "      <td>-17.885932</td>\n",
       "      <td>15.445128</td>\n",
       "      <td>-1.488835</td>\n",
       "    </tr>\n",
       "  </tbody>\n",
       "</table>\n",
       "<p>1000 rows × 5 columns</p>\n",
       "</div>"
      ],
      "text/plain": [
       "     Unnamed: 0          A          B          C         D\n",
       "0    2000-01-01  -0.232588   1.550908  -0.542879  0.461456\n",
       "1    2000-01-02  -1.759988   1.608444  -0.905876  1.495127\n",
       "2    2000-01-03  -1.640229   0.520279  -0.009653  2.210483\n",
       "3    2000-01-04  -3.065032   1.634421   1.478637  3.824536\n",
       "4    2000-01-05  -2.762300   1.022128   0.836854  4.078961\n",
       "5    2000-01-06  -4.671896   1.714394   1.870905  4.824478\n",
       "6    2000-01-07  -4.076652   1.808288   3.017154  3.781560\n",
       "7    2000-01-08  -3.381653   0.948164   3.256638  2.701349\n",
       "8    2000-01-09  -4.649421   1.508747   2.746572  0.660095\n",
       "9    2000-01-10  -4.031774   1.413663   2.992574 -0.051526\n",
       "10   2000-01-11  -4.896754   2.565906   3.641334 -1.655854\n",
       "11   2000-01-12  -4.395380   2.229678   3.097271 -1.728925\n",
       "12   2000-01-13  -3.658890   2.696801   2.793085 -0.534871\n",
       "13   2000-01-14  -3.804957   3.273883   2.838177 -2.662444\n",
       "14   2000-01-15  -4.412484   2.361399   4.949331 -2.846648\n",
       "15   2000-01-16  -6.127397   2.141166   5.018089 -3.858673\n",
       "16   2000-01-17  -5.908162   2.642525   5.927033 -4.713109\n",
       "17   2000-01-18  -5.676378   3.087648   5.172189 -3.459610\n",
       "18   2000-01-19  -5.883298   1.487999   5.993147 -3.214238\n",
       "19   2000-01-20  -6.908486   0.618155   5.018515 -2.884032\n",
       "20   2000-01-21  -4.556925   0.666006   4.342121 -1.872907\n",
       "21   2000-01-22  -2.747331   0.626514   5.495131 -1.443321\n",
       "22   2000-01-23  -2.363004   2.199084   4.869983 -1.217977\n",
       "23   2000-01-24  -1.556950   0.539101   4.151143 -1.657612\n",
       "24   2000-01-25   0.810792   1.494749   4.315432 -0.211779\n",
       "25   2000-01-26  -1.822699   1.846856   3.156902  1.100592\n",
       "26   2000-01-27  -3.977000   2.876895   2.895380  0.954474\n",
       "27   2000-01-28  -5.481097   3.033566   2.324180  2.464049\n",
       "28   2000-01-29  -6.608396   2.561806   3.427162  3.010395\n",
       "29   2000-01-30  -6.618584   3.331403   1.898085  2.479962\n",
       "..          ...        ...        ...        ...       ...\n",
       "970  2002-08-28 -79.282203 -15.242924  21.738506 -8.576623\n",
       "971  2002-08-29 -79.340714 -15.708359  20.025663 -7.004120\n",
       "972  2002-08-30 -80.087537 -16.648358  20.342922 -5.798637\n",
       "973  2002-08-31 -79.748017 -17.278655  19.157124 -4.894034\n",
       "974  2002-09-01 -78.956590 -17.139794  20.956647 -6.222945\n",
       "975  2002-09-02 -80.367455 -17.383101  20.018998 -6.037905\n",
       "976  2002-09-03 -81.196063 -18.381968  21.047082 -4.716029\n",
       "977  2002-09-04 -81.496129 -20.201032  19.576499 -5.817491\n",
       "978  2002-09-05 -81.249025 -20.853685  19.877320 -5.200265\n",
       "979  2002-09-06 -81.470049 -20.100373  19.494756 -3.793123\n",
       "980  2002-09-07 -81.335848 -20.204552  18.375050 -3.860689\n",
       "981  2002-09-08 -80.839229 -20.124118  17.141455 -1.844802\n",
       "982  2002-09-09 -80.269914 -19.261572  17.657264 -1.518279\n",
       "983  2002-09-10 -79.953531 -21.101209  16.751040 -0.446994\n",
       "984  2002-09-11 -80.661389 -22.983103  15.935333  0.338620\n",
       "985  2002-09-12 -79.495704 -24.143047  16.650757 -0.805849\n",
       "986  2002-09-13 -79.175705 -25.499324  17.793372 -0.894194\n",
       "987  2002-09-14 -80.317973 -24.188319  17.797878  1.297248\n",
       "988  2002-09-15 -80.598595 -24.876069  16.096106  0.621774\n",
       "989  2002-09-16 -81.868530 -23.864975  16.073751  0.942353\n",
       "990  2002-09-17 -82.035835 -24.337260  16.088474 -1.198723\n",
       "991  2002-09-18 -83.497022 -22.896225  16.342046  0.043094\n",
       "992  2002-09-19 -84.039177 -22.503575  15.370785  0.664017\n",
       "993  2002-09-20 -83.283926 -22.183705  14.783519  0.601272\n",
       "994  2002-09-21 -84.208920 -22.463823  16.503180  1.955937\n",
       "995  2002-09-22 -84.267485 -22.257258  15.672364  1.545828\n",
       "996  2002-09-23 -84.534539 -20.799174  15.801708  1.671919\n",
       "997  2002-09-24 -85.235798 -19.906465  15.050300  0.393325\n",
       "998  2002-09-25 -85.827038 -18.535271  15.100552  0.773891\n",
       "999  2002-09-26 -83.753353 -17.885932  15.445128 -1.488835\n",
       "\n",
       "[1000 rows x 5 columns]"
      ]
     },
     "execution_count": 96,
     "metadata": {},
     "output_type": "execute_result"
    }
   ],
   "source": [
    "#读取csv文件：http://pandas.pydata.org/pandas-docs/version/0.20/io.html#io-read-csv-table\n",
    "\n",
    "pd.read_csv('foo.csv')"
   ]
  },
  {
   "cell_type": "markdown",
   "metadata": {},
   "source": [
    "### Excel\n",
    "\n",
    "读取和写入Excel文件：http://pandas.pydata.org/pandas-docs/version/0.20/io.html#io-excel\n",
    "\n",
    "写入Excel："
   ]
  },
  {
   "cell_type": "code",
   "execution_count": 97,
   "metadata": {
    "collapsed": true
   },
   "outputs": [],
   "source": [
    "df.to_excel('foo.xlsx', sheet_name='Sheet1')"
   ]
  },
  {
   "cell_type": "code",
   "execution_count": 98,
   "metadata": {
    "collapsed": false
   },
   "outputs": [
    {
     "data": {
      "text/html": [
       "<div>\n",
       "<table border=\"1\" class=\"dataframe\">\n",
       "  <thead>\n",
       "    <tr style=\"text-align: right;\">\n",
       "      <th></th>\n",
       "      <th>A</th>\n",
       "      <th>B</th>\n",
       "      <th>C</th>\n",
       "      <th>D</th>\n",
       "    </tr>\n",
       "  </thead>\n",
       "  <tbody>\n",
       "    <tr>\n",
       "      <th>2000-01-01</th>\n",
       "      <td>-0.232588</td>\n",
       "      <td>1.550908</td>\n",
       "      <td>-0.542879</td>\n",
       "      <td>0.461456</td>\n",
       "    </tr>\n",
       "    <tr>\n",
       "      <th>2000-01-02</th>\n",
       "      <td>-1.759988</td>\n",
       "      <td>1.608444</td>\n",
       "      <td>-0.905876</td>\n",
       "      <td>1.495127</td>\n",
       "    </tr>\n",
       "    <tr>\n",
       "      <th>2000-01-03</th>\n",
       "      <td>-1.640229</td>\n",
       "      <td>0.520279</td>\n",
       "      <td>-0.009653</td>\n",
       "      <td>2.210483</td>\n",
       "    </tr>\n",
       "    <tr>\n",
       "      <th>2000-01-04</th>\n",
       "      <td>-3.065032</td>\n",
       "      <td>1.634421</td>\n",
       "      <td>1.478637</td>\n",
       "      <td>3.824536</td>\n",
       "    </tr>\n",
       "    <tr>\n",
       "      <th>2000-01-05</th>\n",
       "      <td>-2.762300</td>\n",
       "      <td>1.022128</td>\n",
       "      <td>0.836854</td>\n",
       "      <td>4.078961</td>\n",
       "    </tr>\n",
       "    <tr>\n",
       "      <th>2000-01-06</th>\n",
       "      <td>-4.671896</td>\n",
       "      <td>1.714394</td>\n",
       "      <td>1.870905</td>\n",
       "      <td>4.824478</td>\n",
       "    </tr>\n",
       "    <tr>\n",
       "      <th>2000-01-07</th>\n",
       "      <td>-4.076652</td>\n",
       "      <td>1.808288</td>\n",
       "      <td>3.017154</td>\n",
       "      <td>3.781560</td>\n",
       "    </tr>\n",
       "    <tr>\n",
       "      <th>2000-01-08</th>\n",
       "      <td>-3.381653</td>\n",
       "      <td>0.948164</td>\n",
       "      <td>3.256638</td>\n",
       "      <td>2.701349</td>\n",
       "    </tr>\n",
       "    <tr>\n",
       "      <th>2000-01-09</th>\n",
       "      <td>-4.649421</td>\n",
       "      <td>1.508747</td>\n",
       "      <td>2.746572</td>\n",
       "      <td>0.660095</td>\n",
       "    </tr>\n",
       "    <tr>\n",
       "      <th>2000-01-10</th>\n",
       "      <td>-4.031774</td>\n",
       "      <td>1.413663</td>\n",
       "      <td>2.992574</td>\n",
       "      <td>-0.051526</td>\n",
       "    </tr>\n",
       "    <tr>\n",
       "      <th>2000-01-11</th>\n",
       "      <td>-4.896754</td>\n",
       "      <td>2.565906</td>\n",
       "      <td>3.641334</td>\n",
       "      <td>-1.655854</td>\n",
       "    </tr>\n",
       "    <tr>\n",
       "      <th>2000-01-12</th>\n",
       "      <td>-4.395380</td>\n",
       "      <td>2.229678</td>\n",
       "      <td>3.097271</td>\n",
       "      <td>-1.728925</td>\n",
       "    </tr>\n",
       "    <tr>\n",
       "      <th>2000-01-13</th>\n",
       "      <td>-3.658890</td>\n",
       "      <td>2.696801</td>\n",
       "      <td>2.793085</td>\n",
       "      <td>-0.534871</td>\n",
       "    </tr>\n",
       "    <tr>\n",
       "      <th>2000-01-14</th>\n",
       "      <td>-3.804957</td>\n",
       "      <td>3.273883</td>\n",
       "      <td>2.838177</td>\n",
       "      <td>-2.662444</td>\n",
       "    </tr>\n",
       "    <tr>\n",
       "      <th>2000-01-15</th>\n",
       "      <td>-4.412484</td>\n",
       "      <td>2.361399</td>\n",
       "      <td>4.949331</td>\n",
       "      <td>-2.846648</td>\n",
       "    </tr>\n",
       "    <tr>\n",
       "      <th>2000-01-16</th>\n",
       "      <td>-6.127397</td>\n",
       "      <td>2.141166</td>\n",
       "      <td>5.018089</td>\n",
       "      <td>-3.858673</td>\n",
       "    </tr>\n",
       "    <tr>\n",
       "      <th>2000-01-17</th>\n",
       "      <td>-5.908162</td>\n",
       "      <td>2.642525</td>\n",
       "      <td>5.927033</td>\n",
       "      <td>-4.713109</td>\n",
       "    </tr>\n",
       "    <tr>\n",
       "      <th>2000-01-18</th>\n",
       "      <td>-5.676378</td>\n",
       "      <td>3.087648</td>\n",
       "      <td>5.172189</td>\n",
       "      <td>-3.459610</td>\n",
       "    </tr>\n",
       "    <tr>\n",
       "      <th>2000-01-19</th>\n",
       "      <td>-5.883298</td>\n",
       "      <td>1.487999</td>\n",
       "      <td>5.993147</td>\n",
       "      <td>-3.214238</td>\n",
       "    </tr>\n",
       "    <tr>\n",
       "      <th>2000-01-20</th>\n",
       "      <td>-6.908486</td>\n",
       "      <td>0.618155</td>\n",
       "      <td>5.018515</td>\n",
       "      <td>-2.884032</td>\n",
       "    </tr>\n",
       "    <tr>\n",
       "      <th>2000-01-21</th>\n",
       "      <td>-4.556925</td>\n",
       "      <td>0.666006</td>\n",
       "      <td>4.342121</td>\n",
       "      <td>-1.872907</td>\n",
       "    </tr>\n",
       "    <tr>\n",
       "      <th>2000-01-22</th>\n",
       "      <td>-2.747331</td>\n",
       "      <td>0.626514</td>\n",
       "      <td>5.495131</td>\n",
       "      <td>-1.443321</td>\n",
       "    </tr>\n",
       "    <tr>\n",
       "      <th>2000-01-23</th>\n",
       "      <td>-2.363004</td>\n",
       "      <td>2.199084</td>\n",
       "      <td>4.869983</td>\n",
       "      <td>-1.217977</td>\n",
       "    </tr>\n",
       "    <tr>\n",
       "      <th>2000-01-24</th>\n",
       "      <td>-1.556950</td>\n",
       "      <td>0.539101</td>\n",
       "      <td>4.151143</td>\n",
       "      <td>-1.657612</td>\n",
       "    </tr>\n",
       "    <tr>\n",
       "      <th>2000-01-25</th>\n",
       "      <td>0.810792</td>\n",
       "      <td>1.494749</td>\n",
       "      <td>4.315432</td>\n",
       "      <td>-0.211779</td>\n",
       "    </tr>\n",
       "    <tr>\n",
       "      <th>2000-01-26</th>\n",
       "      <td>-1.822699</td>\n",
       "      <td>1.846856</td>\n",
       "      <td>3.156902</td>\n",
       "      <td>1.100592</td>\n",
       "    </tr>\n",
       "    <tr>\n",
       "      <th>2000-01-27</th>\n",
       "      <td>-3.977000</td>\n",
       "      <td>2.876895</td>\n",
       "      <td>2.895380</td>\n",
       "      <td>0.954474</td>\n",
       "    </tr>\n",
       "    <tr>\n",
       "      <th>2000-01-28</th>\n",
       "      <td>-5.481097</td>\n",
       "      <td>3.033566</td>\n",
       "      <td>2.324180</td>\n",
       "      <td>2.464049</td>\n",
       "    </tr>\n",
       "    <tr>\n",
       "      <th>2000-01-29</th>\n",
       "      <td>-6.608396</td>\n",
       "      <td>2.561806</td>\n",
       "      <td>3.427162</td>\n",
       "      <td>3.010395</td>\n",
       "    </tr>\n",
       "    <tr>\n",
       "      <th>2000-01-30</th>\n",
       "      <td>-6.618584</td>\n",
       "      <td>3.331403</td>\n",
       "      <td>1.898085</td>\n",
       "      <td>2.479962</td>\n",
       "    </tr>\n",
       "    <tr>\n",
       "      <th>...</th>\n",
       "      <td>...</td>\n",
       "      <td>...</td>\n",
       "      <td>...</td>\n",
       "      <td>...</td>\n",
       "    </tr>\n",
       "    <tr>\n",
       "      <th>2002-08-28</th>\n",
       "      <td>-79.282203</td>\n",
       "      <td>-15.242924</td>\n",
       "      <td>21.738506</td>\n",
       "      <td>-8.576623</td>\n",
       "    </tr>\n",
       "    <tr>\n",
       "      <th>2002-08-29</th>\n",
       "      <td>-79.340714</td>\n",
       "      <td>-15.708359</td>\n",
       "      <td>20.025663</td>\n",
       "      <td>-7.004120</td>\n",
       "    </tr>\n",
       "    <tr>\n",
       "      <th>2002-08-30</th>\n",
       "      <td>-80.087537</td>\n",
       "      <td>-16.648358</td>\n",
       "      <td>20.342922</td>\n",
       "      <td>-5.798637</td>\n",
       "    </tr>\n",
       "    <tr>\n",
       "      <th>2002-08-31</th>\n",
       "      <td>-79.748017</td>\n",
       "      <td>-17.278655</td>\n",
       "      <td>19.157124</td>\n",
       "      <td>-4.894034</td>\n",
       "    </tr>\n",
       "    <tr>\n",
       "      <th>2002-09-01</th>\n",
       "      <td>-78.956590</td>\n",
       "      <td>-17.139794</td>\n",
       "      <td>20.956647</td>\n",
       "      <td>-6.222945</td>\n",
       "    </tr>\n",
       "    <tr>\n",
       "      <th>2002-09-02</th>\n",
       "      <td>-80.367455</td>\n",
       "      <td>-17.383101</td>\n",
       "      <td>20.018998</td>\n",
       "      <td>-6.037905</td>\n",
       "    </tr>\n",
       "    <tr>\n",
       "      <th>2002-09-03</th>\n",
       "      <td>-81.196063</td>\n",
       "      <td>-18.381968</td>\n",
       "      <td>21.047082</td>\n",
       "      <td>-4.716029</td>\n",
       "    </tr>\n",
       "    <tr>\n",
       "      <th>2002-09-04</th>\n",
       "      <td>-81.496129</td>\n",
       "      <td>-20.201032</td>\n",
       "      <td>19.576499</td>\n",
       "      <td>-5.817491</td>\n",
       "    </tr>\n",
       "    <tr>\n",
       "      <th>2002-09-05</th>\n",
       "      <td>-81.249025</td>\n",
       "      <td>-20.853685</td>\n",
       "      <td>19.877320</td>\n",
       "      <td>-5.200265</td>\n",
       "    </tr>\n",
       "    <tr>\n",
       "      <th>2002-09-06</th>\n",
       "      <td>-81.470049</td>\n",
       "      <td>-20.100373</td>\n",
       "      <td>19.494756</td>\n",
       "      <td>-3.793123</td>\n",
       "    </tr>\n",
       "    <tr>\n",
       "      <th>2002-09-07</th>\n",
       "      <td>-81.335848</td>\n",
       "      <td>-20.204552</td>\n",
       "      <td>18.375050</td>\n",
       "      <td>-3.860689</td>\n",
       "    </tr>\n",
       "    <tr>\n",
       "      <th>2002-09-08</th>\n",
       "      <td>-80.839229</td>\n",
       "      <td>-20.124118</td>\n",
       "      <td>17.141455</td>\n",
       "      <td>-1.844802</td>\n",
       "    </tr>\n",
       "    <tr>\n",
       "      <th>2002-09-09</th>\n",
       "      <td>-80.269914</td>\n",
       "      <td>-19.261572</td>\n",
       "      <td>17.657264</td>\n",
       "      <td>-1.518279</td>\n",
       "    </tr>\n",
       "    <tr>\n",
       "      <th>2002-09-10</th>\n",
       "      <td>-79.953531</td>\n",
       "      <td>-21.101209</td>\n",
       "      <td>16.751040</td>\n",
       "      <td>-0.446994</td>\n",
       "    </tr>\n",
       "    <tr>\n",
       "      <th>2002-09-11</th>\n",
       "      <td>-80.661389</td>\n",
       "      <td>-22.983103</td>\n",
       "      <td>15.935333</td>\n",
       "      <td>0.338620</td>\n",
       "    </tr>\n",
       "    <tr>\n",
       "      <th>2002-09-12</th>\n",
       "      <td>-79.495704</td>\n",
       "      <td>-24.143047</td>\n",
       "      <td>16.650757</td>\n",
       "      <td>-0.805849</td>\n",
       "    </tr>\n",
       "    <tr>\n",
       "      <th>2002-09-13</th>\n",
       "      <td>-79.175705</td>\n",
       "      <td>-25.499324</td>\n",
       "      <td>17.793372</td>\n",
       "      <td>-0.894194</td>\n",
       "    </tr>\n",
       "    <tr>\n",
       "      <th>2002-09-14</th>\n",
       "      <td>-80.317973</td>\n",
       "      <td>-24.188319</td>\n",
       "      <td>17.797878</td>\n",
       "      <td>1.297248</td>\n",
       "    </tr>\n",
       "    <tr>\n",
       "      <th>2002-09-15</th>\n",
       "      <td>-80.598595</td>\n",
       "      <td>-24.876069</td>\n",
       "      <td>16.096106</td>\n",
       "      <td>0.621774</td>\n",
       "    </tr>\n",
       "    <tr>\n",
       "      <th>2002-09-16</th>\n",
       "      <td>-81.868530</td>\n",
       "      <td>-23.864975</td>\n",
       "      <td>16.073751</td>\n",
       "      <td>0.942353</td>\n",
       "    </tr>\n",
       "    <tr>\n",
       "      <th>2002-09-17</th>\n",
       "      <td>-82.035835</td>\n",
       "      <td>-24.337260</td>\n",
       "      <td>16.088474</td>\n",
       "      <td>-1.198723</td>\n",
       "    </tr>\n",
       "    <tr>\n",
       "      <th>2002-09-18</th>\n",
       "      <td>-83.497022</td>\n",
       "      <td>-22.896225</td>\n",
       "      <td>16.342046</td>\n",
       "      <td>0.043094</td>\n",
       "    </tr>\n",
       "    <tr>\n",
       "      <th>2002-09-19</th>\n",
       "      <td>-84.039177</td>\n",
       "      <td>-22.503575</td>\n",
       "      <td>15.370785</td>\n",
       "      <td>0.664017</td>\n",
       "    </tr>\n",
       "    <tr>\n",
       "      <th>2002-09-20</th>\n",
       "      <td>-83.283926</td>\n",
       "      <td>-22.183705</td>\n",
       "      <td>14.783519</td>\n",
       "      <td>0.601272</td>\n",
       "    </tr>\n",
       "    <tr>\n",
       "      <th>2002-09-21</th>\n",
       "      <td>-84.208920</td>\n",
       "      <td>-22.463823</td>\n",
       "      <td>16.503180</td>\n",
       "      <td>1.955937</td>\n",
       "    </tr>\n",
       "    <tr>\n",
       "      <th>2002-09-22</th>\n",
       "      <td>-84.267485</td>\n",
       "      <td>-22.257258</td>\n",
       "      <td>15.672364</td>\n",
       "      <td>1.545828</td>\n",
       "    </tr>\n",
       "    <tr>\n",
       "      <th>2002-09-23</th>\n",
       "      <td>-84.534539</td>\n",
       "      <td>-20.799174</td>\n",
       "      <td>15.801708</td>\n",
       "      <td>1.671919</td>\n",
       "    </tr>\n",
       "    <tr>\n",
       "      <th>2002-09-24</th>\n",
       "      <td>-85.235798</td>\n",
       "      <td>-19.906465</td>\n",
       "      <td>15.050300</td>\n",
       "      <td>0.393325</td>\n",
       "    </tr>\n",
       "    <tr>\n",
       "      <th>2002-09-25</th>\n",
       "      <td>-85.827038</td>\n",
       "      <td>-18.535271</td>\n",
       "      <td>15.100552</td>\n",
       "      <td>0.773891</td>\n",
       "    </tr>\n",
       "    <tr>\n",
       "      <th>2002-09-26</th>\n",
       "      <td>-83.753353</td>\n",
       "      <td>-17.885932</td>\n",
       "      <td>15.445128</td>\n",
       "      <td>-1.488835</td>\n",
       "    </tr>\n",
       "  </tbody>\n",
       "</table>\n",
       "<p>1000 rows × 4 columns</p>\n",
       "</div>"
      ],
      "text/plain": [
       "                    A          B          C         D\n",
       "2000-01-01  -0.232588   1.550908  -0.542879  0.461456\n",
       "2000-01-02  -1.759988   1.608444  -0.905876  1.495127\n",
       "2000-01-03  -1.640229   0.520279  -0.009653  2.210483\n",
       "2000-01-04  -3.065032   1.634421   1.478637  3.824536\n",
       "2000-01-05  -2.762300   1.022128   0.836854  4.078961\n",
       "2000-01-06  -4.671896   1.714394   1.870905  4.824478\n",
       "2000-01-07  -4.076652   1.808288   3.017154  3.781560\n",
       "2000-01-08  -3.381653   0.948164   3.256638  2.701349\n",
       "2000-01-09  -4.649421   1.508747   2.746572  0.660095\n",
       "2000-01-10  -4.031774   1.413663   2.992574 -0.051526\n",
       "2000-01-11  -4.896754   2.565906   3.641334 -1.655854\n",
       "2000-01-12  -4.395380   2.229678   3.097271 -1.728925\n",
       "2000-01-13  -3.658890   2.696801   2.793085 -0.534871\n",
       "2000-01-14  -3.804957   3.273883   2.838177 -2.662444\n",
       "2000-01-15  -4.412484   2.361399   4.949331 -2.846648\n",
       "2000-01-16  -6.127397   2.141166   5.018089 -3.858673\n",
       "2000-01-17  -5.908162   2.642525   5.927033 -4.713109\n",
       "2000-01-18  -5.676378   3.087648   5.172189 -3.459610\n",
       "2000-01-19  -5.883298   1.487999   5.993147 -3.214238\n",
       "2000-01-20  -6.908486   0.618155   5.018515 -2.884032\n",
       "2000-01-21  -4.556925   0.666006   4.342121 -1.872907\n",
       "2000-01-22  -2.747331   0.626514   5.495131 -1.443321\n",
       "2000-01-23  -2.363004   2.199084   4.869983 -1.217977\n",
       "2000-01-24  -1.556950   0.539101   4.151143 -1.657612\n",
       "2000-01-25   0.810792   1.494749   4.315432 -0.211779\n",
       "2000-01-26  -1.822699   1.846856   3.156902  1.100592\n",
       "2000-01-27  -3.977000   2.876895   2.895380  0.954474\n",
       "2000-01-28  -5.481097   3.033566   2.324180  2.464049\n",
       "2000-01-29  -6.608396   2.561806   3.427162  3.010395\n",
       "2000-01-30  -6.618584   3.331403   1.898085  2.479962\n",
       "...               ...        ...        ...       ...\n",
       "2002-08-28 -79.282203 -15.242924  21.738506 -8.576623\n",
       "2002-08-29 -79.340714 -15.708359  20.025663 -7.004120\n",
       "2002-08-30 -80.087537 -16.648358  20.342922 -5.798637\n",
       "2002-08-31 -79.748017 -17.278655  19.157124 -4.894034\n",
       "2002-09-01 -78.956590 -17.139794  20.956647 -6.222945\n",
       "2002-09-02 -80.367455 -17.383101  20.018998 -6.037905\n",
       "2002-09-03 -81.196063 -18.381968  21.047082 -4.716029\n",
       "2002-09-04 -81.496129 -20.201032  19.576499 -5.817491\n",
       "2002-09-05 -81.249025 -20.853685  19.877320 -5.200265\n",
       "2002-09-06 -81.470049 -20.100373  19.494756 -3.793123\n",
       "2002-09-07 -81.335848 -20.204552  18.375050 -3.860689\n",
       "2002-09-08 -80.839229 -20.124118  17.141455 -1.844802\n",
       "2002-09-09 -80.269914 -19.261572  17.657264 -1.518279\n",
       "2002-09-10 -79.953531 -21.101209  16.751040 -0.446994\n",
       "2002-09-11 -80.661389 -22.983103  15.935333  0.338620\n",
       "2002-09-12 -79.495704 -24.143047  16.650757 -0.805849\n",
       "2002-09-13 -79.175705 -25.499324  17.793372 -0.894194\n",
       "2002-09-14 -80.317973 -24.188319  17.797878  1.297248\n",
       "2002-09-15 -80.598595 -24.876069  16.096106  0.621774\n",
       "2002-09-16 -81.868530 -23.864975  16.073751  0.942353\n",
       "2002-09-17 -82.035835 -24.337260  16.088474 -1.198723\n",
       "2002-09-18 -83.497022 -22.896225  16.342046  0.043094\n",
       "2002-09-19 -84.039177 -22.503575  15.370785  0.664017\n",
       "2002-09-20 -83.283926 -22.183705  14.783519  0.601272\n",
       "2002-09-21 -84.208920 -22.463823  16.503180  1.955937\n",
       "2002-09-22 -84.267485 -22.257258  15.672364  1.545828\n",
       "2002-09-23 -84.534539 -20.799174  15.801708  1.671919\n",
       "2002-09-24 -85.235798 -19.906465  15.050300  0.393325\n",
       "2002-09-25 -85.827038 -18.535271  15.100552  0.773891\n",
       "2002-09-26 -83.753353 -17.885932  15.445128 -1.488835\n",
       "\n",
       "[1000 rows x 4 columns]"
      ]
     },
     "execution_count": 98,
     "metadata": {},
     "output_type": "execute_result"
    }
   ],
   "source": [
    "#读取Excel：\n",
    "\n",
    "pd.read_excel('foo.xlsx', 'Sheet1', index_col=None, na_values=['NA'])"
   ]
  },
  {
   "cell_type": "markdown",
   "metadata": {},
   "source": [
    "### 易错点\n",
    "\n",
    "如果你操作时遇到类似这种问题：\n",
    "\n",
    "\n",
    "你可以看看这里的解释寻求帮助：http://pandas.pydata.org/pandas-docs/version/0.20/basics.html#basics-compare\n",
    "\n",
    "也可以参考这里：http://pandas.pydata.org/pandas-docs/version/0.20/gotchas.html#gotchas\n",
    "\n",
    "花了一天半时间把10分钟入门pandas官方文档解读了一下，大家有兴趣可以深入了解官方文档的内容，或者用到某部分再去查文档也是很ok的，哈哈。\n",
    "\n",
    "感谢你的阅读~"
   ]
  },
  {
   "cell_type": "code",
   "execution_count": null,
   "metadata": {
    "collapsed": true
   },
   "outputs": [],
   "source": []
  }
 ],
 "metadata": {
  "kernelspec": {
   "display_name": "Python 3",
   "language": "python",
   "name": "python3"
  },
  "language_info": {
   "codemirror_mode": {
    "name": "ipython",
    "version": 3
   },
   "file_extension": ".py",
   "mimetype": "text/x-python",
   "name": "python",
   "nbconvert_exporter": "python",
   "pygments_lexer": "ipython3",
   "version": "3.6.0"
  }
 },
 "nbformat": 4,
 "nbformat_minor": 2
}
