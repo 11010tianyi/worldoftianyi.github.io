{
 "cells": [
  {
   "cell_type": "markdown",
   "metadata": {},
   "source": [
    "## 两种基本数据结构\n",
    "\n",
    "pandas具有两种主要的数据结构，一种叫做 **Series**, 直译就是序列， 另一种叫做 **DataFrame**， 直译就是数据框。\n",
    "\n",
    "这两者与Python内置的数据结构，以及Numpy的ndarray数据结构最大的不同就在于，它们是由数据和数据标签组成。说人话就是，它们让Python成为了一个Excel。其中 DataFrane 简单理解就是多列的 Series 。"
   ]
  },
  {
   "cell_type": "markdown",
   "metadata": {},
   "source": [
    "### 创建数据集\n",
    "\n",
    "根据表格，手动创建Series,DataFrame,"
   ]
  },
  {
   "cell_type": "code",
   "execution_count": 1,
   "metadata": {
    "collapsed": true
   },
   "outputs": [],
   "source": [
    "from pandas import Series, DataFrame\n",
    "from numpy import nan as NA\n",
    "import pandas as pd\n",
    "import numpy as np\n",
    "# 创建Series\n",
    "manager = Series([1,2,3,4,5])\n",
    "country = Series(['US','US','UK','UK','UK'])\n",
    "gender = Series(['M','F','F','M','F'])\n",
    "age = Series([32,45,25,39,99])\n",
    "q1 = Series([5,3,3,3,2])\n",
    "q2 = Series([4,5,5,3,2])\n",
    "q3 = Series([5,2,5,4,1])\n",
    "q4 = Series([5,5,5,NA,2])\n",
    "q5 = Series([5,5,2,NA,1])\n",
    "# 由Series组成DataFrame\n",
    "leadership = DataFrame({'manager':manager,'country':country,'gender':gender,'age':age,\n",
    "'q1':q1,'q2':q2,'q3':q3,'q4':q4,'q5':q5})"
   ]
  },
  {
   "cell_type": "code",
   "execution_count": 4,
   "metadata": {
    "collapsed": false
   },
   "outputs": [
    {
     "data": {
      "text/html": [
       "<div>\n",
       "<table border=\"1\" class=\"dataframe\">\n",
       "  <thead>\n",
       "    <tr style=\"text-align: right;\">\n",
       "      <th></th>\n",
       "      <th>age</th>\n",
       "      <th>country</th>\n",
       "      <th>gender</th>\n",
       "      <th>manager</th>\n",
       "      <th>q1</th>\n",
       "      <th>q2</th>\n",
       "      <th>q3</th>\n",
       "      <th>q4</th>\n",
       "      <th>q5</th>\n",
       "      <th>date</th>\n",
       "    </tr>\n",
       "  </thead>\n",
       "  <tbody>\n",
       "    <tr>\n",
       "      <th>3</th>\n",
       "      <td>39</td>\n",
       "      <td>UK</td>\n",
       "      <td>M</td>\n",
       "      <td>4</td>\n",
       "      <td>3</td>\n",
       "      <td>3</td>\n",
       "      <td>4</td>\n",
       "      <td>NaN</td>\n",
       "      <td>NaN</td>\n",
       "      <td>10/12/08</td>\n",
       "    </tr>\n",
       "    <tr>\n",
       "      <th>4</th>\n",
       "      <td>99</td>\n",
       "      <td>UK</td>\n",
       "      <td>F</td>\n",
       "      <td>5</td>\n",
       "      <td>2</td>\n",
       "      <td>2</td>\n",
       "      <td>1</td>\n",
       "      <td>2.0</td>\n",
       "      <td>1.0</td>\n",
       "      <td>5/1/09</td>\n",
       "    </tr>\n",
       "  </tbody>\n",
       "</table>\n",
       "</div>"
      ],
      "text/plain": [
       "   age country gender  manager  q1  q2  q3   q4   q5      date\n",
       "3   39      UK      M        4   3   3   4  NaN  NaN  10/12/08\n",
       "4   99      UK      F        5   2   2   1  2.0  1.0    5/1/09"
      ]
     },
     "execution_count": 4,
     "metadata": {},
     "output_type": "execute_result"
    }
   ],
   "source": [
    "#如果数据没有写完，增加额外列，\n",
    "\n",
    "date = Series(['10/24/08','10/28/08','10/1/08','10/12/08','5/1/09'])\n",
    "# 为不存在的列赋值能够创建新的一列。\n",
    "leadership['date'] = date\n",
    "# 查看数据库的值\n",
    "leadership.values\n",
    "# 查看前后几行\n",
    "leadership.head(2)\n",
    "leadership.tail(2)"
   ]
  },
  {
   "cell_type": "markdown",
   "metadata": {},
   "source": [
    "手动创建数据的情况比较少，我们用pandas自带的读取函数导入一个以制表符分隔的格式化的\n",
    "\n",
    "文本文件，然后看下数据结构。\n",
    "\n",
    "原始数据有20列29850行，为10个对照组10个控制组在29850个基因上的表达量。"
   ]
  },
  {
   "cell_type": "code",
   "execution_count": 8,
   "metadata": {
    "collapsed": false
   },
   "outputs": [
    {
     "data": {
      "text/plain": [
       "pandas.core.frame.DataFrame"
      ]
     },
     "execution_count": 8,
     "metadata": {},
     "output_type": "execute_result"
    }
   ],
   "source": [
    "#读取数据，\n",
    "\n",
    "import pandas as pd\n",
    "data = pd.read_table(\"C:/Users/Administrator/a.txt\")\n",
    "type(data)\n",
    "#pandas.core.frame.DataFrame"
   ]
  },
  {
   "cell_type": "code",
   "execution_count": 10,
   "metadata": {
    "collapsed": false
   },
   "outputs": [
    {
     "data": {
      "text/plain": [
       "(37, 3)"
      ]
     },
     "execution_count": 10,
     "metadata": {},
     "output_type": "execute_result"
    }
   ],
   "source": [
    "data.shape  # 数据框大小"
   ]
  },
  {
   "cell_type": "code",
   "execution_count": 11,
   "metadata": {
    "collapsed": false
   },
   "outputs": [
    {
     "data": {
      "text/html": [
       "<div>\n",
       "<table border=\"1\" class=\"dataframe\">\n",
       "  <thead>\n",
       "    <tr style=\"text-align: right;\">\n",
       "      <th></th>\n",
       "      <th>1</th>\n",
       "      <th>11209</th>\n",
       "      <th>1.1</th>\n",
       "    </tr>\n",
       "  </thead>\n",
       "  <tbody>\n",
       "    <tr>\n",
       "      <th>0</th>\n",
       "      <td>1</td>\n",
       "      <td>11210</td>\n",
       "      <td>1</td>\n",
       "    </tr>\n",
       "    <tr>\n",
       "      <th>1</th>\n",
       "      <td>1</td>\n",
       "      <td>11211</td>\n",
       "      <td>1</td>\n",
       "    </tr>\n",
       "  </tbody>\n",
       "</table>\n",
       "</div>"
      ],
      "text/plain": [
       "   1  11209  1.1\n",
       "0  1  11210    1\n",
       "1  1  11211    1"
      ]
     },
     "execution_count": 11,
     "metadata": {},
     "output_type": "execute_result"
    }
   ],
   "source": [
    "data.head(2)  # 前两行"
   ]
  },
  {
   "cell_type": "markdown",
   "metadata": {},
   "source": [
    "在继续介绍数据管理前，先简单介绍一下panda的index对象。pandas使用索引对象管理轴标签（行列名），它不可被轻易修改。因为Index对象的存在，不同来源的数据能够进行对齐，还能根据索引重新排序。\n",
    "\n",
    "    选取数据框元素， 就是能够提取某几行，某几列，或者某一个元素。"
   ]
  },
  {
   "cell_type": "code",
   "execution_count": 12,
   "metadata": {
    "collapsed": false
   },
   "outputs": [
    {
     "data": {
      "text/html": [
       "<div>\n",
       "<table border=\"1\" class=\"dataframe\">\n",
       "  <thead>\n",
       "    <tr style=\"text-align: right;\">\n",
       "      <th></th>\n",
       "      <th>gender</th>\n",
       "      <th>manager</th>\n",
       "    </tr>\n",
       "  </thead>\n",
       "  <tbody>\n",
       "    <tr>\n",
       "      <th>1</th>\n",
       "      <td>F</td>\n",
       "      <td>2</td>\n",
       "    </tr>\n",
       "    <tr>\n",
       "      <th>2</th>\n",
       "      <td>F</td>\n",
       "      <td>3</td>\n",
       "    </tr>\n",
       "    <tr>\n",
       "      <th>3</th>\n",
       "      <td>M</td>\n",
       "      <td>4</td>\n",
       "    </tr>\n",
       "  </tbody>\n",
       "</table>\n",
       "</div>"
      ],
      "text/plain": [
       "  gender  manager\n",
       "1      F        2\n",
       "2      F        3\n",
       "3      M        4"
      ]
     },
     "execution_count": 12,
     "metadata": {},
     "output_type": "execute_result"
    }
   ],
   "source": [
    "# 按行选取元素, 提供单个索引，或者是list\n",
    "leadership.ix[1]\n",
    "leadership.ix[[1,2,3]] # 或leadership.ix[1:3]\n",
    "# 按列选取元素\n",
    "leadership[[1,2,3]]\n",
    "leadership[[1]]\n",
    "leadership['q1']\n",
    "leadership.ix[:,1:3] \n",
    "## 特别的，还可以根据列名，选取一个范围\n",
    "leadership.ix[:,'q1':'q5']\n",
    "\n",
    "# 按行，按列，选取局部元素, [行，列]\n",
    "leadership.ix[1,2]\n",
    "leadership.ix[1:2,2:3]\n",
    "leadership.ix[1:3,2:4]"
   ]
  },
  {
   "cell_type": "markdown",
   "metadata": {},
   "source": [
    "注： Python以**0**为基， 所以leadership.ix[[1]]选取的是第二行,并且leadership.ix[1:3]是**优先根据索引名**，而leadership[1:3]则是**根据位置顺序**。 目前来看直接用[]有很多小问题，所以建议都改用ix[]。"
   ]
  },
  {
   "cell_type": "code",
   "execution_count": 34,
   "metadata": {
    "collapsed": false
   },
   "outputs": [
    {
     "data": {
      "text/html": [
       "<div>\n",
       "<table border=\"1\" class=\"dataframe\">\n",
       "  <thead>\n",
       "    <tr style=\"text-align: right;\">\n",
       "      <th></th>\n",
       "      <th>age</th>\n",
       "      <th>country</th>\n",
       "      <th>gender</th>\n",
       "      <th>manager</th>\n",
       "      <th>q1</th>\n",
       "      <th>q2</th>\n",
       "      <th>q3</th>\n",
       "      <th>q4</th>\n",
       "      <th>q5</th>\n",
       "      <th>date</th>\n",
       "    </tr>\n",
       "  </thead>\n",
       "  <tbody>\n",
       "    <tr>\n",
       "      <th>1</th>\n",
       "      <td>45</td>\n",
       "      <td>US</td>\n",
       "      <td>F</td>\n",
       "      <td>2</td>\n",
       "      <td>3</td>\n",
       "      <td>5</td>\n",
       "      <td>2</td>\n",
       "      <td>5.0</td>\n",
       "      <td>5.0</td>\n",
       "      <td>10/28/08</td>\n",
       "    </tr>\n",
       "    <tr>\n",
       "      <th>2</th>\n",
       "      <td>25</td>\n",
       "      <td>UK</td>\n",
       "      <td>F</td>\n",
       "      <td>3</td>\n",
       "      <td>3</td>\n",
       "      <td>5</td>\n",
       "      <td>5</td>\n",
       "      <td>5.0</td>\n",
       "      <td>2.0</td>\n",
       "      <td>10/1/08</td>\n",
       "    </tr>\n",
       "  </tbody>\n",
       "</table>\n",
       "</div>"
      ],
      "text/plain": [
       "   age country gender  manager  q1  q2  q3   q4   q5      date\n",
       "1   45      US      F        2   3   5   2  5.0  5.0  10/28/08\n",
       "2   25      UK      F        3   3   5   5  5.0  2.0   10/1/08"
      ]
     },
     "execution_count": 34,
     "metadata": {},
     "output_type": "execute_result"
    }
   ],
   "source": [
    "leadership.ix[[1,2]]"
   ]
  },
  {
   "cell_type": "markdown",
   "metadata": {},
   "source": [
    "### 基本数据管理\n",
    "\n",
    "下面使用的数据来自于前面导入的data,  模仿《R语言实战》的基本数据管理章节编排。"
   ]
  },
  {
   "cell_type": "code",
   "execution_count": 38,
   "metadata": {
    "collapsed": true
   },
   "outputs": [],
   "source": [
    "#比如说新建一个总分，是q1-q5的总计\n",
    "# 用到numpy的通用数学函数, 其中axis=0表示每一列的计算结果，axis=1表示所有行的运算结果\n",
    "total = np.sum(leadership.ix[:,'q1':'q5'], axis=1)\n",
    "total\n",
    "#Out[30]: \n",
    "#0    24.0\n",
    "#1    20.0\n",
    "#2    20.0\n",
    "#3    10.0\n",
    "#4     8.0\n",
    "#dtype: float64\n",
    "## np.sum计算的时候会无视掉缺失值NA\n",
    "# 可以直接增加到数据框内\n",
    "leadership['total'] = np.sum(leadership.ix[:,'q1':'q5'], axis=1)"
   ]
  },
  {
   "cell_type": "code",
   "execution_count": 39,
   "metadata": {
    "collapsed": false
   },
   "outputs": [
    {
     "data": {
      "text/html": [
       "<div>\n",
       "<table border=\"1\" class=\"dataframe\">\n",
       "  <thead>\n",
       "    <tr style=\"text-align: right;\">\n",
       "      <th></th>\n",
       "      <th>age</th>\n",
       "      <th>country</th>\n",
       "      <th>gender</th>\n",
       "      <th>manager</th>\n",
       "      <th>q1</th>\n",
       "      <th>q2</th>\n",
       "      <th>q3</th>\n",
       "      <th>q4</th>\n",
       "      <th>q5</th>\n",
       "      <th>date</th>\n",
       "      <th>total</th>\n",
       "    </tr>\n",
       "  </thead>\n",
       "  <tbody>\n",
       "    <tr>\n",
       "      <th>0</th>\n",
       "      <td>32</td>\n",
       "      <td>US</td>\n",
       "      <td>M</td>\n",
       "      <td>1</td>\n",
       "      <td>5</td>\n",
       "      <td>4</td>\n",
       "      <td>5</td>\n",
       "      <td>5.0</td>\n",
       "      <td>5.0</td>\n",
       "      <td>10/24/08</td>\n",
       "      <td>24.0</td>\n",
       "    </tr>\n",
       "    <tr>\n",
       "      <th>1</th>\n",
       "      <td>45</td>\n",
       "      <td>US</td>\n",
       "      <td>F</td>\n",
       "      <td>2</td>\n",
       "      <td>3</td>\n",
       "      <td>5</td>\n",
       "      <td>2</td>\n",
       "      <td>5.0</td>\n",
       "      <td>5.0</td>\n",
       "      <td>10/28/08</td>\n",
       "      <td>20.0</td>\n",
       "    </tr>\n",
       "    <tr>\n",
       "      <th>2</th>\n",
       "      <td>25</td>\n",
       "      <td>UK</td>\n",
       "      <td>F</td>\n",
       "      <td>3</td>\n",
       "      <td>3</td>\n",
       "      <td>5</td>\n",
       "      <td>5</td>\n",
       "      <td>5.0</td>\n",
       "      <td>2.0</td>\n",
       "      <td>10/1/08</td>\n",
       "      <td>20.0</td>\n",
       "    </tr>\n",
       "    <tr>\n",
       "      <th>3</th>\n",
       "      <td>39</td>\n",
       "      <td>UK</td>\n",
       "      <td>M</td>\n",
       "      <td>4</td>\n",
       "      <td>3</td>\n",
       "      <td>3</td>\n",
       "      <td>4</td>\n",
       "      <td>NaN</td>\n",
       "      <td>NaN</td>\n",
       "      <td>10/12/08</td>\n",
       "      <td>10.0</td>\n",
       "    </tr>\n",
       "    <tr>\n",
       "      <th>4</th>\n",
       "      <td>99</td>\n",
       "      <td>UK</td>\n",
       "      <td>F</td>\n",
       "      <td>5</td>\n",
       "      <td>2</td>\n",
       "      <td>2</td>\n",
       "      <td>1</td>\n",
       "      <td>2.0</td>\n",
       "      <td>1.0</td>\n",
       "      <td>5/1/09</td>\n",
       "      <td>8.0</td>\n",
       "    </tr>\n",
       "  </tbody>\n",
       "</table>\n",
       "</div>"
      ],
      "text/plain": [
       "   age country gender  manager  q1  q2  q3   q4   q5      date  total\n",
       "0   32      US      M        1   5   4   5  5.0  5.0  10/24/08   24.0\n",
       "1   45      US      F        2   3   5   2  5.0  5.0  10/28/08   20.0\n",
       "2   25      UK      F        3   3   5   5  5.0  2.0   10/1/08   20.0\n",
       "3   39      UK      M        4   3   3   4  NaN  NaN  10/12/08   10.0\n",
       "4   99      UK      F        5   2   2   1  2.0  1.0    5/1/09    8.0"
      ]
     },
     "execution_count": 39,
     "metadata": {},
     "output_type": "execute_result"
    }
   ],
   "source": [
    "leadership"
   ]
  },
  {
   "cell_type": "markdown",
   "metadata": {},
   "source": [
    "### 变量重编码\n",
    "\n",
    "重编码涉及到同一变量和/或其他变量的现有值创建新值的过程。比如说，将一个连续性变量修改为一组类别值；将误编码的值替换成正确值；基于一组分数线创建一个表示及格/不及格的变量。\n",
    "\n",
    "比如说在leadership里面的年龄中有一个是99岁，按照尝试来看就是错的，所以需要把他重编码为NA。"
   ]
  },
  {
   "cell_type": "code",
   "execution_count": 40,
   "metadata": {
    "collapsed": false
   },
   "outputs": [
    {
     "name": "stderr",
     "output_type": "stream",
     "text": [
      "E:\\Program Files\\Anaconda3\\lib\\site-packages\\ipykernel\\__main__.py:3: SettingWithCopyWarning: \n",
      "A value is trying to be set on a copy of a slice from a DataFrame\n",
      "\n",
      "See the caveats in the documentation: http://pandas.pydata.org/pandas-docs/stable/indexing.html#indexing-view-versus-copy\n",
      "  app.launch_new_instance()\n",
      "E:\\Program Files\\Anaconda3\\lib\\site-packages\\ipykernel\\__main__.py:4: SettingWithCopyWarning: \n",
      "A value is trying to be set on a copy of a slice from a DataFrame\n",
      "\n",
      "See the caveats in the documentation: http://pandas.pydata.org/pandas-docs/stable/indexing.html#indexing-view-versus-copy\n"
     ]
    },
    {
     "data": {
      "text/plain": [
       "Series([], Name: age, dtype: float64)"
      ]
     },
     "execution_count": 40,
     "metadata": {},
     "output_type": "execute_result"
    }
   ],
   "source": [
    "# 方式一\n",
    "## .ix 比 .loc使用更加广泛，对于初学者来说没有差异\n",
    "leadership['age'][leadership['age'] > 99] = NA\n",
    "leadership.ix[:,'age'][leadership.ix[:,'age'] >= 99] = NA\n",
    "leadership.loc[:,('age')][leadership['age'] == 99] = NA\n",
    "# 方式二\n",
    "leadership.ix[leadership['age'] > 99,'age'] = NA\n",
    "leadership.loc[leadership['age'] == 99, 'age']"
   ]
  },
  {
   "cell_type": "markdown",
   "metadata": {},
   "source": [
    "看起来第一种方法用了很多，但是都属于chained indexing， 直译就是连锁索引，也就是连续用了[]。这个其实我沿用了R语言的习惯，leadership\\$age[leadership\\$age == 99]，pandas在处理chained indexing如果发现存在赋值现象，就会报错或者警告。\n",
    "\n",
    "问题来自于底层Python代码处理chained indexing时是返回视图(views)还是复制(copy)，毕竟还会导致性能上的降低。所以建议第二种。\n",
    "\n",
    "注： 视图和复制是两个不同的概念，如果你将视图赋值给新变量，对新变量的操作会影响到原始数据，而如果将原始数据的一个复制赋值给新变量，那么对新变量的操作就与原始数据无关。\n",
    "\n",
    "下一步，我们还可以把大于75定义为older, 55和75间定义为midlle aged, 小于55则是young。"
   ]
  },
  {
   "cell_type": "code",
   "execution_count": 41,
   "metadata": {
    "collapsed": true
   },
   "outputs": [],
   "source": [
    "leadership['agecat'] = np.where(leadership['age'] > 75, 'Elder', np.where(np.logical_and(leadership['age']<=75, leadership['age'] >= 45), \"Middle Aged\", \"Young\" ))"
   ]
  },
  {
   "cell_type": "markdown",
   "metadata": {},
   "source": [
    "这里用到Numpy的人二元ufunc中的元素级比较运算， np.where,np.logical_and。如果用np.greater和np.less，会遇到报错，这是因为存在缺失值。"
   ]
  },
  {
   "cell_type": "markdown",
   "metadata": {},
   "source": [
    "### 变量重命名\n",
    "\n",
    "如果对现有的名字不满意，可以对行名(index)，列名(columns)进行修改"
   ]
  },
  {
   "cell_type": "code",
   "execution_count": 42,
   "metadata": {
    "collapsed": true
   },
   "outputs": [],
   "source": [
    "# 先查看列名\n",
    "leadership.columns\n",
    "# 函数采用rename, 参数为columns, index,可以用字典指定置换映射\n",
    "leadership = leadership.rename(columns={'q1': 'item1','q2':'item2','q3':'item3','q4':'item4','q5':'item5'})"
   ]
  },
  {
   "cell_type": "markdown",
   "metadata": {},
   "source": [
    "### 缺失值处理\n",
    "\n",
    "真实世界的数据有可能存在残缺，在pandas中庸NaN表示缺失或NA值，用isnull和notnull函数进行检测"
   ]
  },
  {
   "cell_type": "code",
   "execution_count": 44,
   "metadata": {
    "collapsed": false
   },
   "outputs": [
    {
     "data": {
      "text/html": [
       "<div>\n",
       "<table border=\"1\" class=\"dataframe\">\n",
       "  <thead>\n",
       "    <tr style=\"text-align: right;\">\n",
       "      <th></th>\n",
       "      <th>age</th>\n",
       "      <th>country</th>\n",
       "      <th>gender</th>\n",
       "      <th>manager</th>\n",
       "      <th>item1</th>\n",
       "      <th>item2</th>\n",
       "      <th>item3</th>\n",
       "      <th>item4</th>\n",
       "      <th>item5</th>\n",
       "      <th>date</th>\n",
       "      <th>total</th>\n",
       "      <th>agecat</th>\n",
       "    </tr>\n",
       "  </thead>\n",
       "  <tbody>\n",
       "    <tr>\n",
       "      <th>0</th>\n",
       "      <td>True</td>\n",
       "      <td>True</td>\n",
       "      <td>True</td>\n",
       "      <td>True</td>\n",
       "      <td>True</td>\n",
       "      <td>True</td>\n",
       "      <td>True</td>\n",
       "      <td>True</td>\n",
       "      <td>True</td>\n",
       "      <td>True</td>\n",
       "      <td>True</td>\n",
       "      <td>True</td>\n",
       "    </tr>\n",
       "    <tr>\n",
       "      <th>1</th>\n",
       "      <td>True</td>\n",
       "      <td>True</td>\n",
       "      <td>True</td>\n",
       "      <td>True</td>\n",
       "      <td>True</td>\n",
       "      <td>True</td>\n",
       "      <td>True</td>\n",
       "      <td>True</td>\n",
       "      <td>True</td>\n",
       "      <td>True</td>\n",
       "      <td>True</td>\n",
       "      <td>True</td>\n",
       "    </tr>\n",
       "    <tr>\n",
       "      <th>2</th>\n",
       "      <td>True</td>\n",
       "      <td>True</td>\n",
       "      <td>True</td>\n",
       "      <td>True</td>\n",
       "      <td>True</td>\n",
       "      <td>True</td>\n",
       "      <td>True</td>\n",
       "      <td>True</td>\n",
       "      <td>True</td>\n",
       "      <td>True</td>\n",
       "      <td>True</td>\n",
       "      <td>True</td>\n",
       "    </tr>\n",
       "    <tr>\n",
       "      <th>3</th>\n",
       "      <td>True</td>\n",
       "      <td>True</td>\n",
       "      <td>True</td>\n",
       "      <td>True</td>\n",
       "      <td>True</td>\n",
       "      <td>True</td>\n",
       "      <td>True</td>\n",
       "      <td>False</td>\n",
       "      <td>False</td>\n",
       "      <td>True</td>\n",
       "      <td>True</td>\n",
       "      <td>True</td>\n",
       "    </tr>\n",
       "    <tr>\n",
       "      <th>4</th>\n",
       "      <td>False</td>\n",
       "      <td>True</td>\n",
       "      <td>True</td>\n",
       "      <td>True</td>\n",
       "      <td>True</td>\n",
       "      <td>True</td>\n",
       "      <td>True</td>\n",
       "      <td>True</td>\n",
       "      <td>True</td>\n",
       "      <td>True</td>\n",
       "      <td>True</td>\n",
       "      <td>True</td>\n",
       "    </tr>\n",
       "  </tbody>\n",
       "</table>\n",
       "</div>"
      ],
      "text/plain": [
       "     age country gender manager item1 item2 item3  item4  item5  date total  \\\n",
       "0   True    True   True    True  True  True  True   True   True  True  True   \n",
       "1   True    True   True    True  True  True  True   True   True  True  True   \n",
       "2   True    True   True    True  True  True  True   True   True  True  True   \n",
       "3   True    True   True    True  True  True  True  False  False  True  True   \n",
       "4  False    True   True    True  True  True  True   True   True  True  True   \n",
       "\n",
       "  agecat  \n",
       "0   True  \n",
       "1   True  \n",
       "2   True  \n",
       "3   True  \n",
       "4   True  "
      ]
     },
     "execution_count": 44,
     "metadata": {},
     "output_type": "execute_result"
    }
   ],
   "source": [
    "# 查看是否有缺失\n",
    "pd.isnull(leadership)\n",
    "pd.notnull(leadership)\n",
    "## 或\n",
    "leadership.isnull()\n",
    "leadership.notnull()"
   ]
  },
  {
   "cell_type": "markdown",
   "metadata": {},
   "source": [
    "缺失值的处理方法简单分为两种，一种是过滤，dropna或者是填充,fillna。\n",
    "\n",
    "如果缺失部分较少，剔除后对结果没有影响，采用第一种，否则用第二种。"
   ]
  },
  {
   "cell_type": "code",
   "execution_count": 53,
   "metadata": {
    "collapsed": false
   },
   "outputs": [
    {
     "data": {
      "text/html": [
       "<div>\n",
       "<table border=\"1\" class=\"dataframe\">\n",
       "  <thead>\n",
       "    <tr style=\"text-align: right;\">\n",
       "      <th></th>\n",
       "      <th>age</th>\n",
       "      <th>country</th>\n",
       "      <th>gender</th>\n",
       "      <th>manager</th>\n",
       "      <th>item1</th>\n",
       "      <th>item2</th>\n",
       "      <th>item3</th>\n",
       "      <th>item4</th>\n",
       "      <th>item5</th>\n",
       "      <th>date</th>\n",
       "      <th>total</th>\n",
       "      <th>agecat</th>\n",
       "    </tr>\n",
       "  </thead>\n",
       "  <tbody>\n",
       "    <tr>\n",
       "      <th>0</th>\n",
       "      <td>32.0</td>\n",
       "      <td>US</td>\n",
       "      <td>M</td>\n",
       "      <td>1</td>\n",
       "      <td>5</td>\n",
       "      <td>4</td>\n",
       "      <td>5</td>\n",
       "      <td>5.0</td>\n",
       "      <td>5.0</td>\n",
       "      <td>10/24/08</td>\n",
       "      <td>24.0</td>\n",
       "      <td>Young</td>\n",
       "    </tr>\n",
       "    <tr>\n",
       "      <th>1</th>\n",
       "      <td>45.0</td>\n",
       "      <td>US</td>\n",
       "      <td>F</td>\n",
       "      <td>2</td>\n",
       "      <td>3</td>\n",
       "      <td>5</td>\n",
       "      <td>2</td>\n",
       "      <td>5.0</td>\n",
       "      <td>5.0</td>\n",
       "      <td>10/28/08</td>\n",
       "      <td>20.0</td>\n",
       "      <td>Middle Aged</td>\n",
       "    </tr>\n",
       "    <tr>\n",
       "      <th>2</th>\n",
       "      <td>25.0</td>\n",
       "      <td>UK</td>\n",
       "      <td>F</td>\n",
       "      <td>3</td>\n",
       "      <td>3</td>\n",
       "      <td>5</td>\n",
       "      <td>5</td>\n",
       "      <td>5.0</td>\n",
       "      <td>2.0</td>\n",
       "      <td>10/1/08</td>\n",
       "      <td>20.0</td>\n",
       "      <td>Young</td>\n",
       "    </tr>\n",
       "    <tr>\n",
       "      <th>3</th>\n",
       "      <td>39.0</td>\n",
       "      <td>UK</td>\n",
       "      <td>M</td>\n",
       "      <td>4</td>\n",
       "      <td>3</td>\n",
       "      <td>3</td>\n",
       "      <td>4</td>\n",
       "      <td>NaN</td>\n",
       "      <td>NaN</td>\n",
       "      <td>10/12/08</td>\n",
       "      <td>10.0</td>\n",
       "      <td>Young</td>\n",
       "    </tr>\n",
       "    <tr>\n",
       "      <th>4</th>\n",
       "      <td>NaN</td>\n",
       "      <td>UK</td>\n",
       "      <td>F</td>\n",
       "      <td>5</td>\n",
       "      <td>2</td>\n",
       "      <td>2</td>\n",
       "      <td>1</td>\n",
       "      <td>2.0</td>\n",
       "      <td>1.0</td>\n",
       "      <td>5/1/09</td>\n",
       "      <td>8.0</td>\n",
       "      <td>Young</td>\n",
       "    </tr>\n",
       "  </tbody>\n",
       "</table>\n",
       "</div>"
      ],
      "text/plain": [
       "    age country gender  manager  item1  item2  item3  item4  item5      date  \\\n",
       "0  32.0      US      M        1      5      4      5    5.0    5.0  10/24/08   \n",
       "1  45.0      US      F        2      3      5      2    5.0    5.0  10/28/08   \n",
       "2  25.0      UK      F        3      3      5      5    5.0    2.0   10/1/08   \n",
       "3  39.0      UK      M        4      3      3      4    NaN    NaN  10/12/08   \n",
       "4   NaN      UK      F        5      2      2      1    2.0    1.0    5/1/09   \n",
       "\n",
       "   total       agecat  \n",
       "0   24.0        Young  \n",
       "1   20.0  Middle Aged  \n",
       "2   20.0        Young  \n",
       "3   10.0        Young  \n",
       "4    8.0        Young  "
      ]
     },
     "execution_count": 53,
     "metadata": {},
     "output_type": "execute_result"
    }
   ],
   "source": [
    "# 默认是axis=0, how='any'，也就是剔除有一个是NA的行\n",
    "newdata = leadership.dropna()\n",
    "# 按列剔除\n",
    "leadership.dropna(axis=1)\n",
    "# 仅剔除都是NA所在行\n",
    "leadership.dropna(axis=1, how='all')\n",
    "# inplace表示是否原始数据上操作\n",
    "leadership.dropna(axis=1, how='all', inplace=True)\n",
    "leadership"
   ]
  },
  {
   "cell_type": "markdown",
   "metadata": {},
   "source": [
    "### 日期值\n",
    "\n",
    "Python标准库自带日期（date)和时间（time)数据的数据类型，主要用的是dateime, time， calenda模块，在其中datetime.datetime是用得最多数据类型。pandas用to_datetime解析不同日期的表达方式。"
   ]
  },
  {
   "cell_type": "code",
   "execution_count": 55,
   "metadata": {
    "collapsed": true
   },
   "outputs": [],
   "source": [
    "# pd.to_datetime\n",
    "leadership['date'] = pd.to_datetime(leadership['date'])"
   ]
  },
  {
   "cell_type": "code",
   "execution_count": 56,
   "metadata": {
    "collapsed": false
   },
   "outputs": [
    {
     "data": {
      "text/html": [
       "<div>\n",
       "<table border=\"1\" class=\"dataframe\">\n",
       "  <thead>\n",
       "    <tr style=\"text-align: right;\">\n",
       "      <th></th>\n",
       "      <th>age</th>\n",
       "      <th>country</th>\n",
       "      <th>gender</th>\n",
       "      <th>manager</th>\n",
       "      <th>item1</th>\n",
       "      <th>item2</th>\n",
       "      <th>item3</th>\n",
       "      <th>item4</th>\n",
       "      <th>item5</th>\n",
       "      <th>date</th>\n",
       "      <th>total</th>\n",
       "      <th>agecat</th>\n",
       "    </tr>\n",
       "  </thead>\n",
       "  <tbody>\n",
       "    <tr>\n",
       "      <th>0</th>\n",
       "      <td>32.0</td>\n",
       "      <td>US</td>\n",
       "      <td>M</td>\n",
       "      <td>1</td>\n",
       "      <td>5</td>\n",
       "      <td>4</td>\n",
       "      <td>5</td>\n",
       "      <td>5.0</td>\n",
       "      <td>5.0</td>\n",
       "      <td>2008-10-24</td>\n",
       "      <td>24.0</td>\n",
       "      <td>Young</td>\n",
       "    </tr>\n",
       "    <tr>\n",
       "      <th>1</th>\n",
       "      <td>45.0</td>\n",
       "      <td>US</td>\n",
       "      <td>F</td>\n",
       "      <td>2</td>\n",
       "      <td>3</td>\n",
       "      <td>5</td>\n",
       "      <td>2</td>\n",
       "      <td>5.0</td>\n",
       "      <td>5.0</td>\n",
       "      <td>2008-10-28</td>\n",
       "      <td>20.0</td>\n",
       "      <td>Middle Aged</td>\n",
       "    </tr>\n",
       "    <tr>\n",
       "      <th>2</th>\n",
       "      <td>25.0</td>\n",
       "      <td>UK</td>\n",
       "      <td>F</td>\n",
       "      <td>3</td>\n",
       "      <td>3</td>\n",
       "      <td>5</td>\n",
       "      <td>5</td>\n",
       "      <td>5.0</td>\n",
       "      <td>2.0</td>\n",
       "      <td>2008-10-01</td>\n",
       "      <td>20.0</td>\n",
       "      <td>Young</td>\n",
       "    </tr>\n",
       "    <tr>\n",
       "      <th>3</th>\n",
       "      <td>39.0</td>\n",
       "      <td>UK</td>\n",
       "      <td>M</td>\n",
       "      <td>4</td>\n",
       "      <td>3</td>\n",
       "      <td>3</td>\n",
       "      <td>4</td>\n",
       "      <td>NaN</td>\n",
       "      <td>NaN</td>\n",
       "      <td>2008-10-12</td>\n",
       "      <td>10.0</td>\n",
       "      <td>Young</td>\n",
       "    </tr>\n",
       "    <tr>\n",
       "      <th>4</th>\n",
       "      <td>NaN</td>\n",
       "      <td>UK</td>\n",
       "      <td>F</td>\n",
       "      <td>5</td>\n",
       "      <td>2</td>\n",
       "      <td>2</td>\n",
       "      <td>1</td>\n",
       "      <td>2.0</td>\n",
       "      <td>1.0</td>\n",
       "      <td>2009-05-01</td>\n",
       "      <td>8.0</td>\n",
       "      <td>Young</td>\n",
       "    </tr>\n",
       "  </tbody>\n",
       "</table>\n",
       "</div>"
      ],
      "text/plain": [
       "    age country gender  manager  item1  item2  item3  item4  item5       date  \\\n",
       "0  32.0      US      M        1      5      4      5    5.0    5.0 2008-10-24   \n",
       "1  45.0      US      F        2      3      5      2    5.0    5.0 2008-10-28   \n",
       "2  25.0      UK      F        3      3      5      5    5.0    2.0 2008-10-01   \n",
       "3  39.0      UK      M        4      3      3      4    NaN    NaN 2008-10-12   \n",
       "4   NaN      UK      F        5      2      2      1    2.0    1.0 2009-05-01   \n",
       "\n",
       "   total       agecat  \n",
       "0   24.0        Young  \n",
       "1   20.0  Middle Aged  \n",
       "2   20.0        Young  \n",
       "3   10.0        Young  \n",
       "4    8.0        Young  "
      ]
     },
     "execution_count": 56,
     "metadata": {},
     "output_type": "execute_result"
    }
   ],
   "source": [
    "leadership"
   ]
  },
  {
   "cell_type": "markdown",
   "metadata": {},
   "source": [
    "### 类型转换"
   ]
  },
  {
   "cell_type": "code",
   "execution_count": 58,
   "metadata": {
    "collapsed": false
   },
   "outputs": [
    {
     "data": {
      "text/plain": [
       "True"
      ]
     },
     "execution_count": 58,
     "metadata": {},
     "output_type": "execute_result"
    }
   ],
   "source": [
    "#变量可以用isstance进行判断, 判断所属对象\n",
    "\n",
    "isinstance(leadership, DataFrame)\n",
    "# True"
   ]
  },
  {
   "cell_type": "code",
   "execution_count": 59,
   "metadata": {
    "collapsed": false
   },
   "outputs": [
    {
     "data": {
      "text/plain": [
       "array([  5.,   5.,   2.,  nan,   1.])"
      ]
     },
     "execution_count": 59,
     "metadata": {},
     "output_type": "execute_result"
    }
   ],
   "source": [
    "#数据结构之间的转变，则直接用对应的构建函数即可\n",
    "\n",
    "isinstance(leadership['item5'], Series)\n",
    "# True\n",
    "np.array(leadership['item5'])\n",
    "# array([5, 5, 2, 1], dtype=int64)\n"
   ]
  },
  {
   "cell_type": "code",
   "execution_count": 60,
   "metadata": {
    "collapsed": false
   },
   "outputs": [
    {
     "data": {
      "text/plain": [
       "dtype('<M8[ns]')"
      ]
     },
     "execution_count": 60,
     "metadata": {},
     "output_type": "execute_result"
    }
   ],
   "source": [
    "#查看数据类型则可以用.dytpe\n",
    "\n",
    "leadership['date'].dtype\n",
    "# dtype('<M8[ns]')"
   ]
  },
  {
   "cell_type": "code",
   "execution_count": 63,
   "metadata": {
    "collapsed": false
   },
   "outputs": [],
   "source": [
    "#而数据类型转换可以用.astype完成\n",
    "\n",
    "#leadership['item5'].dtype\n",
    "# dtype('float64')\n",
    "leadership['item3'] = leadership['item3'].astype(np.int64)"
   ]
  },
  {
   "cell_type": "markdown",
   "metadata": {},
   "source": [
    "### 数据排序\n",
    "\n",
    "pandas排序可以根据索引(by index),也可以根据数值(by values)\n",
    "\n",
    "如果根据索引，分为行名（axis=0)或者是列名（axis=1)"
   ]
  },
  {
   "cell_type": "code",
   "execution_count": 64,
   "metadata": {
    "collapsed": true
   },
   "outputs": [],
   "source": [
    "## 首先用reindex打乱顺序\n",
    "unsorted = leadership.reindex(index=[4,2,1,3,0])\n",
    "## 用sort_index()排序，参数有ascending，inplace， axis\n",
    "resorted = leadership.sort_index()"
   ]
  },
  {
   "cell_type": "code",
   "execution_count": 65,
   "metadata": {
    "collapsed": false
   },
   "outputs": [
    {
     "data": {
      "text/html": [
       "<div>\n",
       "<table border=\"1\" class=\"dataframe\">\n",
       "  <thead>\n",
       "    <tr style=\"text-align: right;\">\n",
       "      <th></th>\n",
       "      <th>age</th>\n",
       "      <th>country</th>\n",
       "      <th>gender</th>\n",
       "      <th>manager</th>\n",
       "      <th>item1</th>\n",
       "      <th>item2</th>\n",
       "      <th>item3</th>\n",
       "      <th>item4</th>\n",
       "      <th>item5</th>\n",
       "      <th>date</th>\n",
       "      <th>total</th>\n",
       "      <th>agecat</th>\n",
       "    </tr>\n",
       "  </thead>\n",
       "  <tbody>\n",
       "    <tr>\n",
       "      <th>0</th>\n",
       "      <td>32.0</td>\n",
       "      <td>US</td>\n",
       "      <td>M</td>\n",
       "      <td>1</td>\n",
       "      <td>5</td>\n",
       "      <td>4</td>\n",
       "      <td>5</td>\n",
       "      <td>5.0</td>\n",
       "      <td>5.0</td>\n",
       "      <td>2008-10-24</td>\n",
       "      <td>24.0</td>\n",
       "      <td>Young</td>\n",
       "    </tr>\n",
       "    <tr>\n",
       "      <th>3</th>\n",
       "      <td>39.0</td>\n",
       "      <td>UK</td>\n",
       "      <td>M</td>\n",
       "      <td>4</td>\n",
       "      <td>3</td>\n",
       "      <td>3</td>\n",
       "      <td>4</td>\n",
       "      <td>NaN</td>\n",
       "      <td>NaN</td>\n",
       "      <td>2008-10-12</td>\n",
       "      <td>10.0</td>\n",
       "      <td>Young</td>\n",
       "    </tr>\n",
       "    <tr>\n",
       "      <th>1</th>\n",
       "      <td>45.0</td>\n",
       "      <td>US</td>\n",
       "      <td>F</td>\n",
       "      <td>2</td>\n",
       "      <td>3</td>\n",
       "      <td>5</td>\n",
       "      <td>2</td>\n",
       "      <td>5.0</td>\n",
       "      <td>5.0</td>\n",
       "      <td>2008-10-28</td>\n",
       "      <td>20.0</td>\n",
       "      <td>Middle Aged</td>\n",
       "    </tr>\n",
       "    <tr>\n",
       "      <th>2</th>\n",
       "      <td>25.0</td>\n",
       "      <td>UK</td>\n",
       "      <td>F</td>\n",
       "      <td>3</td>\n",
       "      <td>3</td>\n",
       "      <td>5</td>\n",
       "      <td>5</td>\n",
       "      <td>5.0</td>\n",
       "      <td>2.0</td>\n",
       "      <td>2008-10-01</td>\n",
       "      <td>20.0</td>\n",
       "      <td>Young</td>\n",
       "    </tr>\n",
       "    <tr>\n",
       "      <th>4</th>\n",
       "      <td>NaN</td>\n",
       "      <td>UK</td>\n",
       "      <td>F</td>\n",
       "      <td>5</td>\n",
       "      <td>2</td>\n",
       "      <td>2</td>\n",
       "      <td>1</td>\n",
       "      <td>2.0</td>\n",
       "      <td>1.0</td>\n",
       "      <td>2009-05-01</td>\n",
       "      <td>8.0</td>\n",
       "      <td>Young</td>\n",
       "    </tr>\n",
       "  </tbody>\n",
       "</table>\n",
       "</div>"
      ],
      "text/plain": [
       "    age country gender  manager  item1  item2  item3  item4  item5       date  \\\n",
       "0  32.0      US      M        1      5      4      5    5.0    5.0 2008-10-24   \n",
       "3  39.0      UK      M        4      3      3      4    NaN    NaN 2008-10-12   \n",
       "1  45.0      US      F        2      3      5      2    5.0    5.0 2008-10-28   \n",
       "2  25.0      UK      F        3      3      5      5    5.0    2.0 2008-10-01   \n",
       "4   NaN      UK      F        5      2      2      1    2.0    1.0 2009-05-01   \n",
       "\n",
       "   total       agecat  \n",
       "0   24.0        Young  \n",
       "3   10.0        Young  \n",
       "1   20.0  Middle Aged  \n",
       "2   20.0        Young  \n",
       "4    8.0        Young  "
      ]
     },
     "execution_count": 65,
     "metadata": {},
     "output_type": "execute_result"
    }
   ],
   "source": [
    "#如果根据数值, 可以提供多个列，然后指定每列的升降序\n",
    "leadership.sort_values(by=['item1','item2'], ascending=[False,True])"
   ]
  },
  {
   "cell_type": "markdown",
   "metadata": {},
   "source": [
    "### 数据集的合并\n",
    "\n",
    "数据集的合并分为添加列或是添加行。pandas具备按轴（行或列）自动或显式数据对其功能。并且底层是C编写，所以处理合并速度极快。以官方文档为例, 主要回到两个函数pd.concat，pd.append和pd.merge\n",
    "\n",
    "    pd.merge 可以根据一个或多个键将不同的DataFrame中的行链接起来，类似于R的merge，但是速度更快\n",
    "\n",
    "    pd.concat 可以根据一条轴将多个对象堆叠在一起。\n",
    "\n",
    "对于pd.merge而言，如果用过R语言的merge或者是SQL等关系型数据库的连接操作，基本上能很快理解。"
   ]
  },
  {
   "cell_type": "code",
   "execution_count": 66,
   "metadata": {
    "collapsed": false,
    "scrolled": true
   },
   "outputs": [
    {
     "data": {
      "text/html": [
       "<div>\n",
       "<table border=\"1\" class=\"dataframe\">\n",
       "  <thead>\n",
       "    <tr style=\"text-align: right;\">\n",
       "      <th></th>\n",
       "      <th>data1</th>\n",
       "      <th>key</th>\n",
       "      <th>data2</th>\n",
       "    </tr>\n",
       "  </thead>\n",
       "  <tbody>\n",
       "    <tr>\n",
       "      <th>0</th>\n",
       "      <td>0</td>\n",
       "      <td>b</td>\n",
       "      <td>1</td>\n",
       "    </tr>\n",
       "    <tr>\n",
       "      <th>1</th>\n",
       "      <td>1</td>\n",
       "      <td>b</td>\n",
       "      <td>1</td>\n",
       "    </tr>\n",
       "    <tr>\n",
       "      <th>2</th>\n",
       "      <td>6</td>\n",
       "      <td>b</td>\n",
       "      <td>1</td>\n",
       "    </tr>\n",
       "    <tr>\n",
       "      <th>3</th>\n",
       "      <td>2</td>\n",
       "      <td>a</td>\n",
       "      <td>0</td>\n",
       "    </tr>\n",
       "    <tr>\n",
       "      <th>4</th>\n",
       "      <td>4</td>\n",
       "      <td>a</td>\n",
       "      <td>0</td>\n",
       "    </tr>\n",
       "    <tr>\n",
       "      <th>5</th>\n",
       "      <td>5</td>\n",
       "      <td>a</td>\n",
       "      <td>0</td>\n",
       "    </tr>\n",
       "  </tbody>\n",
       "</table>\n",
       "</div>"
      ],
      "text/plain": [
       "   data1 key  data2\n",
       "0      0   b      1\n",
       "1      1   b      1\n",
       "2      6   b      1\n",
       "3      2   a      0\n",
       "4      4   a      0\n",
       "5      5   a      0"
      ]
     },
     "execution_count": 66,
     "metadata": {},
     "output_type": "execute_result"
    }
   ],
   "source": [
    "df1 = DataFrame({'key':['b','b','a','c','a','a','b'], 'data1':range(7)})\n",
    "df2 = DataFrame({'key':['a','b','d'], 'data2':range(3)})\n",
    "# 没有显示指明键\n",
    "pd.merge(df1,df2)\n",
    "# 使用on，进行指明，如果左右不同，则需要用left_on, right_on指定\n",
    "pd.merge(df1, df2, on='key')"
   ]
  },
  {
   "cell_type": "code",
   "execution_count": 67,
   "metadata": {
    "collapsed": false
   },
   "outputs": [
    {
     "data": {
      "text/html": [
       "<div>\n",
       "<table border=\"1\" class=\"dataframe\">\n",
       "  <thead>\n",
       "    <tr style=\"text-align: right;\">\n",
       "      <th></th>\n",
       "      <th>0</th>\n",
       "      <th>1</th>\n",
       "      <th>2</th>\n",
       "    </tr>\n",
       "  </thead>\n",
       "  <tbody>\n",
       "    <tr>\n",
       "      <th>a</th>\n",
       "      <td>0.0</td>\n",
       "      <td>NaN</td>\n",
       "      <td>NaN</td>\n",
       "    </tr>\n",
       "    <tr>\n",
       "      <th>b</th>\n",
       "      <td>1.0</td>\n",
       "      <td>NaN</td>\n",
       "      <td>NaN</td>\n",
       "    </tr>\n",
       "    <tr>\n",
       "      <th>c</th>\n",
       "      <td>NaN</td>\n",
       "      <td>2.0</td>\n",
       "      <td>NaN</td>\n",
       "    </tr>\n",
       "    <tr>\n",
       "      <th>d</th>\n",
       "      <td>NaN</td>\n",
       "      <td>3.0</td>\n",
       "      <td>NaN</td>\n",
       "    </tr>\n",
       "    <tr>\n",
       "      <th>e</th>\n",
       "      <td>NaN</td>\n",
       "      <td>4.0</td>\n",
       "      <td>NaN</td>\n",
       "    </tr>\n",
       "    <tr>\n",
       "      <th>f</th>\n",
       "      <td>NaN</td>\n",
       "      <td>NaN</td>\n",
       "      <td>5.0</td>\n",
       "    </tr>\n",
       "    <tr>\n",
       "      <th>g</th>\n",
       "      <td>NaN</td>\n",
       "      <td>NaN</td>\n",
       "      <td>6.0</td>\n",
       "    </tr>\n",
       "  </tbody>\n",
       "</table>\n",
       "</div>"
      ],
      "text/plain": [
       "     0    1    2\n",
       "a  0.0  NaN  NaN\n",
       "b  1.0  NaN  NaN\n",
       "c  NaN  2.0  NaN\n",
       "d  NaN  3.0  NaN\n",
       "e  NaN  4.0  NaN\n",
       "f  NaN  NaN  5.0\n",
       "g  NaN  NaN  6.0"
      ]
     },
     "execution_count": 67,
     "metadata": {},
     "output_type": "execute_result"
    }
   ],
   "source": [
    "#而另一类pd.concat则是根据轴的标签进行合并。\n",
    "\n",
    "s1 = Series([0,1], index=['a','b'])\n",
    "s2 = Series([2,3,4], index=['c','d','e'])\n",
    "s3 = Series([5,6], index=['f','g'])\n",
    "pd.concat([s1,s2,s3], axis=1)"
   ]
  },
  {
   "cell_type": "markdown",
   "metadata": {},
   "source": [
    "##  数据集取子集\n",
    "\n",
    "这部分内容在前面有所提及，这里在基础上继续介绍\n",
    "\n",
    "    选入（保留）变量，可以认为是选择列\n",
    "    选入变量，可以通过DataFrame.ix[行索引， 列索引]这样记号来访问"
   ]
  },
  {
   "cell_type": "code",
   "execution_count": 68,
   "metadata": {
    "collapsed": true
   },
   "outputs": [],
   "source": [
    "new_data =  leadership.ix[:,6:10]\n",
    "\n",
    "#其中:,表示选取所有行。"
   ]
  },
  {
   "cell_type": "code",
   "execution_count": 69,
   "metadata": {
    "collapsed": false
   },
   "outputs": [
    {
     "data": {
      "text/plain": [
       "0   2008-10-24\n",
       "1   2008-10-28\n",
       "2   2008-10-01\n",
       "3   2008-10-12\n",
       "4   2009-05-01\n",
       "Name: date, dtype: datetime64[ns]"
      ]
     },
     "execution_count": 69,
     "metadata": {},
     "output_type": "execute_result"
    }
   ],
   "source": [
    "#如果是直接选取某一个列，pandas用.对应R的$\n",
    "\n",
    "leadership.date"
   ]
  },
  {
   "cell_type": "code",
   "execution_count": 70,
   "metadata": {
    "collapsed": true
   },
   "outputs": [],
   "source": [
    "#剔除（丢弃)变量\n",
    "#比如说我们想剔除q3和q4两列\n",
    "\n",
    "myvars = leadership.columns.isin(['item4','item5'])\n",
    "new_data = leadership.ix[:,np.logical_not(myvars)]"
   ]
  },
  {
   "cell_type": "code",
   "execution_count": 71,
   "metadata": {
    "collapsed": false
   },
   "outputs": [
    {
     "data": {
      "text/html": [
       "<div>\n",
       "<table border=\"1\" class=\"dataframe\">\n",
       "  <thead>\n",
       "    <tr style=\"text-align: right;\">\n",
       "      <th></th>\n",
       "      <th>age</th>\n",
       "      <th>country</th>\n",
       "      <th>gender</th>\n",
       "      <th>manager</th>\n",
       "      <th>item1</th>\n",
       "      <th>item2</th>\n",
       "      <th>item3</th>\n",
       "      <th>item4</th>\n",
       "      <th>item5</th>\n",
       "      <th>date</th>\n",
       "      <th>total</th>\n",
       "      <th>agecat</th>\n",
       "    </tr>\n",
       "  </thead>\n",
       "  <tbody>\n",
       "    <tr>\n",
       "      <th>0</th>\n",
       "      <td>32.0</td>\n",
       "      <td>US</td>\n",
       "      <td>M</td>\n",
       "      <td>1</td>\n",
       "      <td>5</td>\n",
       "      <td>4</td>\n",
       "      <td>5</td>\n",
       "      <td>5.0</td>\n",
       "      <td>5.0</td>\n",
       "      <td>2008-10-24</td>\n",
       "      <td>24.0</td>\n",
       "      <td>Young</td>\n",
       "    </tr>\n",
       "    <tr>\n",
       "      <th>3</th>\n",
       "      <td>39.0</td>\n",
       "      <td>UK</td>\n",
       "      <td>M</td>\n",
       "      <td>4</td>\n",
       "      <td>3</td>\n",
       "      <td>3</td>\n",
       "      <td>4</td>\n",
       "      <td>NaN</td>\n",
       "      <td>NaN</td>\n",
       "      <td>2008-10-12</td>\n",
       "      <td>10.0</td>\n",
       "      <td>Young</td>\n",
       "    </tr>\n",
       "  </tbody>\n",
       "</table>\n",
       "</div>"
      ],
      "text/plain": [
       "    age country gender  manager  item1  item2  item3  item4  item5       date  \\\n",
       "0  32.0      US      M        1      5      4      5    5.0    5.0 2008-10-24   \n",
       "3  39.0      UK      M        4      3      3      4    NaN    NaN 2008-10-12   \n",
       "\n",
       "   total agecat  \n",
       "0   24.0  Young  \n",
       "3   10.0  Young  "
      ]
     },
     "execution_count": 71,
     "metadata": {},
     "output_type": "execute_result"
    }
   ],
   "source": [
    "#选入观测\n",
    "#选入或剔除观测（行）通常是成功的数据准备和数据分析的一个关键方面。比如说让我们选取30岁以上的男性\n",
    "\n",
    "leadership.ix[np.logical_and(leadership.gender == 'M', leadership.age > 30),:]"
   ]
  },
  {
   "cell_type": "code",
   "execution_count": 72,
   "metadata": {
    "collapsed": false
   },
   "outputs": [
    {
     "data": {
      "text/html": [
       "<div>\n",
       "<table border=\"1\" class=\"dataframe\">\n",
       "  <thead>\n",
       "    <tr style=\"text-align: right;\">\n",
       "      <th></th>\n",
       "      <th>age</th>\n",
       "      <th>country</th>\n",
       "      <th>gender</th>\n",
       "      <th>manager</th>\n",
       "      <th>item1</th>\n",
       "      <th>item2</th>\n",
       "      <th>item3</th>\n",
       "      <th>item4</th>\n",
       "      <th>item5</th>\n",
       "      <th>date</th>\n",
       "      <th>total</th>\n",
       "      <th>agecat</th>\n",
       "    </tr>\n",
       "  </thead>\n",
       "  <tbody>\n",
       "    <tr>\n",
       "      <th>0</th>\n",
       "      <td>32.0</td>\n",
       "      <td>US</td>\n",
       "      <td>M</td>\n",
       "      <td>1</td>\n",
       "      <td>5</td>\n",
       "      <td>4</td>\n",
       "      <td>5</td>\n",
       "      <td>5.0</td>\n",
       "      <td>5.0</td>\n",
       "      <td>2008-10-24</td>\n",
       "      <td>24.0</td>\n",
       "      <td>Young</td>\n",
       "    </tr>\n",
       "  </tbody>\n",
       "</table>\n",
       "</div>"
      ],
      "text/plain": [
       "    age country gender  manager  item1  item2  item3  item4  item5       date  \\\n",
       "0  32.0      US      M        1      5      4      5    5.0    5.0 2008-10-24   \n",
       "\n",
       "   total agecat  \n",
       "0   24.0  Young  "
      ]
     },
     "execution_count": 72,
     "metadata": {},
     "output_type": "execute_result"
    }
   ],
   "source": [
    "#你会感觉这样写代码太长了，我们需要一个类似R的subset的函数，在pandas对应的是query.\n",
    "\n",
    "leadership.query('age <35 and gender == \"M\"')"
   ]
  },
  {
   "cell_type": "code",
   "execution_count": 74,
   "metadata": {
    "collapsed": false
   },
   "outputs": [
    {
     "data": {
      "text/html": [
       "<div>\n",
       "<table border=\"1\" class=\"dataframe\">\n",
       "  <thead>\n",
       "    <tr style=\"text-align: right;\">\n",
       "      <th></th>\n",
       "      <th>age</th>\n",
       "      <th>country</th>\n",
       "      <th>gender</th>\n",
       "      <th>manager</th>\n",
       "      <th>item1</th>\n",
       "      <th>item2</th>\n",
       "      <th>item3</th>\n",
       "      <th>item4</th>\n",
       "      <th>item5</th>\n",
       "      <th>date</th>\n",
       "      <th>total</th>\n",
       "      <th>agecat</th>\n",
       "    </tr>\n",
       "  </thead>\n",
       "  <tbody>\n",
       "    <tr>\n",
       "      <th>3</th>\n",
       "      <td>39.0</td>\n",
       "      <td>UK</td>\n",
       "      <td>M</td>\n",
       "      <td>4</td>\n",
       "      <td>3</td>\n",
       "      <td>3</td>\n",
       "      <td>4</td>\n",
       "      <td>NaN</td>\n",
       "      <td>NaN</td>\n",
       "      <td>2008-10-12</td>\n",
       "      <td>10.0</td>\n",
       "      <td>Young</td>\n",
       "    </tr>\n",
       "    <tr>\n",
       "      <th>3</th>\n",
       "      <td>39.0</td>\n",
       "      <td>UK</td>\n",
       "      <td>M</td>\n",
       "      <td>4</td>\n",
       "      <td>3</td>\n",
       "      <td>3</td>\n",
       "      <td>4</td>\n",
       "      <td>NaN</td>\n",
       "      <td>NaN</td>\n",
       "      <td>2008-10-12</td>\n",
       "      <td>10.0</td>\n",
       "      <td>Young</td>\n",
       "    </tr>\n",
       "  </tbody>\n",
       "</table>\n",
       "</div>"
      ],
      "text/plain": [
       "    age country gender  manager  item1  item2  item3  item4  item5       date  \\\n",
       "3  39.0      UK      M        4      3      3      4    NaN    NaN 2008-10-12   \n",
       "3  39.0      UK      M        4      3      3      4    NaN    NaN 2008-10-12   \n",
       "\n",
       "   total agecat  \n",
       "3   10.0  Young  \n",
       "3   10.0  Young  "
      ]
     },
     "execution_count": 74,
     "metadata": {},
     "output_type": "execute_result"
    }
   ],
   "source": [
    "#随机抽样\n",
    "#pandas提供了sample方法用于对样本进行抽样。\n",
    "\n",
    "leadership.sample(n=None, frac=None, replace=False, weights=None, random_state=None, axis=None)\n",
    "# replace表示是否放回。\n",
    "# 可以按数量\n",
    "leadership.sample(n=2, replace=True)\n",
    "# 可以按照比例\n",
    "leadership.sample(frac=0.5, replace=True)"
   ]
  },
  {
   "cell_type": "markdown",
   "metadata": {},
   "source": [
    "### 小结\n",
    "\n",
    "本文讲解了大量的基础知识。我们以R语言实战的一个数据为例，讲解了如何在Python如何创建一个DataFrame对象（手动或导入），然后根据已有变量创建新变量，对变量重编码，重命名变量。之后是缺失数据的处理，对于pandas，这部分介绍用dropna按行或按列丢弃，然后是日期值部分。 关于数据转换，分为数据结构和数据类型两部分。之后介绍了数据合并，并且以表达量矩阵合并为例实际操作，最后是数据取子集和抽样。\n",
    "\n",
    "当我们学会基本的数据处理之后，我们接着就可以根据不计其数函数进行更高级的操作。\n",
    "\n",
    "    当你看完后续的部分，你就能掌握复杂数据集的多数工具。无论你走到哪里，都将成为数据分析师艳羡的人物！ --From R语言实战"
   ]
  },
  {
   "cell_type": "markdown",
   "metadata": {},
   "source": [
    "像学R一样学Python数据分析 \n",
    "https://mp.weixin.qq.com/s?__biz=MzI1MjU5MjMzNA==&mid=2247484576&idx=1&sn=44cc2067f1a5de2a25b529405b363e01&chksm=e9e02d01de97a4175d103658eaad5ea0cb80fe978a87f4a859c192efea481e815ea5518c0cc8"
   ]
  },
  {
   "cell_type": "code",
   "execution_count": null,
   "metadata": {
    "collapsed": true
   },
   "outputs": [],
   "source": []
  }
 ],
 "metadata": {
  "kernelspec": {
   "display_name": "Python 3",
   "language": "python",
   "name": "python3"
  },
  "language_info": {
   "codemirror_mode": {
    "name": "ipython",
    "version": 3
   },
   "file_extension": ".py",
   "mimetype": "text/x-python",
   "name": "python",
   "nbconvert_exporter": "python",
   "pygments_lexer": "ipython3",
   "version": "3.6.0"
  }
 },
 "nbformat": 4,
 "nbformat_minor": 2
}
